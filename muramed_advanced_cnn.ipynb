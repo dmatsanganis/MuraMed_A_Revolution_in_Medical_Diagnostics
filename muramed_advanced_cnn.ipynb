{
 "cells": [
  {
   "cell_type": "markdown",
   "id": "5b4ce2e7",
   "metadata": {
    "id": "5b4ce2e7"
   },
   "source": [
    "## MuraMed: A Revolution in Medical Diagnostics\n",
    "---\n",
    "\n",
    "**MuraMed** is an innovative healthcare technology company that aims to revolutionize medical diagnostics with a focus on radiographs (X-Ray images). In the intricate landscape of today's healthcare, the company addresses the vital need for accurate, efficient, and swift diagnosis. MuraMed's specialization lies in detecting bone abnormalities, and it offers an AI-powered diagnostic system tailored for healthcare professionals. This initiative is particularly significant for radiology, a field often challenged by the timeliness and precision of X-ray image interpretation. A brief description of our **MuraMed's Business Case** follows below.\n",
    "\n",
    "In the domain of medical diagnostics, particularly in the field of **bone abnormality detection**, MuraMed has established a unique presence for itself. Using advanced AI technologies, MuraMed has developed a diagnostic system that is highly effective. This system doesn't just represent a technological advancement; it signifies a shift in how musculoskeletal conditions are diagnosed, making it faster and more accurate. This initiative has the potential to improve patient outcomes and overall well-being significantly for those with musculoskeletal disorders.\n",
    "\n",
    "However, **MuraMed**'s expertise extends beyond bone abnormality detection; it also encompasses a broader revolution in **radiology**. The company is at the forefront of integrating Artificial Intelligence into this critical medical field, offering solutions that address the challenges faced by healthcare providers. The AI-driven approach adopted by MuraMed reduces the inefficiencies and human errors associated with traditional diagnostic methods. By providing radiologists and orthopedic doctors with user-friendly AI tools, MuraMed ensures that healthcare providers can make quick, well-informed decisions, ultimately enhancing patient care.\n",
    "\n",
    "The **versatility** of MuraMed's technological platform is another key feature. The application is designed not only to meet the needs of experienced medical professionals but also to extend its benefits to a wider audience, including athletes, teachers, and physiotherapists. These individuals can use this platform for early detection and intervention of musculoskeletal issues. This inclusive approach democratizes diagnostic capabilities, making proactive healthcare more accessible. Through this multifaceted approach, **MuraMed** is set to make a lasting impact across various sectors, from specialized medicine to community healthcare and beyond.\n",
    "\n",
    "\n",
    "\n",
    "<div style=\"text-align: center;\">\n",
    "  <figure>\n",
    "    <img src=\"./Figures/muramed_logo.png\" alt=\"MuraMed Logo\" style=\"width:35%\">\n",
    "    <figcaption>MuraMed: A Revolution in Medical Diagnostics</figcaption>\n",
    "  </figure>\n",
    "</div>\n",
    "\n",
    "\n",
    "When it comes to **MuraMed**'s long-term goals, the company's **Mission and Vision** serve as guiding principles. The company is not solely focused on providing AI-powered diagnostic solutions; it has a broader vision of impacting global healthcare. Specifically, MuraMed aims to ensure that quality healthcare is available to areas facing a severe shortage of skilled radiologists. This vision is not restricted to large healthcare facilities but extends to smaller clinics and even beyond the boundaries of the traditional healthcare industry. By integrating advanced AI algorithms with a specialized focus on bone abnormalities and a versatile application range, MuraMed aims to revolutionize medical diagnostics in an unprecedented manner. Through these initiatives, the company is set to bring about monumental changes that will redefine the landscape of healthcare, making quality diagnostic services accessible and affordable to all.\n",
    "\n",
    "Similarly, the inherent **Value of MuraMed's Research** cannot be overstated. The company's research initiatives are designed to make substantial contributions across multiple domains, including healthcare, technology, business, and innovation. This multi-disciplinary approach not only highlights the company's commitment to improving patient care but also signals its intent to push the boundaries of existing technology. **MuraMed** is invested in creating a harmonious blend of technology and healthcare, using AI as a tool to bridge gaps and address inefficiencies in the current medical systems. Consequently, the company's research serves as a catalyst for business growth, as it opens up new opportunities for expansion and partnerships.\n",
    "\n",
    "In summary, both the mission and the research values of **MuraMed** underscore its commitment to being more than just a healthcare technology company. It strives to be a change-maker in the industry, leveraging technology to address crucial gaps in healthcare accessibility and quality. By doing so, MuraMed aims to foster not just business growth but also societal advancement, setting new standards in healthcare, technology, and innovation.\n",
    "\n",
    "---\n",
    "\n",
    "For further insights into **MuraMed**'s groundbreaking work, one can refer to the comprehensive document: *[MuraMed_Documentation.pdf](./MuraMed_Documentation.pdf)*.\n",
    "\n",
    "While the current analysis will be done on [Jupyter Notebook](http://jupyter.org/) and in [Python 3.10.0](https://www.python.org/downloads/release/python-3100/).\n",
    "\n",
    "---\n",
    "\n",
    "####  Team members:\n",
    "\n",
    "---\n",
    "> Dimitra Diamanti <br />\n",
    "> Academic ID: f2822209 <br />\n",
    "> MSc Business Analytics 2022-2023 FT <br />\n",
    "> Athens University of Economics and Business <br />\n",
    "> dtdiamanti@gmail.com, dim.diamanti@aueb.gr\n",
    "\n",
    "---\n",
    "\n",
    "> Dimitrios Matsanganis <br />\n",
    "> Academic ID: f2822212 <br />\n",
    "> MSc Business Analytics 2022-2023 FT <br />\n",
    "> Athens University of Economics and Business <br />\n",
    "> dmatsanganis@gmail.com, dim.matsanganis@aueb.gr\n",
    "\n",
    "---\n",
    "\n",
    "> Foteini Nefeli Nouskali <br />\n",
    "> Academic ID: f2822213 <br />\n",
    "> MSc Business Analytics 2022-2023 FT <br />\n",
    "> Athens University of Economics and Business <br />\n",
    "> fn.nouskali@gmail.com, fot.nouskali@aueb.gr\n",
    "\n",
    "---\n",
    "\n",
    "> Hegla Eva Ruci <br />\n",
    "> Academic ID: f2822219 <br />\n",
    "> MSc Business Analytics 2022-2023 FT <br />\n",
    "> Athens University of Economics and Business <br />\n",
    "> eva.14rou@gmail.com, heg.ruci@aueb.gr\n",
    "---"
   ]
  },
  {
   "cell_type": "markdown",
   "id": "f4ef1083",
   "metadata": {
    "id": "f4ef1083"
   },
   "source": [
    "### Detailed Overview of MuraMed's Business Case\n",
    "\n",
    "---\n",
    "\n",
    "As mentioned briefly above, **MuraMed's Business Case** is a comprehensive blueprint that outlines the company's strategic approach to revolutionize medical diagnostics, specifically focusing on musculoskeletal radiographs. By leveraging advanced AI and deep learning technologies, MuraMed aims to fill critical gaps in the healthcare, sports, and workplace sectors. The business case is built around three core pillars, each designed to cater to the unique needs of different demographic groups and industries.\n",
    "\n",
    "\n",
    "#### The Three Core Pillars of MuraMed's Business Case\n",
    "\n",
    "1. **MuraMed: Healthcare Edition**\n",
    "    - This pillar serves as the cornerstone of MuraMed's business model, targeting traditional healthcare facilities like hospitals and clinics. By focusing on specific areas like the hand, elbow, and shoulder, it aims to bring unparalleled precision to musculoskeletal radiograph analysis. The platform's AI-backed second opinion feature is particularly beneficial for radiologists and orthopedic doctors, enhancing diagnostic accuracy and efficiency. Furthermore, its seamless integration capabilities with existing hospital systems make it an invaluable asset in accelerating diagnostic services.\n",
    "\n",
    "\n",
    "2. **MuraMed: School & Sports Organization Edition**\n",
    "    - Tailored for the unique needs of young athletes and students, this pillar extends MuraMed's reach beyond conventional healthcare settings. By offering real-time detection of musculoskeletal abnormalities, it plays a transformative role in sports medicine. The platform is designed to be versatile, applicable in sports activities where hand injuries are common, such as basketball, volleyball, and handball. With its potential to positively impact the health and performance of young athletes, this pillar significantly broadens MuraMed's market reach.\n",
    "\n",
    "\n",
    "3. **MuraMed: Workplace Edition**\n",
    "    - Addressing the growing concern of work-related musculoskeletal disorders (MSDs), this pillar is designed for a broad range of industries. From manual labor-intensive sectors to office-based jobs, it aims to tackle the unique challenges each profession faces concerning MSDs. The platform offers regular employee check-ups and ergonomic evaluations as preventive measures. Supported by alarming statistics from the U.S. Department of Labor, this pillar emphasizes the need for early detection and management of hand and upper limb conditions, thereby promoting healthier workplaces.\n",
    "\n",
    "---\n",
    "\n",
    "#### Strategic Importance\n",
    "\n",
    "The strategic alignment of these three pillars enables MuraMed to offer specialized solutions that address the nuanced needs of various sectors. From healthcare professionals requiring precise and rapid diagnostics to sports organizations and workplaces seeking to enhance well-being and performance, MuraMed's comprehensive business case sets a new benchmark in the realm of musculoskeletal health diagnostics.\n",
    "\n",
    "By integrating cutting-edge AI technologies with sector-specific requirements, MuraMed's business case presents a multifaceted approach to improve diagnostic accuracy, efficiency, and accessibility across different verticals. It not only targets the immediate needs of these sectors but also positions the company for future growth and innovation in the rapidly evolving landscape of medical diagnostics."
   ]
  },
  {
   "cell_type": "markdown",
   "id": "1b6b3958",
   "metadata": {
    "id": "1b6b3958"
   },
   "source": [
    "---\n",
    "\n",
    "### Mura Dataset\n",
    "\n",
    "At the core of **MuraMed**'s capabilities is its reliance on extensive datasets provided by Stanford University, known as the MURA datasets (combine for different parts of the human body). These datasets are a rich library of manually reviewed and labeled musculoskeletal radiographs, focusing on multiple body parts such as the wrist, shoulder, elbow, and more. The datasets form the backbone of MuraMed's AI algorithms, enabling them to accurately identify normal or abnormal characteristics in X-ray studies. More information about the MURA dataset can be found at [Stanford's ML site](https://stanfordmlgroup.github.io/competitions/mura/) or at [Kaggle](https://www.kaggle.com/datasets/cjinny/mura-v11/download?datasetVersionNumber=1).\n",
    "\n",
    "<br>\n",
    "<br>\n",
    "<div style=\"text-align: center;\">\n",
    "  <figure>\n",
    "    <img src=\"./Figures/muramed1.png\" alt=\"Official Stanford ML Logo\" style=\"width:30%\">\n",
    "    <figcaption>Figure 1. Official Stanford ML Logo</figcaption>\n",
    "  </figure>\n",
    "</div>\n",
    "<br>\n",
    "\n",
    "Currently, our algorithms are designed to *focus on the aforementioned body parts*. Their primary task is to determine whether an X-ray study of these areas exhibits normal or abnormal characteristics. In the near future, we plan to expand our AI capabilities to involve a broader spectrum of anatomical regions , further enhancing our diagnostic capabilities.\n",
    "\n",
    "<br><br>\n",
    "<div style=\"text-align: center;\">\n",
    "  <figure>\n",
    "    <img src=\"./Figures/muramed2.jpg\" alt=\"A detailed image showcasing the anatomical parts included in the Mura Dataset\" style=\"width:20%\">\n",
    "    <figcaption>Figure 2. A detailed image showcasing the anatomical parts included in the Mura Dataset</figcaption>\n",
    "  </figure>\n",
    "</div>"
   ]
  },
  {
   "cell_type": "markdown",
   "id": "c6ec4f59",
   "metadata": {
    "id": "c6ec4f59"
   },
   "source": [
    "### Transitioning from Business Vision to Technical Implementation - Roadmap\n",
    "---\n",
    "Having presented the core objectives and innovative prospects of our business idea, it is essential to move on to the technical implementation phase. To ensure clarity, smooth execution, and enhance stakeholder understanding, we present the following roadmap.\n",
    "\n",
    "\n",
    "### **Table of Contents**\n",
    "[1. Libraries and Installation Guidelines](#libraries-and-installation-guidelines) <br>\n",
    "[2. MURA Dataset](#mura-dataset) <br>\n",
    "[3. Data Loading and Feature Engineering Transformation Workflow](#data-loading-and-feature-engineering-transformation-workflow) <br>\n",
    "[4. Exploring Distribution of Normal and Abnormal Case Studies Across Anatomical Body Parts in MURA Dataset](#exploring-distribution-of-normal-and-abnormal-case-studies-across-anatomical-body-parts-in-mura-dataset) <br>\n",
    "[5. Data Splitting Training and Validation Sets](#data-splitting-training-and-validation-sets) <br>\n",
    "&nbsp;&nbsp;&nbsp;&nbsp;[5.1 Analyzing Case Study Distribution for CNN Implementation in the MURA Dataset](#analyzing-case-study-distribution-for-cnn-implementation-in-the-mura-dataset) <br>\n",
    "[6. Image Data Generation and Augmentation](#image-data-generation-and-augmentation) <br>\n",
    "[7. Building a Binary Classification Convolutional Neural Network (CNN) Model](#building-a-binary-classification-convolutional-neural-network-cnn-model) <br>\n",
    "&nbsp;&nbsp;&nbsp;&nbsp;[7.1 Model Summary Interpretation](#model-summary-interpretation) <br>\n",
    "[8. Model Training Execution and Time Monitoring](#model-training-execution-and-time-monitoring) <br>\n",
    "[9. Model Training Procedure](#model-training-procedure) <br>\n",
    "&nbsp;&nbsp;&nbsp;&nbsp;[9.1 Visualization through Plot Model](#visualization-through-plot-model) <br>\n",
    "[10. Model Evaluation](#model-evaluation) <br>\n",
    "&nbsp;&nbsp;&nbsp;&nbsp;[10.1 Model Evaluation and Learning Curves](#model-evaluation-and-learning-curves) <br>\n",
    "[11. CNN Model Training Summary](#cnn-model-training-summary) <br>\n",
    "[12. CNN Model Training Insights](#cnn-model-training-insights) <br>\n",
    "[13. Model Evaluation on Test Data](#model-evaluation-on-test-data) <br>\n",
    "&nbsp;&nbsp;&nbsp;&nbsp;[13.1 Model Evaluation on Test Data Insights](#model-evaluation-on-test-data-insights) <br>\n",
    "[14. Evaluating Model Performance Across Different Study Types](#evaluating-model-performance-across-different-study-types) <br>\n",
    "&nbsp;&nbsp;&nbsp;&nbsp;[14.1 Evaluating Model Performance Across Different Study Types Insights](#evaluating-model-performance-across-different-study-types-insights) <br>\n",
    "[15. Model Evaluation with Best Epoch Weights](#model-evaluation-with-best-epoch-weights) <br>\n",
    "&nbsp;&nbsp;&nbsp;&nbsp;[15.1 Loading the Pre-Trained Model and the Pre-Trained Weights](#loading-the-pre-trained-model-and-the-pre-trained-weights) <br>\n",
    "&nbsp;&nbsp;&nbsp;&nbsp;[15.2 Making Predictions and Evaluating Model Performance](#making-predictions-and-evaluating-model-performance) <br>\n",
    "&nbsp;&nbsp;&nbsp;&nbsp;[15.3 Evaluating Model Performance (with Best Epoch Weights) Across Different Study Types Insights](#evaluating-model-performance-(with-best-epoch-weights)-across-different-study-types-insights) <br>\n",
    "&nbsp;&nbsp;&nbsp;&nbsp;[15.4 Model (with Best Epoch Weights) Evaluation Results](#model-(with-best-epoch-weights)-evaluation-results) <br>\n",
    "[16. Conclusion](#conclusion)"
   ]
  },
  {
   "cell_type": "markdown",
   "id": "5f77b057",
   "metadata": {
    "id": "5f77b057"
   },
   "source": [
    "### Libraries and Installation Guidelines <a class=\"anchor\" id=\"libraries-and-installation-guidelines\"></a>\n",
    "---\n",
    "\n",
    "In this Jupyter Notebook, we focus on leveraging a robust set of Python libraries tailored for data manipulation, statistical analysis, machine learning, and deep learning. These libraries are integral to the data science pipeline, aiding in various tasks from data preprocessing to model evaluation. Below is an in-depth look at each library's role, along with their respective documentation links for further exploration.\n",
    "\n",
    "- **Pandas**: Employed for data manipulation and analysis, it serves as the initial point for data loading and transformation.\n",
    "  - [Pandas Documentation](https://pandas.pydata.org/docs/)\n",
    "  \n",
    "  \n",
    "- **NumPy**: Essential for numerical operations, it works hand-in-hand with Pandas for data transformation and manipulation.\n",
    "  - [NumPy Documentation](https://numpy.org/doc/)\n",
    "  \n",
    "  \n",
    "- **Matplotlib**: Utilized for data visualization, it aids in plotting graphs and charts to better understand the dataset.\n",
    "  - [Matplotlib Documentation](https://matplotlib.org/stable/contents.html)\n",
    "  \n",
    "  \n",
    "- **Seaborn**: An extension of Matplotlib, used for more complex visualizations, and it offers a higher level of abstraction.\n",
    "  - [Seaborn Documentation](https://seaborn.pydata.org/)\n",
    "  \n",
    "  \n",
    "- **Scikit-learn**: Provides a wide range of machine learning algorithms and is used here for splitting datasets into training and test sets.\n",
    "  - [Scikit-learn Documentation](https://scikit-learn.org/stable/)\n",
    "  \n",
    "  \n",
    "- **TensorFlow**: The backbone for deep learning tasks, it offers a comprehensive and flexible ecosystem for building and deploying machine learning models.\n",
    "  - [TensorFlow Documentation](https://www.tensorflow.org/guide)\n",
    "  \n",
    "  \n",
    "- **TensorFlow Addons**: An additional package that extends TensorFlow functionalities, providing extra layers and metrics.\n",
    "  - [TensorFlow Addons Documentation](https://www.tensorflow.org/addons/overview)\n",
    "  \n",
    "  \n",
    "By integrating these libraries, we aim to build an organized efficient pipeline for developing advanced machine learning models for medical diagnostics as mentioned above."
   ]
  },
  {
   "cell_type": "code",
   "execution_count": 1,
   "id": "254e89ef",
   "metadata": {
    "colab": {
     "base_uri": "https://localhost:8080/"
    },
    "executionInfo": {
     "elapsed": 21951,
     "status": "ok",
     "timestamp": 1694863639290,
     "user": {
      "displayName": "Dimitris Matsanganis",
      "userId": "11804405996879787534"
     },
     "user_tz": -180
    },
    "id": "254e89ef",
    "outputId": "146a4bce-0711-4d16-91ef-c5d1b18dee48"
   },
   "outputs": [
    {
     "name": "stdout",
     "output_type": "stream",
     "text": [
      "Pandas version: 2.1.0\n",
      "NumPy version: 1.24.3\n",
      "Matplotlib version: 3.7.2\n",
      "Seaborn version: 0.12.2\n",
      "Scikit-learn version: 1.3.0\n",
      "Tensorflow version: 2.13.0-rc0\n"
     ]
    }
   ],
   "source": [
    "# Utilized Libraries of the current analysis.\n",
    "\n",
    "# Basic Data Manipulation Libraries.\n",
    "import pandas as pd\n",
    "import numpy as np\n",
    "print(f'Pandas version: {pd.__version__}')\n",
    "print(f'NumPy version: {np.__version__}')\n",
    "\n",
    "# Data Visualization Libraries.\n",
    "import matplotlib\n",
    "import matplotlib.pyplot as plt\n",
    "import seaborn as sns\n",
    "print(f'Matplotlib version: {matplotlib.__version__}')\n",
    "print(f'Seaborn version: {sns.__version__}')\n",
    "%matplotlib inline\n",
    "from IPython.display import Image\n",
    "\n",
    "# Utilities.\n",
    "import gc  # Garbage collection.\n",
    "import zipfile  # For handling zip files.\n",
    "import time  # For timing operations.\n",
    "import random  # For generating random numbers.\n",
    "import locale # For dealing with certain cultural issues.\n",
    "\n",
    "# Scikit-learn for Model Preparation.\n",
    "from sklearn.model_selection import train_test_split\n",
    "import sklearn\n",
    "print(f'Scikit-learn version: {sklearn.__version__}')\n",
    "\n",
    "# TensorFlow and Keras for Model Building, Training, and Evaluation.\n",
    "import os\n",
    "os.environ['TF_CPP_MIN_LOG_LEVEL'] = '3'  # Suppress TensorFlow logging.\n",
    "\n",
    "# Use the os. environ module to set the TF_CPP_MIN_LOG_LEVEL environment variable to 3 to\n",
    "# disable/suppress all tensorflow warnings.\n",
    "# When the environment variable is set to 3 , info, warning and error messages are not logged.\n",
    "\n",
    "# Suppress specific TensorFlow Addons warnings.\n",
    "import warnings\n",
    "warnings.filterwarnings('ignore', category=UserWarning, module='tensorflow_addons')  # Suppress TFA UserWarnings.\n",
    "\n",
    "from datetime import datetime # Datetime.\n",
    "\n",
    "import tensorflow as tf\n",
    "from tensorflow.random import set_seed  # For reproducibility.\n",
    "from tensorflow.keras import backend as K  # Keras backend.\n",
    "from tensorflow.keras.preprocessing.image import ImageDataGenerator  # Data augmentation.\n",
    "from tensorflow.keras.optimizers import Adam  # Optimizer.\n",
    "from tensorflow.keras.applications import VGG19  # VGG19 model.\n",
    "from tensorflow.keras.layers import Input, Conv2D, BatchNormalization, MaxPool2D, Dropout, Flatten, Dense  # Layers.\n",
    "from tensorflow.keras.models import Model  # Model class.\n",
    "from tensorflow.keras.callbacks import EarlyStopping, ReduceLROnPlateau, ModelCheckpoint  # Callbacks.\n",
    "from tensorflow.keras.applications.vgg19 import preprocess_input  # Preprocessing.\n",
    "from tensorflow.keras.regularizers import l2  # L2 regularization.\n",
    "from tensorflow.keras.utils import plot_model  # For plotting model architecture.\n",
    "\n",
    "# Metrics for Model Evaluation.\n",
    "from tensorflow.keras.metrics import BinaryAccuracy, Precision, Recall, AUC\n",
    "from tensorflow_addons.metrics import CohenKappa\n",
    "\n",
    "# Scikit-learn Metrics for Model Evaluation.\n",
    "from sklearn.metrics import precision_score, recall_score, f1_score, accuracy_score, roc_auc_score, cohen_kappa_score\n",
    "\n",
    "print(f'Tensorflow version: {tf.__version__}')"
   ]
  },
  {
   "cell_type": "markdown",
   "id": "d18fa539",
   "metadata": {
    "id": "d18fa539"
   },
   "source": [
    "Based on the information provided above, the libraries utilized are the following:\n",
    "\n",
    "- **Pandas**: Version 2.1.0\n",
    "- **NumPy**: Version 1.24.3\n",
    "- **Matplotlib**: Version 3.7.2\n",
    "- **Seaborn**: Version 0.12.2\n",
    "- **Scikit-learn**: Version 1.3.0\n",
    "- **TensorFlow**: Version 2.13.0-rc0\n",
    "\n",
    "For a more detailed specification, we can note the following:\n",
    "\n",
    "- **Pandas**: The environment utilizes Pandas version **2.1.0**, which provides robust capabilities for data manipulation and analysis.\n",
    "\n",
    "  \n",
    "- **NumPy**: The version in use is **1.24.3**, essential for a variety of numerical operations. It complements Pandas in data transformation and manipulation.\n",
    "\n",
    "\n",
    "- **Matplotlib**: The current version is **3.7.2**, offering a wide array of functionalities for data visualization.\n",
    "\n",
    "\n",
    "- **Seaborn**: Version **0.12.2** is installed, extending Matplotlib's functionalities for more advanced data visualizations.\n",
    "\n",
    "\n",
    "- **Scikit-learn**: The environment leverages Scikit-learn version **1.3.0**, a comprehensive library for machine learning tasks such as data splitting, model training, and evaluation.\n",
    "\n",
    "\n",
    "- **TensorFlow**: Version **2.13.0-rc0** forms the backbone for all deep learning tasks, offering a comprehensive and flexible platform for building, training, and deploying machine learning models. Furthermore, **TensorFlow** serves as the cornerstone of our deep learning applications. Developed by Google, TensorFlow offers a comprehensive ecosystem for deploying machine learning models, including those based on neural networks. The library is particularly optimized for high-performance numerical computation, a crucial feature for various computational tasks.\n",
    "\n",
    "Overall, these versions indicate a well-updated environment, suitable for our tasks.\n",
    "\n",
    "---\n",
    "\n",
    "**_Important Note 1 - UserWarning:_** You may receive a UserWarning that indicates that TensorFlow Addons (TFA) has stopped development of new features and is in maintenance mode until May 2024. This means it's advisable to transition to other TensorFlow community libraries for new features or functions that were previously covered by TFA (this warning has been suppressed with filterwarnings).\n",
    "\n",
    "For more information see: [GitHub Issue](https://github.com/tensorflow/addons/issues/2807)\n",
    "\n",
    "**_Important Note 2 - TensorFlow and Installation:_** The installation of Tensorflow can sometimes be tricky. To install TensorFlow through `pip`, the following commands should be run:\n",
    "\n",
    "```bash\n",
    "pip install tensorflow\n",
    "```\n",
    "\n",
    "To additionally install TensorFlow Addons:\n",
    "\n",
    "```bash\n",
    "pip install tensorflow-addons\n",
    "```"
   ]
  },
  {
   "cell_type": "markdown",
   "id": "9e68aecf",
   "metadata": {
    "id": "9e68aecf"
   },
   "source": [
    "### MURA Dataset <a class=\"anchor\" id=\"mura-dataset\"></a>\n",
    "---\n",
    "\n",
    "The **MURA dataset**, an acronym for *Musculoskeletal Radiographs*, is a large-scale, specialized collection of digital X-ray images that was officially released by **Stanford University** in the year 2017. This dataset is instrumental to the medical community as it consists of an extensive array of over **40,000 digital X-ray images** spanning **seven different anatomical regions**, namely the wrist, elbow, shoulder, finger, hip, knee, and ankle. The **MURA dataset** is structured into two primary folders, namely **\"train\"** and **\"valid\"**, each containing datasets relevant to their respective categories. In total, the MURA dataset comprises approximately **41,000 images** derived from around **15,000 distinct studies** (patients). These images are distributed across both the training and validation sets. The dataset is thoughtfully curated to encompass a wide range of medical conditions, allowing for comprehensive evaluation and training of diagnostic models.\n",
    "\n",
    "Within this dataset, there are **9,000** studies representing **normal** or negative conditions, serving as essential reference points for identifying healthy anatomical structures. Additionally, there are **6,000** studies representing **abnormal** or positive conditions, encompassing a variety of pathological findings that require accurate and timely detection. The typical image resolution in the MURA dataset is 500 x 500 pixels. More information about the MURA dataset can be found at [Stanford's ML site](https://stanfordmlgroup.github.io/competitions/mura/) or at [Kaggle](https://www.kaggle.com/datasets/cjinny/mura-v11/download?datasetVersionNumber=1).\n",
    "\n",
    "<br>\n",
    "<div style=\"text-align: center;\">\n",
    "  <figure>\n",
    "    <img src=\"./Figures/muramed3.png\" alt=\"MURA Dataset Instances\" style=\"width:35%\">\n",
    "    <figcaption>Figure 3. MURA Dataset Instances</figcaption>\n",
    "  </figure>\n",
    "</div>\n",
    "<br>\n",
    "\n",
    "Over the years, the MURA dataset has emerged as a *benchmark standard* for assessing the efficacy of deep learning models in the domain of musculoskeletal radiography. It has been extensively employed in numerous research studies and competitions, serving as the foundation for algorithms designed to detect a wide range of issues including fractures, dislocations, and other anatomical irregularities in X-ray images. This is the reason that makes us decide to get involved with **MuraMed**."
   ]
  },
  {
   "cell_type": "markdown",
   "id": "8d346328",
   "metadata": {
    "id": "8d346328"
   },
   "source": [
    "#### Downloading the MURA Dataset\n",
    "---\n",
    "\n",
    "To access the MURA dataset for your research or application, you can utilize the following Kaggle link: [Download MURA Dataset](https://www.kaggle.com/datasets/cjinny/mura-v11/download?datasetVersionNumber=1).\n",
    "\n",
    "You can follow these steps:\n",
    "\n",
    "1. Navigate to the dataset page on Kaggle.\n",
    "2. Click on the \"Download\" button. This will download a ZIP file to your computer.\n",
    "3. Upload the ZIP file to your Jupyter Notebook environment.\n",
    "\n",
    "Alternatively, you can download the dataset directly within your Jupyter Notebook (remember to remove the comment):"
   ]
  },
  {
   "cell_type": "code",
   "execution_count": 2,
   "id": "4f9d0cf1",
   "metadata": {
    "executionInfo": {
     "elapsed": 5,
     "status": "ok",
     "timestamp": 1694863641240,
     "user": {
      "displayName": "Dimitris Matsanganis",
      "userId": "11804405996879787534"
     },
     "user_tz": -180
    },
    "id": "4f9d0cf1",
    "scrolled": true
   },
   "outputs": [],
   "source": [
    "# MURA Dataset download through Kaggle.\n",
    "# !wget \"https://www.kaggle.com/datasets/cjinny/mura-v11/download?datasetVersionNumber=1\" -O MURA-v1.1.zip"
   ]
  },
  {
   "cell_type": "markdown",
   "id": "f0b5a163",
   "metadata": {
    "id": "f0b5a163"
   },
   "source": [
    "Please note that this command will download the ZIP file and name it `MURA-v1.1.zip`. The `-O` flag specifies the output file name.\n",
    "\n",
    "**_Important Note:_** The direct download link from Kaggle usually requires you to be logged in. Therefore, the above `wget` method might not work without proper authentication or cookies. In such cases, manual download and upload would be the straightforward approach.\n",
    "\n",
    "You can try to download the file through [Stanford's ML site](https://stanfordmlgroup.github.io/competitions/mura/)  To download the dataset you must first fill out a form."
   ]
  },
  {
   "cell_type": "code",
   "execution_count": 3,
   "id": "aa431aa0",
   "metadata": {
    "colab": {
     "base_uri": "https://localhost:8080/"
    },
    "executionInfo": {
     "elapsed": 167962,
     "status": "ok",
     "timestamp": 1694863809197,
     "user": {
      "displayName": "Dimitris Matsanganis",
      "userId": "11804405996879787534"
     },
     "user_tz": -180
    },
    "id": "aa431aa0",
    "outputId": "ed3c0985-9ff7-4f50-adc5-ebf5357c304d"
   },
   "outputs": [],
   "source": [
    "# MURA Dataset download through Stanford ML.\n",
    "#!wget 'https://cs.stanford.edu/group/mlgroup/MURA-v1.1.zip' -O MURA-v1.1.zip"
   ]
  },
  {
   "cell_type": "markdown",
   "id": "facd29f7",
   "metadata": {
    "id": "facd29f7"
   },
   "source": [
    "As mentioned earlier, please be aware that this command will download the ZIP file and save it as `MURA-v1.1.zip`. The `-O` flag is used to define the output file name.\n",
    "\n",
    "**_Important Note:_** It's worth noting that the direct download link from Stanford's ML site may require proper authentication or the use of cookies. In such cases, manually downloading and then uploading the file would be the most straightforward approach."
   ]
  },
  {
   "cell_type": "markdown",
   "id": "d26c79c9",
   "metadata": {
    "id": "d26c79c9"
   },
   "source": [
    "#### Unzipping the MURA Dataset\n",
    "---\n",
    "\n",
    "If the `wget` command successfully downloads the ZIP file, you can proceed to unzip it in your Jupyter Notebook environment.  You can use Python's `zipfile` library to extract the contents.\n",
    "\n",
    "Here's how you can do it (remove the comments):"
   ]
  },
  {
   "cell_type": "code",
   "execution_count": 4,
   "id": "55d7ccd1",
   "metadata": {
    "executionInfo": {
     "elapsed": 28353,
     "status": "ok",
     "timestamp": 1694863837547,
     "user": {
      "displayName": "Dimitris Matsanganis",
      "userId": "11804405996879787534"
     },
     "user_tz": -180
    },
    "id": "55d7ccd1",
    "scrolled": true
   },
   "outputs": [],
   "source": [
    "#import zipfile\n",
    "\n",
    "#zip_file_path = '/content/MURA-v1.1.zip'\n",
    "#extract_path = '/content'  # Specify the extraction path\n",
    "\n",
    "#try:\n",
    "    #with zipfile.ZipFile(zip_file_path, 'r') as zip_ref:\n",
    "        #zip_ref.extractall(extract_path)\n",
    "#except zipfile.BadZipFile:\n",
    "    #print(\"The file is not a valid ZIP archive.\")"
   ]
  },
  {
   "cell_type": "markdown",
   "id": "29f71bd3",
   "metadata": {
    "id": "29f71bd3"
   },
   "source": [
    "This code will extract all the files from `MURA-v1.1.zip` into a directory named `MURA-v1.1`.\n",
    "\n",
    "After the dataset is successfully unzipped, you can proceed with the notebook as per the roadmap outlines."
   ]
  },
  {
   "cell_type": "markdown",
   "id": "31d8ba6a",
   "metadata": {
    "id": "31d8ba6a"
   },
   "source": [
    "### Setting the Seed for Reproducibility\n",
    "---\n",
    "\n",
    "In order to ensure that the experiments are reproducible, it is essential to set a seed for both NumPy and TensorFlow. By setting a seed, we ensure that the random numbers generated by these libraries are the same in every run. This is crucial for debugging and comparing models."
   ]
  },
  {
   "cell_type": "code",
   "execution_count": 5,
   "id": "8964856f",
   "metadata": {
    "executionInfo": {
     "elapsed": 27,
     "status": "ok",
     "timestamp": 1694863837550,
     "user": {
      "displayName": "Dimitris Matsanganis",
      "userId": "11804405996879787534"
     },
     "user_tz": -180
    },
    "id": "8964856f"
   },
   "outputs": [],
   "source": [
    "# Seed value for reproducibility.\n",
    "seed = 1001101\n",
    "\n",
    "# Setting the seed for NumPy.\n",
    "np.random.seed(seed)\n",
    "\n",
    "# Setting the seed for TensorFlow.\n",
    "set_seed(seed)"
   ]
  },
  {
   "cell_type": "markdown",
   "id": "58d883c2",
   "metadata": {
    "id": "58d883c2"
   },
   "source": [
    "By setting the seed value to *`1001101` (01001101 = Capital M in binary format)*, we ensure that the random processes in both NumPy and TensorFlow libraries will produce the same set of random numbers, thereby making the experiments reproducible."
   ]
  },
  {
   "cell_type": "markdown",
   "id": "99ef3763",
   "metadata": {
    "id": "99ef3763"
   },
   "source": [
    "### Dataset Validation\n",
    "---\n",
    "The code is carefully structured to **validate the availability** of the **MURA-v1.1 dataset** along with its relevant train and test CSV files within a specified directory. Initially, the code sets the filepath where it expects to find the dataset. After confirming the directory's existence, it then constructs the full filepaths for both the **train** and **test CSV files** (*train_image_paths.csv* and *valid_image_paths.csv*, respectively). Finally, it assesses the existence of these critical files. If any element is missing at any stage, an error message is promptly displayed. This initial step is crucial as it ensures that all necessary files and directories are prepared, thus enabling a smooth execution of subsequent data loading and preprocessing tasks."
   ]
  },
  {
   "cell_type": "code",
   "execution_count": 6,
   "id": "4de57e35",
   "metadata": {
    "executionInfo": {
     "elapsed": 26,
     "status": "ok",
     "timestamp": 1694863837550,
     "user": {
      "displayName": "Dimitris Matsanganis",
      "userId": "11804405996879787534"
     },
     "user_tz": -180
    },
    "id": "4de57e35"
   },
   "outputs": [],
   "source": [
    "# Initialize the filepath for the MURA-v1.1 dataset.\n",
    "filepath = 'MURA-v1.1'\n",
    "\n",
    "# Function to check the existence of a file or directory.\n",
    "def check_path_exists(path, path_type=\"Directory\"):\n",
    "    if not os.path.exists(path):\n",
    "        print(f\"Error: {path_type} {path} does not exist.\")\n",
    "        return False\n",
    "    return True\n",
    "\n",
    "# Check if the main dataset directory exists.\n",
    "if check_path_exists(filepath):\n",
    "\n",
    "    # Construct the filepaths for the train and test set CSV files.\n",
    "    train_set_filepath = os.path.join(filepath, 'train_image_paths.csv')\n",
    "    test_set_filepath = os.path.join(filepath, 'valid_image_paths.csv')\n",
    "\n",
    "    # Check if the train and test CSV files exist.\n",
    "    check_path_exists(train_set_filepath, \"Train set file\")\n",
    "    check_path_exists(test_set_filepath, \"Test set file\")"
   ]
  },
  {
   "cell_type": "markdown",
   "id": "5acec943",
   "metadata": {
    "id": "5acec943"
   },
   "source": [
    "### Data Loading and Feature Engineering Transformation Workflow <a class=\"anchor\" id=\"data-loading-and-feature-engineering-transformation-workflow\"></a>\n",
    "---\n",
    "\n",
    "In the technical pipeline of **MuraMed**, an essential component is the function `load_and_transform_data`, designed to perform multiple tasks beyond merely loading the data into a DataFrame. This function serves as a **comprehensive tool** for ingesting the raw data and transforming it into a structured, feature-rich format suitable for further analysis and model training. Here's a detailed breakdown of the operations carried out by this function.\n",
    "\n",
    "1. **Loading Data Into a DataFrame**: The function begins by reading the CSV file specified by the `filepath` argument. It loads this data into a Pandas DataFrame with a single column, `image_path`, which contains the paths to the individual image files.\n",
    "\n",
    "\n",
    "2. **Generating Descriptions**: The `description` column is generated by slicing and concatenating specific segments of the `image_path`. TThis new column serves as a concise representation of each image's metadata, summarizing information about the study type, patient code, and the study's medical opinion (positive or negative).\n",
    "\n",
    "\n",
    "3. **Study Type Extraction**: The `type` column is derived from the `description` column and holds the type of study (e.g., elbow, shoulder, etc.). This information is crucial for any stratified analyses or specialized models that focus on particular types of studies.\n",
    "\n",
    "\n",
    "4. **Patient Code Extraction**: The `patient` column is also extracted from the `description` and contains unique patient identifiers. This could be valuable for long-term analyses or for models that consider patient-specific characteristics.\n",
    "\n",
    "\n",
    "5. **Study Code Extraction**: The `study` column, another part of the `description`, captures the specific study code. TThis enables easy grouping images belonging to the same study, which can be useful in multi-image analyses.\n",
    "\n",
    "\n",
    "6. **Medical Opinion Extraction**: The `opinion` column holds the medical opinion of each study, extracted from the `description`. This is a binary attribute indicating whether the study was considered positive or negative, and it serves as the foundation for our target variable.\n",
    "\n",
    "\n",
    "7. **Label Generation**: Finally, the function creates the `label` column, which is a binary representation of the `opinion` column. Here, positive opinions are encoded as 1, and negative opinions are encoded as 0. This column serves as the target variable for our machine learning models.\n",
    "\n",
    "This function, therefore, does more than just load data;  it carries out detailed feature engineering to extract valuable information from raw data paths. These attributes are then organized into a Data Frame, transforming unstructured data into a format suitable for machine learning.\n",
    "\n",
    "To sum up, the `load_and_transform_data` function is a cornerstone in **MuraMed's** data pipeline, offering a streamlined and efficient method for data ingestion and preparation. It ensures that the loaded data is not only stored efficiently but is also enriched with features that are critical ffor subsequent tasks, such as data visualization, statistical analysis, and machine learning model training. By automating these tasks into a single function, **MuraMed** significantly enhances workflow efficiency, enabling a more focused approach to model development and evaluation."
   ]
  },
  {
   "cell_type": "code",
   "execution_count": 7,
   "id": "77160ccb",
   "metadata": {
    "executionInfo": {
     "elapsed": 27,
     "status": "ok",
     "timestamp": 1694863837551,
     "user": {
      "displayName": "Dimitris Matsanganis",
      "userId": "11804405996879787534"
     },
     "user_tz": -180
    },
    "id": "77160ccb"
   },
   "outputs": [],
   "source": [
    "def load_and_transform_data(filepath: str):\n",
    "\n",
    "    # Load the raw data from the CSV file into a Pandas DataFrame.\n",
    "    df = pd.read_csv(filepath, header=None, names=['image_path'])\n",
    "\n",
    "    # Generate a 'description' column by slicing and joining segments from the 'image_path'.\n",
    "    # The description serves as a compact representation of each study's metadata.\n",
    "    df['description'] = df.image_path.apply(lambda x: '_'.join(x.split('/')[2:5])[3:])\n",
    "\n",
    "    # Extract the type of medical study (e.g., elbow, shoulder, etc.) and store it in the 'type' column.\n",
    "    df['type'] = df.description.apply(lambda x: x.split('_')[0])\n",
    "\n",
    "    # Extract the unique patient identifier for each study and store it in the 'patient' column.\n",
    "    df['patient'] = df.description.apply(lambda x: x.split('_')[1])\n",
    "\n",
    "    # Extract the specific study code for each image and store it in the 'study' column.\n",
    "    # This enables easy grouping of images belonging to the same study.\n",
    "    df['study'] = df.description.apply(lambda x: x.split('_')[2])\n",
    "\n",
    "    # Extract the medical opinion (positive or negative) for each study and store it in the 'opinion' column.\n",
    "    df['opinion'] = df.description.apply(lambda x: x.split('_')[3])\n",
    "\n",
    "    # Create the 'label' column, which will serve as the target variable for machine learning models.\n",
    "    # Positive opinions are encoded as 1 and negative opinions as 0.\n",
    "    df['label'] = np.where(df.opinion == 'positive', 1, 0)\n",
    "\n",
    "    return df"
   ]
  },
  {
   "cell_type": "markdown",
   "id": "802c42a5",
   "metadata": {
    "id": "802c42a5"
   },
   "source": [
    "### Presenting the Datasets\n",
    "---\n",
    "\n",
    "In this section, we delve into the **training** and **test** datasets that will be used for building our models. The primary focus is to understand the shape, characteristics, and unique features of these datasets. This will be crucial for downstream tasks such as model training and evaluation."
   ]
  },
  {
   "cell_type": "markdown",
   "id": "fb1e0224",
   "metadata": {
    "id": "fb1e0224"
   },
   "source": [
    "#### Loading and Transforming the Data\n",
    "---\n",
    "\n",
    "Initially, we use a custom function `load_and_transform_data` to load the datasets from their respective file paths. This function handles necessary preprocessing steps like feature extraction and label encoding. Below we will present the datasets."
   ]
  },
  {
   "cell_type": "code",
   "execution_count": 8,
   "id": "93d6c52d",
   "metadata": {
    "colab": {
     "base_uri": "https://localhost:8080/",
     "height": 574
    },
    "executionInfo": {
     "elapsed": 27,
     "status": "ok",
     "timestamp": 1694863837551,
     "user": {
      "displayName": "Dimitris Matsanganis",
      "userId": "11804405996879787534"
     },
     "user_tz": -180
    },
    "id": "93d6c52d",
    "outputId": "6668036a-5563-4aa7-b4c1-2b37ffa8acc1"
   },
   "outputs": [
    {
     "name": "stdout",
     "output_type": "stream",
     "text": [
      "First few rows of the training set:\n"
     ]
    },
    {
     "data": {
      "text/html": [
       "<div>\n",
       "<style scoped>\n",
       "    .dataframe tbody tr th:only-of-type {\n",
       "        vertical-align: middle;\n",
       "    }\n",
       "\n",
       "    .dataframe tbody tr th {\n",
       "        vertical-align: top;\n",
       "    }\n",
       "\n",
       "    .dataframe thead th {\n",
       "        text-align: right;\n",
       "    }\n",
       "</style>\n",
       "<table border=\"1\" class=\"dataframe\">\n",
       "  <thead>\n",
       "    <tr style=\"text-align: right;\">\n",
       "      <th></th>\n",
       "      <th>image_path</th>\n",
       "      <th>description</th>\n",
       "      <th>type</th>\n",
       "      <th>patient</th>\n",
       "      <th>study</th>\n",
       "      <th>opinion</th>\n",
       "      <th>label</th>\n",
       "    </tr>\n",
       "  </thead>\n",
       "  <tbody>\n",
       "    <tr>\n",
       "      <th>0</th>\n",
       "      <td>MURA-v1.1/train/XR_SHOULDER/patient00001/study...</td>\n",
       "      <td>SHOULDER_patient00001_study1_positive</td>\n",
       "      <td>SHOULDER</td>\n",
       "      <td>patient00001</td>\n",
       "      <td>study1</td>\n",
       "      <td>positive</td>\n",
       "      <td>1</td>\n",
       "    </tr>\n",
       "    <tr>\n",
       "      <th>1</th>\n",
       "      <td>MURA-v1.1/train/XR_SHOULDER/patient00001/study...</td>\n",
       "      <td>SHOULDER_patient00001_study1_positive</td>\n",
       "      <td>SHOULDER</td>\n",
       "      <td>patient00001</td>\n",
       "      <td>study1</td>\n",
       "      <td>positive</td>\n",
       "      <td>1</td>\n",
       "    </tr>\n",
       "    <tr>\n",
       "      <th>2</th>\n",
       "      <td>MURA-v1.1/train/XR_SHOULDER/patient00001/study...</td>\n",
       "      <td>SHOULDER_patient00001_study1_positive</td>\n",
       "      <td>SHOULDER</td>\n",
       "      <td>patient00001</td>\n",
       "      <td>study1</td>\n",
       "      <td>positive</td>\n",
       "      <td>1</td>\n",
       "    </tr>\n",
       "    <tr>\n",
       "      <th>3</th>\n",
       "      <td>MURA-v1.1/train/XR_SHOULDER/patient00002/study...</td>\n",
       "      <td>SHOULDER_patient00002_study1_positive</td>\n",
       "      <td>SHOULDER</td>\n",
       "      <td>patient00002</td>\n",
       "      <td>study1</td>\n",
       "      <td>positive</td>\n",
       "      <td>1</td>\n",
       "    </tr>\n",
       "    <tr>\n",
       "      <th>4</th>\n",
       "      <td>MURA-v1.1/train/XR_SHOULDER/patient00002/study...</td>\n",
       "      <td>SHOULDER_patient00002_study1_positive</td>\n",
       "      <td>SHOULDER</td>\n",
       "      <td>patient00002</td>\n",
       "      <td>study1</td>\n",
       "      <td>positive</td>\n",
       "      <td>1</td>\n",
       "    </tr>\n",
       "    <tr>\n",
       "      <th>5</th>\n",
       "      <td>MURA-v1.1/train/XR_SHOULDER/patient00002/study...</td>\n",
       "      <td>SHOULDER_patient00002_study1_positive</td>\n",
       "      <td>SHOULDER</td>\n",
       "      <td>patient00002</td>\n",
       "      <td>study1</td>\n",
       "      <td>positive</td>\n",
       "      <td>1</td>\n",
       "    </tr>\n",
       "    <tr>\n",
       "      <th>6</th>\n",
       "      <td>MURA-v1.1/train/XR_SHOULDER/patient00003/study...</td>\n",
       "      <td>SHOULDER_patient00003_study1_positive</td>\n",
       "      <td>SHOULDER</td>\n",
       "      <td>patient00003</td>\n",
       "      <td>study1</td>\n",
       "      <td>positive</td>\n",
       "      <td>1</td>\n",
       "    </tr>\n",
       "    <tr>\n",
       "      <th>7</th>\n",
       "      <td>MURA-v1.1/train/XR_SHOULDER/patient00003/study...</td>\n",
       "      <td>SHOULDER_patient00003_study1_positive</td>\n",
       "      <td>SHOULDER</td>\n",
       "      <td>patient00003</td>\n",
       "      <td>study1</td>\n",
       "      <td>positive</td>\n",
       "      <td>1</td>\n",
       "    </tr>\n",
       "    <tr>\n",
       "      <th>8</th>\n",
       "      <td>MURA-v1.1/train/XR_SHOULDER/patient00003/study...</td>\n",
       "      <td>SHOULDER_patient00003_study1_positive</td>\n",
       "      <td>SHOULDER</td>\n",
       "      <td>patient00003</td>\n",
       "      <td>study1</td>\n",
       "      <td>positive</td>\n",
       "      <td>1</td>\n",
       "    </tr>\n",
       "    <tr>\n",
       "      <th>9</th>\n",
       "      <td>MURA-v1.1/train/XR_SHOULDER/patient00004/study...</td>\n",
       "      <td>SHOULDER_patient00004_study1_positive</td>\n",
       "      <td>SHOULDER</td>\n",
       "      <td>patient00004</td>\n",
       "      <td>study1</td>\n",
       "      <td>positive</td>\n",
       "      <td>1</td>\n",
       "    </tr>\n",
       "  </tbody>\n",
       "</table>\n",
       "</div>"
      ],
      "text/plain": [
       "                                          image_path  \\\n",
       "0  MURA-v1.1/train/XR_SHOULDER/patient00001/study...   \n",
       "1  MURA-v1.1/train/XR_SHOULDER/patient00001/study...   \n",
       "2  MURA-v1.1/train/XR_SHOULDER/patient00001/study...   \n",
       "3  MURA-v1.1/train/XR_SHOULDER/patient00002/study...   \n",
       "4  MURA-v1.1/train/XR_SHOULDER/patient00002/study...   \n",
       "5  MURA-v1.1/train/XR_SHOULDER/patient00002/study...   \n",
       "6  MURA-v1.1/train/XR_SHOULDER/patient00003/study...   \n",
       "7  MURA-v1.1/train/XR_SHOULDER/patient00003/study...   \n",
       "8  MURA-v1.1/train/XR_SHOULDER/patient00003/study...   \n",
       "9  MURA-v1.1/train/XR_SHOULDER/patient00004/study...   \n",
       "\n",
       "                             description      type       patient   study  \\\n",
       "0  SHOULDER_patient00001_study1_positive  SHOULDER  patient00001  study1   \n",
       "1  SHOULDER_patient00001_study1_positive  SHOULDER  patient00001  study1   \n",
       "2  SHOULDER_patient00001_study1_positive  SHOULDER  patient00001  study1   \n",
       "3  SHOULDER_patient00002_study1_positive  SHOULDER  patient00002  study1   \n",
       "4  SHOULDER_patient00002_study1_positive  SHOULDER  patient00002  study1   \n",
       "5  SHOULDER_patient00002_study1_positive  SHOULDER  patient00002  study1   \n",
       "6  SHOULDER_patient00003_study1_positive  SHOULDER  patient00003  study1   \n",
       "7  SHOULDER_patient00003_study1_positive  SHOULDER  patient00003  study1   \n",
       "8  SHOULDER_patient00003_study1_positive  SHOULDER  patient00003  study1   \n",
       "9  SHOULDER_patient00004_study1_positive  SHOULDER  patient00004  study1   \n",
       "\n",
       "    opinion  label  \n",
       "0  positive      1  \n",
       "1  positive      1  \n",
       "2  positive      1  \n",
       "3  positive      1  \n",
       "4  positive      1  \n",
       "5  positive      1  \n",
       "6  positive      1  \n",
       "7  positive      1  \n",
       "8  positive      1  \n",
       "9  positive      1  "
      ]
     },
     "execution_count": 8,
     "metadata": {},
     "output_type": "execute_result"
    }
   ],
   "source": [
    "# Load the training data using our custom function.\n",
    "train_set = load_and_transform_data(train_set_filepath)\n",
    "\n",
    "# Preview the first few rows of the training set.\n",
    "print(\"First few rows of the training set:\")\n",
    "train_set.head(10)"
   ]
  },
  {
   "cell_type": "code",
   "execution_count": 9,
   "id": "4688c8e7",
   "metadata": {
    "colab": {
     "base_uri": "https://localhost:8080/"
    },
    "executionInfo": {
     "elapsed": 23,
     "status": "ok",
     "timestamp": 1694863837551,
     "user": {
      "displayName": "Dimitris Matsanganis",
      "userId": "11804405996879787534"
     },
     "user_tz": -180
    },
    "id": "4688c8e7",
    "outputId": "fc621860-4e25-44bc-d9b1-3666354d18a8"
   },
   "outputs": [
    {
     "name": "stdout",
     "output_type": "stream",
     "text": [
      "Training set dimensions: (36808, 7)\n"
     ]
    }
   ],
   "source": [
    "# Display the shape of the training set to understand its size.\n",
    "print(f'Training set dimensions: {train_set.shape}')"
   ]
  },
  {
   "cell_type": "markdown",
   "id": "f291357c",
   "metadata": {
    "id": "f291357c"
   },
   "source": [
    "#### Summary Statistics for Training Set\n",
    "---\n",
    "\n",
    "In this step, we generate **summary statistics** for the training set. This provides insights into central tendencies, dispersion, and other critical aspects of the dataset."
   ]
  },
  {
   "cell_type": "code",
   "execution_count": 10,
   "id": "8f420528",
   "metadata": {
    "colab": {
     "base_uri": "https://localhost:8080/"
    },
    "executionInfo": {
     "elapsed": 23,
     "status": "ok",
     "timestamp": 1694863837552,
     "user": {
      "displayName": "Dimitris Matsanganis",
      "userId": "11804405996879787534"
     },
     "user_tz": -180
    },
    "id": "8f420528",
    "outputId": "5d9a6d85-f864-4e1a-e657-9da3c2dffef8"
   },
   "outputs": [
    {
     "name": "stdout",
     "output_type": "stream",
     "text": [
      "Summary statistics for the training set:\n",
      "              label\n",
      "count  36808.000000\n",
      "mean       0.404070\n",
      "std        0.490718\n",
      "min        0.000000\n",
      "25%        0.000000\n",
      "50%        0.000000\n",
      "75%        1.000000\n",
      "max        1.000000\n"
     ]
    }
   ],
   "source": [
    "# Generate summary statistics for the training set.\n",
    "print(\"Summary statistics for the training set:\")\n",
    "print(train_set.describe())"
   ]
  },
  {
   "cell_type": "markdown",
   "id": "beb992cf",
   "metadata": {
    "id": "beb992cf"
   },
   "source": [
    "#### Unique Classes in the Training Set\n",
    "---\n",
    "\n",
    "Understanding the unique classes or labels in the dataset is crucial for classification tasks, as it defines what the model will predict. While this procedure may seem straightforward, it's essential to confirm that the labels are of type **0** and **1**."
   ]
  },
  {
   "cell_type": "code",
   "execution_count": 11,
   "id": "a40169c8",
   "metadata": {
    "colab": {
     "base_uri": "https://localhost:8080/"
    },
    "executionInfo": {
     "elapsed": 22,
     "status": "ok",
     "timestamp": 1694863837553,
     "user": {
      "displayName": "Dimitris Matsanganis",
      "userId": "11804405996879787534"
     },
     "user_tz": -180
    },
    "id": "a40169c8",
    "outputId": "4ec5a558-1305-458a-868b-1141df3c95cc"
   },
   "outputs": [
    {
     "name": "stdout",
     "output_type": "stream",
     "text": [
      "Unique classes in the training set:\n",
      "[1 0]\n"
     ]
    }
   ],
   "source": [
    "# Display the unique classes in the training set.\n",
    "print(\"Unique classes in the training set:\")\n",
    "print(train_set['label'].unique())"
   ]
  },
  {
   "cell_type": "markdown",
   "id": "e2046c05",
   "metadata": {
    "id": "e2046c05"
   },
   "source": [
    "#### Loading and Transforming the Test Data\n",
    "---\n",
    "\n",
    "Similar to the training set, the **test** set also requires loading and preparation. This set will be used to evaluate the model's performance."
   ]
  },
  {
   "cell_type": "code",
   "execution_count": 12,
   "id": "82a03aa9",
   "metadata": {
    "colab": {
     "base_uri": "https://localhost:8080/",
     "height": 574
    },
    "executionInfo": {
     "elapsed": 21,
     "status": "ok",
     "timestamp": 1694863837553,
     "user": {
      "displayName": "Dimitris Matsanganis",
      "userId": "11804405996879787534"
     },
     "user_tz": -180
    },
    "id": "82a03aa9",
    "outputId": "35198c5b-a0ee-4b53-c7b6-e002c263d6fb"
   },
   "outputs": [
    {
     "name": "stdout",
     "output_type": "stream",
     "text": [
      "First few rows of the test set:\n"
     ]
    },
    {
     "data": {
      "text/html": [
       "<div>\n",
       "<style scoped>\n",
       "    .dataframe tbody tr th:only-of-type {\n",
       "        vertical-align: middle;\n",
       "    }\n",
       "\n",
       "    .dataframe tbody tr th {\n",
       "        vertical-align: top;\n",
       "    }\n",
       "\n",
       "    .dataframe thead th {\n",
       "        text-align: right;\n",
       "    }\n",
       "</style>\n",
       "<table border=\"1\" class=\"dataframe\">\n",
       "  <thead>\n",
       "    <tr style=\"text-align: right;\">\n",
       "      <th></th>\n",
       "      <th>image_path</th>\n",
       "      <th>description</th>\n",
       "      <th>type</th>\n",
       "      <th>patient</th>\n",
       "      <th>study</th>\n",
       "      <th>opinion</th>\n",
       "      <th>label</th>\n",
       "    </tr>\n",
       "  </thead>\n",
       "  <tbody>\n",
       "    <tr>\n",
       "      <th>0</th>\n",
       "      <td>MURA-v1.1/valid/XR_WRIST/patient11185/study1_p...</td>\n",
       "      <td>WRIST_patient11185_study1_positive</td>\n",
       "      <td>WRIST</td>\n",
       "      <td>patient11185</td>\n",
       "      <td>study1</td>\n",
       "      <td>positive</td>\n",
       "      <td>1</td>\n",
       "    </tr>\n",
       "    <tr>\n",
       "      <th>1</th>\n",
       "      <td>MURA-v1.1/valid/XR_WRIST/patient11185/study1_p...</td>\n",
       "      <td>WRIST_patient11185_study1_positive</td>\n",
       "      <td>WRIST</td>\n",
       "      <td>patient11185</td>\n",
       "      <td>study1</td>\n",
       "      <td>positive</td>\n",
       "      <td>1</td>\n",
       "    </tr>\n",
       "    <tr>\n",
       "      <th>2</th>\n",
       "      <td>MURA-v1.1/valid/XR_WRIST/patient11185/study1_p...</td>\n",
       "      <td>WRIST_patient11185_study1_positive</td>\n",
       "      <td>WRIST</td>\n",
       "      <td>patient11185</td>\n",
       "      <td>study1</td>\n",
       "      <td>positive</td>\n",
       "      <td>1</td>\n",
       "    </tr>\n",
       "    <tr>\n",
       "      <th>3</th>\n",
       "      <td>MURA-v1.1/valid/XR_WRIST/patient11185/study1_p...</td>\n",
       "      <td>WRIST_patient11185_study1_positive</td>\n",
       "      <td>WRIST</td>\n",
       "      <td>patient11185</td>\n",
       "      <td>study1</td>\n",
       "      <td>positive</td>\n",
       "      <td>1</td>\n",
       "    </tr>\n",
       "    <tr>\n",
       "      <th>4</th>\n",
       "      <td>MURA-v1.1/valid/XR_WRIST/patient11186/study1_p...</td>\n",
       "      <td>WRIST_patient11186_study1_positive</td>\n",
       "      <td>WRIST</td>\n",
       "      <td>patient11186</td>\n",
       "      <td>study1</td>\n",
       "      <td>positive</td>\n",
       "      <td>1</td>\n",
       "    </tr>\n",
       "    <tr>\n",
       "      <th>5</th>\n",
       "      <td>MURA-v1.1/valid/XR_WRIST/patient11186/study1_p...</td>\n",
       "      <td>WRIST_patient11186_study1_positive</td>\n",
       "      <td>WRIST</td>\n",
       "      <td>patient11186</td>\n",
       "      <td>study1</td>\n",
       "      <td>positive</td>\n",
       "      <td>1</td>\n",
       "    </tr>\n",
       "    <tr>\n",
       "      <th>6</th>\n",
       "      <td>MURA-v1.1/valid/XR_WRIST/patient11186/study2_p...</td>\n",
       "      <td>WRIST_patient11186_study2_positive</td>\n",
       "      <td>WRIST</td>\n",
       "      <td>patient11186</td>\n",
       "      <td>study2</td>\n",
       "      <td>positive</td>\n",
       "      <td>1</td>\n",
       "    </tr>\n",
       "    <tr>\n",
       "      <th>7</th>\n",
       "      <td>MURA-v1.1/valid/XR_WRIST/patient11186/study2_p...</td>\n",
       "      <td>WRIST_patient11186_study2_positive</td>\n",
       "      <td>WRIST</td>\n",
       "      <td>patient11186</td>\n",
       "      <td>study2</td>\n",
       "      <td>positive</td>\n",
       "      <td>1</td>\n",
       "    </tr>\n",
       "    <tr>\n",
       "      <th>8</th>\n",
       "      <td>MURA-v1.1/valid/XR_WRIST/patient11186/study2_p...</td>\n",
       "      <td>WRIST_patient11186_study2_positive</td>\n",
       "      <td>WRIST</td>\n",
       "      <td>patient11186</td>\n",
       "      <td>study2</td>\n",
       "      <td>positive</td>\n",
       "      <td>1</td>\n",
       "    </tr>\n",
       "    <tr>\n",
       "      <th>9</th>\n",
       "      <td>MURA-v1.1/valid/XR_WRIST/patient11186/study3_p...</td>\n",
       "      <td>WRIST_patient11186_study3_positive</td>\n",
       "      <td>WRIST</td>\n",
       "      <td>patient11186</td>\n",
       "      <td>study3</td>\n",
       "      <td>positive</td>\n",
       "      <td>1</td>\n",
       "    </tr>\n",
       "  </tbody>\n",
       "</table>\n",
       "</div>"
      ],
      "text/plain": [
       "                                          image_path  \\\n",
       "0  MURA-v1.1/valid/XR_WRIST/patient11185/study1_p...   \n",
       "1  MURA-v1.1/valid/XR_WRIST/patient11185/study1_p...   \n",
       "2  MURA-v1.1/valid/XR_WRIST/patient11185/study1_p...   \n",
       "3  MURA-v1.1/valid/XR_WRIST/patient11185/study1_p...   \n",
       "4  MURA-v1.1/valid/XR_WRIST/patient11186/study1_p...   \n",
       "5  MURA-v1.1/valid/XR_WRIST/patient11186/study1_p...   \n",
       "6  MURA-v1.1/valid/XR_WRIST/patient11186/study2_p...   \n",
       "7  MURA-v1.1/valid/XR_WRIST/patient11186/study2_p...   \n",
       "8  MURA-v1.1/valid/XR_WRIST/patient11186/study2_p...   \n",
       "9  MURA-v1.1/valid/XR_WRIST/patient11186/study3_p...   \n",
       "\n",
       "                          description   type       patient   study   opinion  \\\n",
       "0  WRIST_patient11185_study1_positive  WRIST  patient11185  study1  positive   \n",
       "1  WRIST_patient11185_study1_positive  WRIST  patient11185  study1  positive   \n",
       "2  WRIST_patient11185_study1_positive  WRIST  patient11185  study1  positive   \n",
       "3  WRIST_patient11185_study1_positive  WRIST  patient11185  study1  positive   \n",
       "4  WRIST_patient11186_study1_positive  WRIST  patient11186  study1  positive   \n",
       "5  WRIST_patient11186_study1_positive  WRIST  patient11186  study1  positive   \n",
       "6  WRIST_patient11186_study2_positive  WRIST  patient11186  study2  positive   \n",
       "7  WRIST_patient11186_study2_positive  WRIST  patient11186  study2  positive   \n",
       "8  WRIST_patient11186_study2_positive  WRIST  patient11186  study2  positive   \n",
       "9  WRIST_patient11186_study3_positive  WRIST  patient11186  study3  positive   \n",
       "\n",
       "   label  \n",
       "0      1  \n",
       "1      1  \n",
       "2      1  \n",
       "3      1  \n",
       "4      1  \n",
       "5      1  \n",
       "6      1  \n",
       "7      1  \n",
       "8      1  \n",
       "9      1  "
      ]
     },
     "execution_count": 12,
     "metadata": {},
     "output_type": "execute_result"
    }
   ],
   "source": [
    "# Load the test data using our custom function.\n",
    "test_set = load_and_transform_data(test_set_filepath)\n",
    "\n",
    "# Preview the first few rows of the test set.\n",
    "print(\"First few rows of the test set:\")\n",
    "test_set.head(10)"
   ]
  },
  {
   "cell_type": "code",
   "execution_count": 13,
   "id": "1e6f5ffa",
   "metadata": {
    "colab": {
     "base_uri": "https://localhost:8080/"
    },
    "executionInfo": {
     "elapsed": 18,
     "status": "ok",
     "timestamp": 1694863837553,
     "user": {
      "displayName": "Dimitris Matsanganis",
      "userId": "11804405996879787534"
     },
     "user_tz": -180
    },
    "id": "1e6f5ffa",
    "outputId": "90179680-0786-4e42-92c9-b7693c5bd40c"
   },
   "outputs": [
    {
     "name": "stdout",
     "output_type": "stream",
     "text": [
      "Test set dimensions: (3197, 7)\n"
     ]
    }
   ],
   "source": [
    "# Display the shape of the test set to understand its size.\n",
    "print(f'Test set dimensions: {test_set.shape}')"
   ]
  },
  {
   "cell_type": "markdown",
   "id": "5e1f9547",
   "metadata": {
    "id": "5e1f9547"
   },
   "source": [
    "#### Summary Statistics for Test Set\n",
    "---\n",
    "\n",
    "In this step, we generate **summary statistics** for the test set, as well. These statistics offer valuable insights into the properties and characteristics of this dataset, contributing to a more thorough analysis."
   ]
  },
  {
   "cell_type": "code",
   "execution_count": 14,
   "id": "2b079f03",
   "metadata": {
    "colab": {
     "base_uri": "https://localhost:8080/"
    },
    "executionInfo": {
     "elapsed": 18,
     "status": "ok",
     "timestamp": 1694863837554,
     "user": {
      "displayName": "Dimitris Matsanganis",
      "userId": "11804405996879787534"
     },
     "user_tz": -180
    },
    "id": "2b079f03",
    "outputId": "c9f910fc-55fc-4e14-e408-9177af80cf69"
   },
   "outputs": [
    {
     "name": "stdout",
     "output_type": "stream",
     "text": [
      "Summary statistics for the test set:\n",
      "             label\n",
      "count  3197.000000\n",
      "mean      0.478574\n",
      "std       0.499619\n",
      "min       0.000000\n",
      "25%       0.000000\n",
      "50%       0.000000\n",
      "75%       1.000000\n",
      "max       1.000000\n"
     ]
    }
   ],
   "source": [
    "# Generate summary statistics for the test set.\n",
    "print(\"Summary statistics for the test set:\")\n",
    "print(test_set.describe())"
   ]
  },
  {
   "cell_type": "markdown",
   "id": "bc839932",
   "metadata": {
    "id": "bc839932"
   },
   "source": [
    "#### Unique Classes in the Test Set\n",
    "---\n",
    "\n",
    "Lastly, we take note of the distinct classes found in the test set. This information will be crucial during the evaluation phase, where we again expect to encounter the classes **0** and **1**."
   ]
  },
  {
   "cell_type": "code",
   "execution_count": 15,
   "id": "4255c0f6",
   "metadata": {
    "colab": {
     "base_uri": "https://localhost:8080/"
    },
    "executionInfo": {
     "elapsed": 17,
     "status": "ok",
     "timestamp": 1694863837554,
     "user": {
      "displayName": "Dimitris Matsanganis",
      "userId": "11804405996879787534"
     },
     "user_tz": -180
    },
    "id": "4255c0f6",
    "outputId": "32f536ac-3dd2-4b9f-e31e-badb96d1bca3"
   },
   "outputs": [
    {
     "name": "stdout",
     "output_type": "stream",
     "text": [
      "Unique classes in the test set:\n",
      "[1 0]\n"
     ]
    }
   ],
   "source": [
    "# Display the unique classes in the test set.\n",
    "print(\"Unique classes in the test set:\")\n",
    "print(test_set['label'].unique())"
   ]
  },
  {
   "cell_type": "markdown",
   "id": "abe4df94",
   "metadata": {
    "id": "abe4df94"
   },
   "source": [
    "### Exploring Distribution of Normal and Abnormal Case Studies Across Anatomical Body Parts in MURA Dataset<a class=\"anchor\" id=\"exploring-distribution-of-normal-and-abnormal-case-studies-across-anatomical-body-parts-in-mura-dataset\"></a>\n",
    "---\n",
    "\n",
    "In preparation for the implementation of Convolutional Neural Networks (CNNs) for the analysis of radiographic images in the MURA dataset, we have created the following **visualizations** to gain a holistic understanding of the distribution of **normal** and **abnormal** case studies across different anatomical body parts.\n",
    "\n",
    "#### Visualizing Distribution with Stacked Bar Plots\n",
    "---\n",
    "Our initial visualization takes the form of a stacked bar plot. This informative plot provides an overview of the total number of normal and abnormal cases for each anatomical body part. It serves as a foundational insight into the distribution of cases across different anatomical regions."
   ]
  },
  {
   "cell_type": "code",
   "execution_count": 16,
   "id": "2c92a475",
   "metadata": {
    "colab": {
     "base_uri": "https://localhost:8080/",
     "height": 501
    },
    "executionInfo": {
     "elapsed": 4199,
     "status": "ok",
     "timestamp": 1694863841737,
     "user": {
      "displayName": "Dimitris Matsanganis",
      "userId": "11804405996879787534"
     },
     "user_tz": -180
    },
    "id": "2c92a475",
    "outputId": "576b3958-62e2-41ca-ff2f-6613ae2bfbc4"
   },
   "outputs": [
    {
     "data": {
      "image/png": "[encoded data removed]",
      "text/plain": [
       "<Figure size 1200x800 with 1 Axes>"
      ]
     },
     "metadata": {},
     "output_type": "display_data"
    }
   ],
   "source": [
    "# Set the locale to format numbers with thousand separators.\n",
    "locale.setlocale(locale.LC_ALL, 'en_US.UTF-8')\n",
    "\n",
    "# Set Seaborn style without grid lines.\n",
    "sns.set(style=\"whitegrid\")\n",
    "\n",
    "# Sort the data for better presentation.\n",
    "train_counts = train_set.groupby(['type', 'label']).size().unstack(fill_value=0)\n",
    "\n",
    "# Set the figure size and aspect ratio.\n",
    "fig, ax = plt.subplots(figsize=(12, 8))  # Adjust width and height as needed.\n",
    "ax.set_aspect('auto')  # Adjust 'auto' as needed for the desired aspect ratio.\n",
    "\n",
    "# Create a stacked bar plot.\n",
    "train_counts.plot(kind='bar', stacked=True, color=['#BDE7BD', '#FFB6B3'], width=0.8, ax=ax)\n",
    "\n",
    "# Adding labels and title.\n",
    "ax.set_xlabel('Body Part', fontsize=13)\n",
    "ax.set_ylabel('Number of Case Studies', fontsize=13)\n",
    "ax.set_title('Distribution of Normal and Abnormal Case Studies Across Body Parts', fontsize=14)\n",
    "\n",
    "# Rotate x-axis labels to be parallel to the x-axis.\n",
    "plt.xticks(rotation=0, ha=\"center\", fontsize=10)\n",
    "\n",
    "# Adding data labels with thousand separators.\n",
    "for container in ax.containers:\n",
    "    ax.bar_label(container, padding=-13, labels=[locale.format_string('%d', val, grouping=True) for val in container.datavalues], fontsize=10)\n",
    "\n",
    "# Adding legend.\n",
    "ax.legend(loc='upper left', labels=['Normal', 'Abnormal'], fontsize=10)\n",
    "\n",
    "# Remove grid lines.\n",
    "ax.yaxis.grid(False)\n",
    "ax.xaxis.grid(False)\n",
    "\n",
    "# Set y-axis ticks and labels with 'K' for thousands and exclude 0.\n",
    "yticks = ax.get_yticks()\n",
    "yticklabels = [f'{int(y/1000)}K' if y != 0 else '0' for y in yticks]\n",
    "ax.set_yticks(yticks)\n",
    "ax.set_yticklabels(yticklabels)\n",
    "\n",
    "# Save the plot with a higher DPI (900).\n",
    "plt.savefig('distribution_of_case_studies_per_body_part_train.png', bbox_inches='tight', dpi=900)\n",
    "\n",
    "# Show the plot.\n",
    "plt.show()"
   ]
  },
  {
   "cell_type": "markdown",
   "id": "bf3c4a0e",
   "metadata": {
    "id": "bf3c4a0e"
   },
   "source": [
    "#### Visualizing Distribution with Pie Charts\n",
    "---\n",
    "\n",
    "Additionally, we have employed multiple pie charts, each regarding a specific body part, to offer a detailed portrayal of the distribution in terms of percentages. These pie charts present a more granular perspective on the prevalence of normal and abnormal cases within each anatomical category."
   ]
  },
  {
   "cell_type": "code",
   "execution_count": 17,
   "id": "0fe27698",
   "metadata": {
    "colab": {
     "base_uri": "https://localhost:8080/",
     "height": 472
    },
    "executionInfo": {
     "elapsed": 827,
     "status": "ok",
     "timestamp": 1694863842561,
     "user": {
      "displayName": "Dimitris Matsanganis",
      "userId": "11804405996879787534"
     },
     "user_tz": -180
    },
    "id": "0fe27698",
    "outputId": "9bfcaf0c-dfa5-419f-d254-0c63867d2133"
   },
   "outputs": [
    {
     "data": {
      "image/png": "[encoded data removed]",
      "text/plain": [
       "<Figure size 1400x1000 with 7 Axes>"
      ]
     },
     "metadata": {},
     "output_type": "display_data"
    }
   ],
   "source": [
    "# Set the locale to format numbers with thousand separators.\n",
    "locale.setlocale(locale.LC_ALL, 'en_US.UTF-8')\n",
    "\n",
    "# Set Seaborn style without grid lines.\n",
    "sns.set(style=\"whitegrid\")\n",
    "\n",
    "# Create a color palette to match the stacked bar plot.\n",
    "colors = ['#BDE7BD', '#FFB6B3']\n",
    "\n",
    "# Set the number of pie charts in each row and column.\n",
    "n_cols = 4  # Adjust the number of columns as needed.\n",
    "n_rows = int(len(train_set['type'].unique()) / n_cols) + 1\n",
    "\n",
    "# Create a figure and axis objects with adjusted size and spacing.\n",
    "fig, axs = plt.subplots(n_rows, n_cols, figsize=(14, 10))  # Adjust the figure size as needed.\n",
    "plt.subplots_adjust(wspace=0.3, hspace=0.5)  # Adjust spacing between pie charts.\n",
    "\n",
    "# Flatten the axis array for easier indexing.\n",
    "axs = axs.flatten()\n",
    "\n",
    "# Loop through each unique body part in the training set.\n",
    "for idx, part in enumerate(train_set['type'].unique()):\n",
    "    # Get a subset of the DataFrame containing only rows of the current body part.\n",
    "    subset = train_set[train_set['type'] == part]\n",
    "\n",
    "    # Plot a pie chart for the subset with matching colors.\n",
    "    pie_data = subset['label'].value_counts()\n",
    "    total_cases = pie_data.sum()\n",
    "    labels = ['Normal', 'Abnormal']\n",
    "    axs[idx].pie(pie_data, labels=labels, autopct='%1.2f%%', colors=colors)\n",
    "\n",
    "    # Set the title to display the body part and total cases.\n",
    "    axs[idx].set_title(f'{part}\\n\\nTotal Cases: {total_cases}\\n', fontsize=12)\n",
    "    axs[idx].set_ylabel('')  # Remove y-label.\n",
    "\n",
    "# Remove any unused subplots.\n",
    "for idx in range(len(train_set['type'].unique()), n_cols * n_rows):\n",
    "    fig.delaxes(axs[idx])\n",
    "\n",
    "# Add an outline border to the final grid in white-gray color.\n",
    "for ax in axs:\n",
    "    for spine in ax.spines.values():\n",
    "        spine.set_color('lightgray')  # You can adjust the color as needed.\n",
    "\n",
    "# Add a common title.\n",
    "fig.suptitle('Distribution of Normal and Abnormal Case Studies Across Body Parts', fontsize=16)\n",
    "\n",
    "# Show all pie charts in one output pane.\n",
    "plt.tight_layout(rect=[0, 0.03, 1, 0.95])  # Adjust the position of the suptitle.\n",
    "plt.show()"
   ]
  },
  {
   "cell_type": "markdown",
   "id": "342a033c",
   "metadata": {
    "id": "342a033c"
   },
   "source": [
    "### General Insights\n",
    "\n",
    "---\n",
    "\n",
    "Upon examination, it becomes evident that the distribution of these case studies is not uniform across all body parts. Some categories exhibit a relatively balanced distribution of abnormal and normal cases, while others show disparities, with a notable prevalence of one over the other.\n",
    "\n",
    "These distribution patterns hold clinical significance as they reflect the real-world prevalence of musculoskeletal conditions in various anatomical regions. Understanding these variations is essential for developing diagnostic algorithms that are both robust and clinically applicable.\n",
    "\n",
    "For example, some body parts, such as the **\"Shoulder\"**, showcase nearly equal numbers of abnormal and normal cases, suggesting a balanced distribution. In contrast, the \"Wrist\" category demonstrates a higher prevalence of normal cases, while the **\"Hand\"** category also leans towards normal cases, though to a lesser extent.\n",
    "\n",
    "\n",
    "#### Challenges in Model Training\n",
    "\n",
    "The observed disparities in case distribution can pose challenges during the training of CNN models. Imbalanced distributions, as seen in the **\"Wrist\"** category, have the potential to introduce biases into the models, which could, in turn, impact their ability to accurately diagnose musculoskeletal conditions. Therefore, these distribution insights inform model development strategies to ensure robust performance across diverse anatomical regions."
   ]
  },
  {
   "cell_type": "markdown",
   "id": "445f570b",
   "metadata": {
    "id": "445f570b"
   },
   "source": [
    "### Data Splitting Training and Validation Sets<a class=\"anchor\" id=\"data-splitting-trainning-and-validation-sets\"></a>\n",
    "---\n",
    "\n",
    "The function `train_validation_split` serves a critical role in our machine learning pipeline, particularly given our focus on medical diagnostics. In this context, having a robust method for partitioning the data is not just a matter of performance but also of **clinical reliability**.\n",
    "\n",
    "#### Function Overview\n",
    "---\n",
    "The function takes a `Pandas DataFrame` as its input and returns two separate Data Frames: `train_set` and `valid_set`. These represent the training and validation sets, respectively. The function employs **stratification** to ensure that both output sets are representative of the overall data distribution in terms of both 'label' and 'type' fields.\n",
    "\n",
    "#### Key Steps\n",
    "---\n",
    "\n",
    "1. **Feature and Label Isolation**: The feature set (`x`) is defined by dropping the 'label' column from the original dataset. Simultaneously, the label set (`y`) is isolated.\n",
    "\n",
    "\n",
    "2. **Stratified Random Split**: The function uses the `train_test_split` method from scikit-learn, set to reserve 20% of the dataset for the validation set. The `shuffle=True` parameter ensures the data is randomized before splitting. The `stratify` parameter confirms that the 'label' and 'type' distributions in the training and validation sets match those in the original dataset.\n",
    "\n",
    "\n",
    "3. **Data Concatenation**: After splitting, the function reconstructs the `train_set` and `valid_set` by concatenating the feature and label sets.\n",
    "\n",
    "\n",
    "4. **Dimension Verification**: Finally, the dimensions of the resulting sets are printed for verification and debugging purposes.\n",
    "\n",
    "By following these steps, we maintain the **integrity and representativeness** of our training and validation sets, thereby setting the stage for reliable and reproducible machine learning experiments."
   ]
  },
  {
   "cell_type": "code",
   "execution_count": 18,
   "id": "d0cb315f",
   "metadata": {
    "executionInfo": {
     "elapsed": 5,
     "status": "ok",
     "timestamp": 1694863842562,
     "user": {
      "displayName": "Dimitris Matsanganis",
      "userId": "11804405996879787534"
     },
     "user_tz": -180
    },
    "id": "d0cb315f"
   },
   "outputs": [],
   "source": [
    "# A function that splits the dataset into training and validation sets.\n",
    "def train_validation_split(dataset: pd.DataFrame):\n",
    "\n",
    "    # Define the features (x) and labels (y) for the dataset.\n",
    "    x = dataset.drop(columns='label')  # Drop the label column to isolate the features.\n",
    "    y = dataset.label  # Isolate the label column.\n",
    "\n",
    "    # Perform stratified random splitting of the dataset.\n",
    "    # Stratification ensures that the distribution of 'label' and 'type' is consistent across both sets.\n",
    "    x_train, x_valid, y_train, y_valid = train_test_split(\n",
    "        x, y,\n",
    "        test_size=0.2,  # Reserve 20% of the data for validation.\n",
    "        shuffle=True,  # Shuffle the data before splitting.\n",
    "        stratify=dataset[['label', 'type']],  # Stratify based on the 'label' and 'type' columns.\n",
    "        random_state=1  # Set random state for reproducibility.\n",
    "    )\n",
    "\n",
    "    # Concatenate the features and labels to form the complete training and validation sets.\n",
    "    train_set = pd.concat([x_train, y_train], axis=1)\n",
    "    valid_set = pd.concat([x_valid, y_valid], axis=1)\n",
    "\n",
    "    # Print the shapes of the training and validation sets for immediate feedback.\n",
    "    print(f'Training set dimensions: {train_set.shape}')\n",
    "    print(f'Validation set dimensions: {valid_set.shape}')\n",
    "\n",
    "    return train_set, valid_set"
   ]
  },
  {
   "cell_type": "markdown",
   "id": "b8265668",
   "metadata": {
    "id": "b8265668"
   },
   "source": [
    "### Execution of Data Splitting Function\n",
    "---\n",
    "\n",
    "Upon executing the `train_validation_split` function, the dataset is divided into training and validation sets according to the prescribed methodology. This step is pivotal as it prepares the data for the forthcoming machine learning operations, ensuring that the model will be trained and validated on **distinct subsets** of the data."
   ]
  },
  {
   "cell_type": "code",
   "execution_count": 19,
   "id": "0f816d98",
   "metadata": {
    "colab": {
     "base_uri": "https://localhost:8080/"
    },
    "executionInfo": {
     "elapsed": 470,
     "status": "ok",
     "timestamp": 1694863843028,
     "user": {
      "displayName": "Dimitris Matsanganis",
      "userId": "11804405996879787534"
     },
     "user_tz": -180
    },
    "id": "0f816d98",
    "outputId": "d3bb8cf7-108c-43a0-a1ba-68bfcb01f7a7"
   },
   "outputs": [
    {
     "name": "stdout",
     "output_type": "stream",
     "text": [
      "Training set dimensions: (29446, 7)\n",
      "Validation set dimensions: (7362, 7)\n"
     ]
    }
   ],
   "source": [
    "# Execute the data splitting function to create training and validation sets.\n",
    "train_set, valid_set = train_validation_split(train_set)"
   ]
  },
  {
   "cell_type": "markdown",
   "id": "cc5354ca",
   "metadata": {
    "id": "cc5354ca"
   },
   "source": [
    "### Analyzing Case Study Distribution for CNN Implementation in the MURA Dataset<a class=\"anchor\" id=\"analyzing-case-study-distribution-for-cnn-implementation-in-the-mura-dataset\"></a>\n",
    "---\n",
    "\n",
    "Our next step is to gain a comprehensive understanding of the distribution of case studies across both the training and validation sets. This knowledge is vital as it informs our approach to model development and evaluation.\n",
    "\n",
    "To visually represent this distribution, we have utilized a **stacked bar chart**. The following chart provides a clear overview of the number of case studies for each anatomical body part, distinguishing between the training  and validation sets."
   ]
  },
  {
   "cell_type": "code",
   "execution_count": 20,
   "id": "9fb82bd6",
   "metadata": {
    "colab": {
     "base_uri": "https://localhost:8080/",
     "height": 480
    },
    "executionInfo": {
     "elapsed": 635,
     "status": "ok",
     "timestamp": 1694863843660,
     "user": {
      "displayName": "Dimitris Matsanganis",
      "userId": "11804405996879787534"
     },
     "user_tz": -180
    },
    "id": "9fb82bd6",
    "outputId": "516a2b0f-0435-4fee-8782-f0aaa79accfa"
   },
   "outputs": [
    {
     "data": {
      "image/png": "[encoded data removed]",
      "text/plain": [
       "<Figure size 1000x600 with 1 Axes>"
      ]
     },
     "metadata": {},
     "output_type": "display_data"
    }
   ],
   "source": [
    "# Suppress the specific FutureWarning from Seaborn.\n",
    "warnings.filterwarnings(\"ignore\", category=FutureWarning, module=\"seaborn\")\n",
    "\n",
    "# Set the locale to format numbers with thousand separators.\n",
    "locale.setlocale(locale.LC_ALL, 'en_US.UTF-8')\n",
    "\n",
    "# Set Seaborn style for subtle grid lines.\n",
    "sns.set(style=\"whitegrid\")\n",
    "\n",
    "# Create figure and axes with a specific size.\n",
    "plt.figure(figsize=(10, 6), dpi=100)\n",
    "\n",
    "# Sort the data for better presentation.\n",
    "train_counts = train_set['type'].value_counts().sort_index()\n",
    "valid_counts = valid_set['type'].value_counts().sort_index()\n",
    "\n",
    "# Plot train set.\n",
    "ax = sns.barplot(x=train_counts.index, y=train_counts.values, color='#cdf6ff', label='Train Set')\n",
    "\n",
    "# Plot validation set.\n",
    "sns.barplot(x=valid_counts.index, y=valid_counts.values, color='#50e0ff', ax=ax, label='Validation Set')\n",
    "\n",
    "# Adding labels and title.\n",
    "plt.xlabel('Body Part', fontsize=10)\n",
    "plt.ylabel('Number of Case Studies')\n",
    "plt.title('Distribution of Case Studies Across Body Parts', fontsize=12)\n",
    "\n",
    "# Adjust font size for category names on the x-axis.\n",
    "ax.set_xticklabels(ax.get_xticklabels(), fontsize=8)\n",
    "\n",
    "# Remove y-axis ticks.\n",
    "plt.yticks([])\n",
    "\n",
    "# Adding data labels with thousand separators.\n",
    "for p in ax.patches:\n",
    "    ax.annotate(locale.format_string('%d', p.get_height(), grouping=True),\n",
    "                (p.get_x() + p.get_width() / 2., p.get_height()),\n",
    "                ha='center', va='center',\n",
    "                fontsize=8, color='black',\n",
    "                xytext=(0, 5),\n",
    "                textcoords='offset points')\n",
    "\n",
    "# Adding legend.\n",
    "plt.legend(fontsize=8)\n",
    "\n",
    "# Save the plot.\n",
    "plt.savefig('case_study_distribution.png', bbox_inches='tight', dpi=400)\n",
    "\n",
    "# Show the plot.\n",
    "plt.show()"
   ]
  },
  {
   "cell_type": "markdown",
   "id": "53fc7f5e",
   "metadata": {
    "id": "53fc7f5e"
   },
   "source": [
    "### General Insights\n",
    "---\n",
    "\n",
    "Our analysis of the case study distribution across different anatomical body parts in both the training and validation sets reveals several key insights. Notably, the **\"Wrist\"** and **\"Shoulder\"** categories have the highest number of case studies in both sets, indicating their prevalence in the dataset.\n",
    "\n",
    "Understanding this distribution is essential for model development, as it helps us ensure that our CNN is trained on a diverse range of cases, thus enhancing its ability to generalize and accurately diagnose musculoskeletal conditions across various anatomical regions. Moreover, it informs our strategies for model evaluation, ensuring that our CNN's performance is robust and clinically applicable."
   ]
  },
  {
   "cell_type": "markdown",
   "id": "286c4a36",
   "metadata": {
    "id": "286c4a36"
   },
   "source": [
    "### Image Data Generation and Augmentation<a class=\"anchor\" id=\"image-data-generation-and-augmentation\"></a>\n",
    "---\n",
    "Establishing and configuring an `ImageDataGenerator` object is a crucial step in the pipeline, expecially for handling **image data augmentation** and **preprocessing**. These processes not only expand the dataset but also assist the model in generalizing better to unseen data.\n",
    "\n",
    "The following code sets up the `ImageDataGenerator` and generates augmented images from the `train_set`."
   ]
  },
  {
   "cell_type": "code",
   "execution_count": 21,
   "id": "10c05517",
   "metadata": {
    "colab": {
     "base_uri": "https://localhost:8080/"
    },
    "executionInfo": {
     "elapsed": 410,
     "status": "ok",
     "timestamp": 1694863844064,
     "user": {
      "displayName": "Dimitris Matsanganis",
      "userId": "11804405996879787534"
     },
     "user_tz": -180
    },
    "id": "10c05517",
    "outputId": "b549c28b-dd4c-4852-a0b2-4dff98b942d8"
   },
   "outputs": [
    {
     "name": "stdout",
     "output_type": "stream",
     "text": [
      "Found 29446 validated image filenames.\n"
     ]
    }
   ],
   "source": [
    "# Initialize an ImageDataGenerator object for augmenting and preprocessing the training dataset.\n",
    "augmented_image_data_gen = ImageDataGenerator(\n",
    "    rotation_range=30,                                 # Randomly rotate images up to 30 degrees.\n",
    "    brightness_range=(0.8, 1.2),                       # Randomly adjust the brightness of images.\n",
    "    horizontal_flip=True,                              # Randomly flip images horizontally.\n",
    "    rescale=random.uniform(0.95, 1.3),                 # Randomly rescale the images.\n",
    "    preprocessing_function=preprocess_input            # Apply preprocessing suitable for the third VGG19 model.\n",
    ")\n",
    "\n",
    "# Generate batches of augmented images from the training dataset.\n",
    "augmented_train_data_gen = augmented_image_data_gen.flow_from_dataframe(\n",
    "    train_set,\n",
    "    x_col='image_path',                                # Column containing the image file paths.\n",
    "    y_col='label',                                     # Column containing the image labels.\n",
    "    target_size=(224, 224),                            # Resize images to 224x224 pixels.\n",
    "    class_mode='raw',                                  # Labels are integers, so use 'raw' as the class_mode.\n",
    "    batch_size=64,                                     # Number of samples per gradient update.\n",
    "    shuffle=True,                                      # Shuffle the order of the samples.\n",
    "    seed=seed                                          # Random seed for reproducibility.\n",
    ")"
   ]
  },
  {
   "cell_type": "markdown",
   "id": "04f91331",
   "metadata": {
    "id": "04f91331"
   },
   "source": [
    "#### Key Takeaways:\n",
    "---\n",
    "\n",
    "1. **Rotation Range**: The `rotation_range` parameter specifies the degree range for random rotations. This introduces a form of rotational invariance to the model.\n",
    "\n",
    "\n",
    "2. **Brightness Range**: Randomly changing the brightness helps the model adapt to varying lighting conditions in the images.\n",
    "\n",
    "\n",
    "3. **Horizontal Flip**: Introduces mirror symmetry to the dataset, which is beneficial as medical conditions can appear on either side of the body.\n",
    "\n",
    "\n",
    "4. **Rescale**: Randomly rescales the image pixel values, making the model robust to slight variations in scale.\n",
    "\n",
    "\n",
    "5. **Preprocessing Function**: The preprocessing function prepares the image for the VGG19 model, normalizing pixel values as required.\n",
    "\n",
    "By executing this piece of code, we generate an `augmented_train_data_gen` object, which serves as the generator for supplying batches of augmented and preprocessed images to the model during the training phase."
   ]
  },
  {
   "cell_type": "markdown",
   "id": "18eb2683",
   "metadata": {
    "id": "18eb2683"
   },
   "source": [
    "### Image Data Preprocessing for Validation Set\n",
    "---\n",
    "\n",
    "In the following code block, we prepare the validation images for model evaluation. Unlike the training images, validation images are not augmented, but they are preprocessed to match the input requirements of the model."
   ]
  },
  {
   "cell_type": "code",
   "execution_count": 22,
   "id": "7485cb3e",
   "metadata": {
    "colab": {
     "base_uri": "https://localhost:8080/"
    },
    "executionInfo": {
     "elapsed": 5,
     "status": "ok",
     "timestamp": 1694863844064,
     "user": {
      "displayName": "Dimitris Matsanganis",
      "userId": "11804405996879787534"
     },
     "user_tz": -180
    },
    "id": "7485cb3e",
    "outputId": "5b76c015-6bb1-4f2b-c24d-5133bdcfe92a"
   },
   "outputs": [
    {
     "name": "stdout",
     "output_type": "stream",
     "text": [
      "Found 7362 validated image filenames.\n"
     ]
    }
   ],
   "source": [
    "# Initialize an ImageDataGenerator object for preprocessing the validation dataset.\n",
    "validation_image_data_gen = ImageDataGenerator(\n",
    "    preprocessing_function=preprocess_input  # Apply preprocessing suitable for the third model (VGG).\n",
    ")\n",
    "\n",
    "# Generate batches of preprocessed images from the validation dataset.\n",
    "preprocessed_valid_data_gen = validation_image_data_gen.flow_from_dataframe(\n",
    "    valid_set,\n",
    "    x_col='image_path',                        # Column containing the image file paths.\n",
    "    y_col='label',                             # Column containing the image labels.\n",
    "    target_size=(224, 224),                    # Resize images to 224x224 pixels.\n",
    "    class_mode='raw',                          # Labels are integers, so use 'raw' as the class_mode.\n",
    "    batch_size=64,                             # Number of samples per gradient update.\n",
    "    shuffle=True,                              # Shuffle the order of the samples.\n",
    "    seed=seed                                  # Random seed for reproducibility.\n",
    ")"
   ]
  },
  {
   "cell_type": "markdown",
   "id": "e5148fbc",
   "metadata": {
    "id": "e5148fbc"
   },
   "source": [
    "#### Key Takeaways:\n",
    "---\n",
    "\n",
    "1. **Preprocessing Function**: The `preprocessing_function` normalizes the pixel values of the images, making them suitable for input into the VGG19 model.\n",
    "\n",
    "\n",
    "2. **Target Size**: All images are resized to 224x224 pixels to conform to the input size requirements of the VGG19 model.\n",
    "\n",
    "\n",
    "3. **Class Mode**: We set the `class_mode` to 'raw' because the labels in our dataset are integers.\n",
    "\n",
    "\n",
    "4. **Batch Size**: The `batch_size` parameter controls the number of images processed in each batch during model evaluation.\n",
    "\n",
    "\n",
    "5. **Shuffling and Seed**: We shuffle the images to ensure randomness but also set a random seed for reproducibility.\n",
    "\n",
    "By executing this piece of code, we create a `preprocessed_valid_data_gen` object that functions as the generator for feeding batches of preprocessed images into the model during the validation phase."
   ]
  },
  {
   "cell_type": "markdown",
   "id": "df74eebf",
   "metadata": {
    "id": "df74eebf"
   },
   "source": [
    "### Image Data Preprocessing for Test Set\n",
    "---\n",
    "\n",
    "In the subsequent code block, we prepare the test images for model evaluation. Similar to the validation images, the test images are not augmented but are preprocessed to fit the model's input requirements."
   ]
  },
  {
   "cell_type": "code",
   "execution_count": 23,
   "id": "1884dd61",
   "metadata": {
    "colab": {
     "base_uri": "https://localhost:8080/"
    },
    "executionInfo": {
     "elapsed": 4,
     "status": "ok",
     "timestamp": 1694863844064,
     "user": {
      "displayName": "Dimitris Matsanganis",
      "userId": "11804405996879787534"
     },
     "user_tz": -180
    },
    "id": "1884dd61",
    "outputId": "05643960-421b-4e8b-9aec-e789ec01b6ae"
   },
   "outputs": [
    {
     "name": "stdout",
     "output_type": "stream",
     "text": [
      "Found 3197 validated image filenames.\n"
     ]
    }
   ],
   "source": [
    "# Initialize an ImageDataGenerator object for preprocessing the test dataset.\n",
    "testImagePreprocessor = ImageDataGenerator(\n",
    "    preprocessing_function=preprocess_input  # Apply preprocessing suitable for the VGG19 model.\n",
    ")\n",
    "\n",
    "# Generate batches of preprocessed images from the test dataset.\n",
    "preprocessedTestDataGen = testImagePreprocessor.flow_from_dataframe(\n",
    "    test_set,\n",
    "    x_col='image_path',                      # Column containing the image file paths.\n",
    "    y_col='label',                           # Column containing the image labels.\n",
    "    target_size=(224, 224),                  # Resize images to 224x224 pixels.\n",
    "    class_mode='raw',                        # Labels are integers, so use 'raw' as the class_mode.\n",
    "    batch_size=64,                           # Number of samples per gradient update.\n",
    "    shuffle=False,                           # Do not shuffle the order of the samples.\n",
    "    seed=seed                                # Random seed for reproducibility.\n",
    ")"
   ]
  },
  {
   "cell_type": "markdown",
   "id": "5b2e69ac",
   "metadata": {
    "id": "5b2e69ac"
   },
   "source": [
    "#### Key Takeaways:\n",
    "---\n",
    "\n",
    "1. **Preprocessing Function**: The `preprocessing_function` parameter normalizes the pixel values of the images, making them suitable for input into the VGG19 model.\n",
    "\n",
    "\n",
    "2. **Target Size**: Similar to the training and validation sets, all images are resized to 224x224 pixels to conform to the input size requirements of the VGG19 model.\n",
    "\n",
    "\n",
    "3. **Class Mode**: As with the training and validation sets, we set the `class_mode` to 'raw' since the labels in our dataset are integers.\n",
    "\n",
    "\n",
    "4. **Batch Size**: The `batch_size` parameter determines the number of images processed in each batch during model evaluation.\n",
    "\n",
    "\n",
    "5. **Shuffling and Seed**: Unlike the training and validation sets, we set `shuffle` to False for the test set to maintain the original order of the images. We also set a random seed for reproducibility.\n",
    "\n",
    "By executing this code block, we create a `preprocessedTestDataGen` object that functions as the generator for feeding batches of preprocessed images into the model during the testing phase."
   ]
  },
  {
   "cell_type": "markdown",
   "id": "20c40418",
   "metadata": {
    "id": "20c40418"
   },
   "source": [
    "## Advanced Convolutional Neural Network (CNN) Model<a class=\"anchor\" id=\"advanced-convolutional-neural-network-cnn-model\"></a>\n",
    "---\n",
    "\n",
    "In this section, we elaborate on the development of our Convolutional Neural Network (CNN) model, designed specifically for binary classification tasks. The model is composed of several layers, each serving a specific purpose. These layers include convolutional layers for feature extraction, max-pooling layers for down-sampling, and dense layers for classification. Below, we outline the key components and enhancements:\n",
    "\n",
    "1. **Input Layer**: The entry point of our neural network, which receives the input image of dimensions $224 \\times 224 \\times 3$.\n",
    "  \n",
    "  \n",
    "2. **Convolutional Layers**: These are the core building blocks of our CNN. We dynamically add `num_conv_layers` based on user input. Each layer performs 2D convolution on the input image or feature map.\n",
    "\n",
    "    - **Batch Normalization**: Incorporated after each convolutional layer to normalize the activations.\n",
    "    \n",
    "    - **Max Pooling**: Follows the batch normalization to down-sample the feature map and reduce its dimensions.\n",
    "  \n",
    "  \n",
    "3. **Flattening Layer**: Post-convolution and pooling, the 2D feature map is flattened into a 1D array to prepare it for input into the dense layers.\n",
    "  \n",
    "  \n",
    "4. **Dropout Layers**: Introduced to prevent overfitting, these layers randomly set a fraction of input units to 0 during training.\n",
    "\n",
    "\n",
    "5. **Hidden Dense Layer**: A fully connected layer that comes before the output layer. It uses the ReLU activation function for non-linearity.\n",
    "\n",
    "    - **Additional Batch Normalization**: Another batch normalization layer is added for further normalization.\n",
    "\n",
    "\n",
    "6. **Output Layer**: The final layer of our network, designed for binary classification. It uses a sigmoid activation function to ensure the output is between 0 and 1.\n",
    "\n",
    "\n",
    "7. **Model Compilation**: After defining all layers, the model is compiled using the Adam optimizer and binary cross-entropy as the loss function. We also specify additional evaluation metrics for model assessment.\n",
    "\n",
    "\n",
    "8. **Regularization**: L2 regularization is added to the convolutional and dense layers to prevent overfitting.\n",
    "\n",
    "\n",
    "9. **Parameter Flexibility**: The function allows for a high degree of customization, enabling changes to the learning rate, activation functions, and other hyperparameters.\n",
    "\n",
    "The code for model building follows below:"
   ]
  },
  {
   "cell_type": "code",
   "execution_count": 24,
   "id": "3a77f70a",
   "metadata": {
    "executionInfo": {
     "elapsed": 4,
     "status": "ok",
     "timestamp": 1694863844065,
     "user": {
      "displayName": "Dimitris Matsanganis",
      "userId": "11804405996879787534"
     },
     "user_tz": -180
    },
    "id": "3a77f70a"
   },
   "outputs": [],
   "source": [
    "def build_advanced_model(input_shape:tuple=(224,224,3),\n",
    "                                      learning_rate:float=1e-4,\n",
    "                                      num_conv_layers:int=4,\n",
    "                                      num_conv_units:int=32,\n",
    "                                      conv_activation_function:str='relu',\n",
    "                                      dropout_probability:float=0.3,\n",
    "                                      num_hidden_units:int=256,\n",
    "                                      hidden_activation_function:str='relu',\n",
    "                                      output_activation_function:str='sigmoid',\n",
    "                                      evaluation_metrics:list=['accuracy']\n",
    "                                     ):\n",
    "\n",
    "    # Define the input layer with specified shape.\n",
    "    input_layer = Input(shape=input_shape, name='InputLayer')\n",
    "    x = input_layer\n",
    "\n",
    "    # Add convolutional layers dynamically based on num_conv_layers.\n",
    "    for i in range(num_conv_layers):\n",
    "        x = Conv2D(filters=num_conv_units*(2**i),\n",
    "                   kernel_size=(3,3),\n",
    "                   strides=(1,1),\n",
    "                   padding='same',\n",
    "                   activation=conv_activation_function,\n",
    "                   name=f'ConvLayer-{i+1}')(x)\n",
    "\n",
    "        # Add Batch Normalization to normalize activations.\n",
    "        x = BatchNormalization(name=f'BatchNorm-{i+1}')(x)\n",
    "\n",
    "        # Add Max Pooling layer to down-sample feature map.\n",
    "        x = MaxPool2D(pool_size=(2,2),\n",
    "                      strides=(2,2),\n",
    "                      padding='same',\n",
    "                      name=f'MaxPooling-{i+1}')(x)\n",
    "\n",
    "    # Flatten the feature map to feed into dense layers.\n",
    "    x = Flatten(name='FlattenLayer')(x)\n",
    "\n",
    "    # Add dropout layer to prevent overfitting.\n",
    "    x = Dropout(rate=dropout_probability, name='DropoutLayer1')(x)\n",
    "\n",
    "    # Add a dense layer before the output layer.\n",
    "    x = Dense(units=num_hidden_units,\n",
    "              activation=hidden_activation_function,\n",
    "              name='HiddenLayer')(x)\n",
    "\n",
    "    # Add another Batch Normalization layer.\n",
    "    x = BatchNormalization(name='BatchNorm-Final')(x)\n",
    "\n",
    "    # Add second dropout layer.\n",
    "    x = Dropout(rate=dropout_probability, name='DropoutLayer2')(x)\n",
    "\n",
    "    # Define the output layer for binary classification.\n",
    "    output_layer = Dense(units=1,\n",
    "                         activation=output_activation_function,\n",
    "                         name='OutputLayer')(x)\n",
    "\n",
    "    # Build and compile the model.\n",
    "    model = Model(inputs=input_layer, outputs=output_layer)\n",
    "\n",
    "    # Add L2 regularization to convolutional and dense layers.\n",
    "    for layer in model.layers:\n",
    "        if isinstance(layer, Conv2D) or isinstance(layer, Dense):\n",
    "            layer.kernel_regularizer = l2(0.01)\n",
    "\n",
    "    model.compile(optimizer=Adam(learning_rate=learning_rate),\n",
    "                  loss='binary_crossentropy',\n",
    "                  metrics=evaluation_metrics)\n",
    "\n",
    "    return model"
   ]
  },
  {
   "cell_type": "markdown",
   "id": "43594574",
   "metadata": {
    "id": "43594574"
   },
   "source": [
    "### Incorporating Callbacks for Enhanced Model Training\n",
    "---\n",
    "\n",
    "In this section, we discuss the utilization of **Keras Callbacks** to improve the efficiency and effectiveness of our model training process. These callbacks monitor specific metrics and apply changes to the model or training process based on the observed values. Here are the two primary callbacks used:\n",
    "\n",
    "1. **Early Stopping**: This callback monitors the `val_loss` during the training process. If the validation loss does not improve for 10 consecutive epochs, the training will be terminated. This mechanism aids in avoiding overfitting and ensures that the model generalizes well to new data. Furthermore, the best model weights are restored, meaning we always have the most optimal model up to that point.\n",
    "\n",
    "\n",
    "2. **Reduce Learning Rate on Plateau**: This callback also monitors the `val_loss`. If no improvement is observed for 5 consecutive epochs, the learning rate is reduced by a factor of 0.1. This adaptive learning rate can help the model to overcome local minima or speed up convergence. The learning rate will never go below $1 \\times 10^{-10}$, providing a lower bound.\n",
    "\n",
    "\n",
    "3. **ModelCheckpoint**: This callback is designed for optimal model weight storage and efficient training. It saves the model weights to a specified **filepath**, allowing for easy model retrieval later. The **monitor='val_loss'** parameter ensures that weights are updated only when there's an improvement in the validation loss. By setting **save_weights_only=True**, the callback saves only the model's weights, optimizing storage usage. The **mode='min'** parameter aims to minimize the monitored metric (`val_loss`), ensuring that the model weights are only updated when a lower validation loss is achieved. Finally, **save_best_only=True** ensures that only the best weights, as determined by the monitored metric, are saved. This guarantees that the most effective version of the model is always available."
   ]
  },
  {
   "cell_type": "code",
   "execution_count": 25,
   "id": "91806fb3",
   "metadata": {
    "executionInfo": {
     "elapsed": 3708,
     "status": "ok",
     "timestamp": 1694863847770,
     "user": {
      "displayName": "Dimitris Matsanganis",
      "userId": "11804405996879787534"
     },
     "user_tz": -180
    },
    "id": "91806fb3"
   },
   "outputs": [],
   "source": [
    "# Generate a timestamp for the current time.\n",
    "current_time = datetime.now().strftime(\"%Y-%m-%d_%H-%M-%S\")\n",
    "\n",
    "# Create a relevant checkpoint path.\n",
    "checkpoint_filepath = \"checkpoints/muramed_advanced_CNN_2023-09-16_15-46-22/weights.hdf5\"\n",
    "\n",
    "# Define EarlyStopping Callback.\n",
    "early_stopping = EarlyStopping(\n",
    "    monitor='val_loss',             # Monitors the validation loss for improvements.\n",
    "    patience=10,                    # Number of epochs with no improvement to wait before stopping.\n",
    "    mode='min',                     # Minimization mode for loss.\n",
    "    restore_best_weights=True,      # Restores model weights from the epoch with the best value of monitored metric.\n",
    "    verbose=1                       # Level of verbosity.\n",
    ")\n",
    "\n",
    "# Define ReduceLROnPlateau Callback.\n",
    "reduce_lr = ReduceLROnPlateau(\n",
    "    monitor='val_loss',             # Monitors the validation loss for improvements.\n",
    "    patience=5,                     # Number of epochs with no improvement after which learning rate will be reduced.\n",
    "    mode='min',                     # Minimization mode for loss.\n",
    "    factor=0.1,                     # Factor by which the learning rate will be reduced.\n",
    "    min_lr=1e-10,                   # Lower bound on the learning rate.\n",
    "    verbose=1                       # Level of verbosity.\n",
    ")\n",
    "\n",
    "# Define ModelCheckpoint Callback.\n",
    "model_checkpoint_callback = ModelCheckpoint(\n",
    "    filepath=checkpoint_filepath,   # Save model weights to a file path that includes the model's name and current timestamp.\n",
    "    save_weights_only=True,         # Only save the model's weights.\n",
    "    monitor='val_loss',             # Monitors the validation loss for improvements.\n",
    "    mode='min',                     # Minimization mode for loss.\n",
    "    save_best_only=True             # Only save the model's weights if they are the best so far.\n",
    ")\n",
    "\n",
    "# Aggregate Callbacks.\n",
    "custom_callbacks = [early_stopping, reduce_lr, model_checkpoint_callback]\n",
    "\n",
    "# Custom metrics for VGG19 model.\n",
    "custom_metrics = [Precision(name='precision'),\n",
    "                  Recall(name='recall'),\n",
    "                  BinaryAccuracy(name='bin_accuracy'),\n",
    "                  AUC(name='auc_roc'),\n",
    "                  CohenKappa(name='cohen_kappa', num_classes=2)]"
   ]
  },
  {
   "cell_type": "markdown",
   "id": "b946c1f8",
   "metadata": {
    "id": "b946c1f8"
   },
   "source": [
    "By incorporating these callbacks, we add an adaptive layer to our training regimen, allowing the model to adjust itself for optimized performance. Both of these callbacks are aggregated into a list named `CALLBACKS`, which will be used during model training."
   ]
  },
  {
   "cell_type": "markdown",
   "id": "19906cdc",
   "metadata": {
    "id": "19906cdc"
   },
   "source": [
    "### Model Training Procedure<a class=\"anchor\" id=\"model-training-procedure\"></a>\n",
    "---\n",
    "\n",
    "In this section, we provide a detailed explanation of the elements involved in our model's training process, encompassed within the function `train_model`. This function serves as the core engine, driving the learning of our Convolutional Neural Network (CNN). Below are the key components:\n",
    "\n",
    "1. **Model Building**: The function initializes the process by building the model using our previously defined `build_model` function. This step sets the architecture and compiles the model with the specified parameters.\n",
    "\n",
    "\n",
    "2. **Training**: Once the model is built, it is then trained using the `fit` method. The training data, batch size, number of epochs, and other parameters are passed during this stage.\n",
    "\n",
    "\n",
    "3. **Callbacks**: If specified, Keras callbacks like Early Stopping or Learning Rate Reduction are implemented during the training to optimize the process.\n",
    "\n",
    "\n",
    "4. **Metrics**: The metrics to be monitored during training are also customizable. By default, we use 'accuracy'.\n",
    "\n",
    "\n",
    "5. **Verbose & Logging**: The function is equipped to display real-time logs during training, giving insights into the model's performance at each epoch.\n",
    "\n",
    "\n",
    "After the completion of the training process, the function returns the trained model along with the training history (`hs`), which can be used for further analysis and evaluation. Additionally, we need to point out that this function encapsulates the entire pipeline required to train our CNN, making it a one-stop solution for model training."
   ]
  },
  {
   "cell_type": "code",
   "execution_count": 26,
   "id": "9e927056",
   "metadata": {
    "executionInfo": {
     "elapsed": 3,
     "status": "ok",
     "timestamp": 1694863847770,
     "user": {
      "displayName": "Dimitris Matsanganis",
      "userId": "11804405996879787534"
     },
     "user_tz": -180
    },
    "id": "9e927056"
   },
   "outputs": [],
   "source": [
    "def train_advanced_model(train_data,\n",
    "                       valid_data,\n",
    "                       input_shape:tuple=(224,224,3),\n",
    "                       learning_rate:float=1e-4,\n",
    "                       conv_layers:int=4,                  # Number of convolutional layers.\n",
    "                       conv_units:int=32,                  # Number of neurons per convolutional layer.\n",
    "                       conv_activation:str='relu',         # Activation function for convolutional layers.\n",
    "                       hidden_dropout_prob:float=0.3,      # Dropout probability for neurons in hidden layers.\n",
    "                       hidden_units:int=256,               # Number of neurons per hidden layer.\n",
    "                       hidden_activation:str='relu',       # Activation function for hidden layers.\n",
    "                       output_activation:str='sigmoid',    # Activation function for output layer.\n",
    "                       metrics = custom_metrics,\n",
    "                       batch_size=128,\n",
    "                       epochs=10,\n",
    "                       verbose=1,\n",
    "                       callbacks:list=None\n",
    "                       ):\n",
    "\n",
    "    # Build the model.\n",
    "    model = build_advanced_model(input_shape,\n",
    "                                              learning_rate,\n",
    "                                              conv_layers,          # Number of convolutional layers, if 0 then equal to LogReg.\n",
    "                                              conv_units,           # Number of neurons per convolutional layer.\n",
    "                                              conv_activation,      # Activation function for convolutional layers.\n",
    "                                              hidden_dropout_prob,  # Boolean to define whether to add dropout.\n",
    "                                              hidden_units,         # Number of neurons per hidden layer.\n",
    "                                              hidden_activation,    # Activation function for hidden layers.\n",
    "                                              output_activation,    # Activation function for output layer.\n",
    "                                              metrics\n",
    "                                              )\n",
    "\n",
    "    print('Started training.')\n",
    "    print('-----------------')\n",
    "    print()\n",
    "\n",
    "    # Train the model.\n",
    "    hs = model.fit(x=train_data,\n",
    "                   batch_size=batch_size,\n",
    "                   epochs=epochs,\n",
    "                   verbose=verbose,\n",
    "                   callbacks=callbacks,\n",
    "                   validation_data=valid_data\n",
    "                  )\n",
    "\n",
    "    print()\n",
    "    print('Finished training.')\n",
    "    print('------------------')\n",
    "    print()\n",
    "\n",
    "    return model, hs"
   ]
  },
  {
   "cell_type": "markdown",
   "id": "b5b82beb",
   "metadata": {
    "id": "b5b82beb"
   },
   "source": [
    "### Model Training Execution and Time Monitoring<a class=\"anchor\" id=\"model-training-execution-and-time-monitoring\"></a>\n",
    "---\n",
    "\n",
    "In this section, we outline the steps for executing the model's training process. The core elements within this code block include:\n",
    "\n",
    "1. **Start Time**: Initially, we capture the current system time before the training begins. This is crucial for calculating the total time spent in training the model.\n",
    "\n",
    "\n",
    "2. **Model Training**: The core of this section involves executing the `train_model` function. Here, the actual training of the Convolutional Neural Network (CNN) occurs. We pass the training and validation data generators, along with other specified parameters like epochs and callbacks.\n",
    "\n",
    "\n",
    "3. **Callbacks**: We have included a set of Keras callbacks in the training process. These are particularly useful for optimizing the training procedure, and they include Early Stopping and Learning Rate Reduction mechanisms.\n",
    "\n",
    "\n",
    "4. **End Time**: After the model has been trained, we capture the system time again to calculate the total duration of the training process.\n",
    "\n",
    "\n",
    "5. **Elapsed Time**: Finally, we display the total time elapsed during the training, giving us an indication of the computational efficiency involved in the process.\n",
    "\n",
    "For more details, please refer to the code below:"
   ]
  },
  {
   "cell_type": "code",
   "execution_count": 27,
   "id": "60801950",
   "metadata": {
    "colab": {
     "base_uri": "https://localhost:8080/"
    },
    "executionInfo": {
     "elapsed": 6205325,
     "status": "ok",
     "timestamp": 1694870053092,
     "user": {
      "displayName": "Dimitris Matsanganis",
      "userId": "11804405996879787534"
     },
     "user_tz": -180
    },
    "id": "60801950",
    "outputId": "bd3f10dc-e297-4fa7-e9d9-0c752313ea4c"
   },
   "outputs": [
    {
     "name": "stdout",
     "output_type": "stream",
     "text": [
      "Started training.\n",
      "-----------------\n",
      "\n",
      "Epoch 1/10\n",
      "461/461 [==============================] - 674s 1s/step - loss: 0.7801 - precision: 0.4721 - recall: 0.4802 - bin_accuracy: 0.5730 - auc_roc: 0.5878 - cohen_kappa: 0.1158 - val_loss: 0.6810 - val_precision: 0.5354 - val_recall: 0.5012 - val_bin_accuracy: 0.6227 - val_auc_roc: 0.6429 - val_cohen_kappa: 0.2084 - lr: 1.0000e-04\n",
      "Epoch 2/10\n",
      "461/461 [==============================] - 613s 1s/step - loss: 0.6923 - precision: 0.5365 - recall: 0.4487 - bin_accuracy: 0.6206 - auc_roc: 0.6381 - cohen_kappa: 0.1909 - val_loss: 0.6880 - val_precision: 0.4832 - val_recall: 0.6447 - val_bin_accuracy: 0.5778 - val_auc_roc: 0.6435 - val_cohen_kappa: 0.1681 - lr: 1.0000e-04\n",
      "Epoch 3/10\n",
      "461/461 [==============================] - 583s 1s/step - loss: 0.6669 - precision: 0.5701 - recall: 0.4644 - bin_accuracy: 0.6421 - auc_roc: 0.6652 - cohen_kappa: 0.2339 - val_loss: 0.6521 - val_precision: 0.5226 - val_recall: 0.7005 - val_bin_accuracy: 0.6203 - val_auc_roc: 0.6993 - val_cohen_kappa: 0.2527 - lr: 1.0000e-04\n",
      "Epoch 4/10\n",
      "461/461 [==============================] - 586s 1s/step - loss: 0.6528 - precision: 0.5874 - recall: 0.4636 - bin_accuracy: 0.6517 - auc_roc: 0.6778 - cohen_kappa: 0.2514 - val_loss: 0.6032 - val_precision: 0.5920 - val_recall: 0.5442 - val_bin_accuracy: 0.6642 - val_auc_roc: 0.7151 - val_cohen_kappa: 0.2936 - lr: 1.0000e-04\n",
      "Epoch 5/10\n",
      "461/461 [==============================] - 586s 1s/step - loss: 0.6375 - precision: 0.6056 - recall: 0.4815 - bin_accuracy: 0.6638 - auc_roc: 0.6954 - cohen_kappa: 0.2781 - val_loss: 0.6393 - val_precision: 0.5930 - val_recall: 0.4061 - val_bin_accuracy: 0.6474 - val_auc_roc: 0.6594 - val_cohen_kappa: 0.2287 - lr: 1.0000e-04\n",
      "Epoch 6/10\n",
      "461/461 [==============================] - 584s 1s/step - loss: 0.6235 - precision: 0.6200 - recall: 0.4939 - bin_accuracy: 0.6732 - auc_roc: 0.7083 - cohen_kappa: 0.2984 - val_loss: 0.5941 - val_precision: 0.5882 - val_recall: 0.5748 - val_bin_accuracy: 0.6656 - val_auc_roc: 0.7227 - val_cohen_kappa: 0.3031 - lr: 1.0000e-04\n",
      "Epoch 7/10\n",
      "461/461 [==============================] - 589s 1s/step - loss: 0.6159 - precision: 0.6259 - recall: 0.5056 - bin_accuracy: 0.6781 - auc_roc: 0.7161 - cohen_kappa: 0.3103 - val_loss: 0.5863 - val_precision: 0.6131 - val_recall: 0.5866 - val_bin_accuracy: 0.6834 - val_auc_roc: 0.7372 - val_cohen_kappa: 0.3379 - lr: 1.0000e-04\n",
      "Epoch 8/10\n",
      "461/461 [==============================] - 586s 1s/step - loss: 0.5988 - precision: 0.6497 - recall: 0.5124 - bin_accuracy: 0.6914 - auc_roc: 0.7316 - cohen_kappa: 0.3366 - val_loss: 0.6289 - val_precision: 0.7478 - val_recall: 0.3079 - val_bin_accuracy: 0.6783 - val_auc_roc: 0.7239 - val_cohen_kappa: 0.2623 - lr: 1.0000e-04\n",
      "Epoch 9/10\n",
      "461/461 [==============================] - 587s 1s/step - loss: 0.5950 - precision: 0.6570 - recall: 0.5208 - bin_accuracy: 0.6965 - auc_roc: 0.7375 - cohen_kappa: 0.3480 - val_loss: 0.6129 - val_precision: 0.6621 - val_recall: 0.3556 - val_bin_accuracy: 0.6663 - val_auc_roc: 0.7125 - val_cohen_kappa: 0.2513 - lr: 1.0000e-04\n",
      "Epoch 10/10\n",
      "461/461 [==============================] - 598s 1s/step - loss: 0.5931 - precision: 0.6578 - recall: 0.5138 - bin_accuracy: 0.6955 - auc_roc: 0.7384 - cohen_kappa: 0.3447 - val_loss: 0.6306 - val_precision: 0.6637 - val_recall: 0.4319 - val_bin_accuracy: 0.6820 - val_auc_roc: 0.7047 - val_cohen_kappa: 0.3004 - lr: 1.0000e-04\n",
      "\n",
      "Finished training.\n",
      "------------------\n",
      "\n",
      "Total time for training: 6205 seconds.\n"
     ]
    }
   ],
   "source": [
    "# Capture the start time to monitor how long training takes.\n",
    "start_time = time.time()\n",
    "\n",
    "# Execute the function to train the model.\n",
    "cnn_model_advanced, cnn_history_advanced = train_advanced_model(train_data=augmented_train_data_gen,\n",
    "                                            valid_data=preprocessed_valid_data_gen,\n",
    "                                            epochs=10, #10\n",
    "                                            callbacks=custom_callbacks,\n",
    "                                            metrics=custom_metrics)\n",
    "\n",
    "# Capture the end time of training.\n",
    "end_time = time.time()\n",
    "\n",
    "# Calculate and print the time elapsed during training.\n",
    "print(f'Total time for training: {int(end_time - start_time)} seconds.')"
   ]
  },
  {
   "cell_type": "markdown",
   "id": "f74a7dfc",
   "metadata": {
    "id": "f74a7dfc"
   },
   "source": [
    "### Training and Evaluation Insights for the Advanced CNN Model\n",
    "---\n",
    "\n",
    "The total time taken for training the advanced CNN model was approximately 6,205 seconds (or about 103.4 minutes).\n",
    "\n",
    "#### Metric Observations\n",
    "\n",
    "**Advanced CNN Training (10 Epochs):**\n",
    "\n",
    "- **Loss**: Started at 0.7801 and reduced to 0.5931.\n",
    "\n",
    "\n",
    "- **Precision**: Increased from 0.4721 to 0.6578.\n",
    "\n",
    "\n",
    "- **Recall**: Increased from 0.4802 to 0.5138.\n",
    "\n",
    "\n",
    "- **Binary Accuracy**: Improved from 0.5730 to 0.6955.\n",
    "\n",
    "\n",
    "- **AUC-ROC**: Improved from 0.5878 to 0.7384.\n",
    "\n",
    "\n",
    "- **Cohen's Kappa**: Started at 0.2084 and increased to 0.3004.\n",
    "\n",
    "#### Key Insights:\n",
    "\n",
    "1. **Convergence**: The model shows signs of convergence as the loss decreases over epochs for both the training and validation sets.\n",
    "\n",
    "\n",
    "2. **Precision and Recall**: Both precision and recall show improvement, but they are not as high as one might expect for a well-performing classifier. \n",
    "\n",
    "\n",
    "3. **AUC-ROC**: The AUC-ROC value also shows an upward trend, indicating the model's increasing ability to distinguish between the classes effectively. However, it still leaves room for improvement.\n",
    "\n",
    "\n",
    "4. **Cohen's Kappa**: The increase in Cohen's Kappa suggests the model is becoming more reliable but is still not at an optimal level. \n",
    "\n",
    "\n",
    "5. **Binary Accuracy**: The binary accuracy shows a significant improvement, which is a good sign but not as high as one might expect for a well-performing classifier.\n",
    "\n",
    "\n",
    "6. **Time Complexity**: Compared to the VGG-19 model, this advanced CNN model took significantly less time for training."
   ]
  },
  {
   "cell_type": "markdown",
   "id": "bb2f56f0",
   "metadata": {
    "id": "bb2f56f0"
   },
   "source": [
    "### Model Summary Interpretation<a class=\"anchor\" id=\"model-summary-interpretation\"></a>\n",
    "---\n",
    "\n",
    "The `cnn_model.summary()` function provides a comprehensive view of the architecture of your Convolutional Neural Network (CNN). The summary output includes various key pieces of information:\n",
    "\n",
    "1. **Layer (type)**: Specifies the type of the layer, such as Conv2D for a 2D convolutional layer, MaxPool2D for a max-pooling layer, Dense for a fully connected layer, etc.\n",
    "\n",
    "\n",
    "2. **Output Shape**: Indicates the dimensions of the output from each layer. The output shape is essential for understanding how the dimensionality of your data changes as it passes through the network.\n",
    "\n",
    "\n",
    "3. **Param #**: Shows the number of trainable parameters in each layer. This number is crucial for understanding the complexity of your model. A model with too many parameters might be prone to overfitting.\n",
    "\n",
    "\n",
    "4. **Total params**: The total number of trainable and non-trainable parameters in the model.\n",
    "\n",
    "\n",
    "5. **Trainable params**: The number of parameters that will be updated during training.\n",
    "\n",
    "\n",
    "6. **Non-trainable params**: Parameters that remain fixed during training. These are usually parameters imported from pre-trained models."
   ]
  },
  {
   "cell_type": "code",
   "execution_count": 28,
   "id": "583e5f37",
   "metadata": {
    "colab": {
     "base_uri": "https://localhost:8080/"
    },
    "executionInfo": {
     "elapsed": 15,
     "status": "ok",
     "timestamp": 1694870053093,
     "user": {
      "displayName": "Dimitris Matsanganis",
      "userId": "11804405996879787534"
     },
     "user_tz": -180
    },
    "id": "583e5f37",
    "outputId": "357faaad-036e-4713-e307-3d9fcb01fbe2"
   },
   "outputs": [
    {
     "name": "stdout",
     "output_type": "stream",
     "text": [
      "Model: \"model\"\n",
      "_________________________________________________________________\n",
      " Layer (type)                Output Shape              Param #   \n",
      "=================================================================\n",
      " InputLayer (InputLayer)     [(None, 224, 224, 3)]     0         \n",
      "                                                                 \n",
      " ConvLayer-1 (Conv2D)        (None, 224, 224, 32)      896       \n",
      "                                                                 \n",
      " BatchNorm-1 (BatchNormaliz  (None, 224, 224, 32)      128       \n",
      " ation)                                                          \n",
      "                                                                 \n",
      " MaxPooling-1 (MaxPooling2D  (None, 112, 112, 32)      0         \n",
      " )                                                               \n",
      "                                                                 \n",
      " ConvLayer-2 (Conv2D)        (None, 112, 112, 64)      18496     \n",
      "                                                                 \n",
      " BatchNorm-2 (BatchNormaliz  (None, 112, 112, 64)      256       \n",
      " ation)                                                          \n",
      "                                                                 \n",
      " MaxPooling-2 (MaxPooling2D  (None, 56, 56, 64)        0         \n",
      " )                                                               \n",
      "                                                                 \n",
      " ConvLayer-3 (Conv2D)        (None, 56, 56, 128)       73856     \n",
      "                                                                 \n",
      " BatchNorm-3 (BatchNormaliz  (None, 56, 56, 128)       512       \n",
      " ation)                                                          \n",
      "                                                                 \n",
      " MaxPooling-3 (MaxPooling2D  (None, 28, 28, 128)       0         \n",
      " )                                                               \n",
      "                                                                 \n",
      " ConvLayer-4 (Conv2D)        (None, 28, 28, 256)       295168    \n",
      "                                                                 \n",
      " BatchNorm-4 (BatchNormaliz  (None, 28, 28, 256)       1024      \n",
      " ation)                                                          \n",
      "                                                                 \n",
      " MaxPooling-4 (MaxPooling2D  (None, 14, 14, 256)       0         \n",
      " )                                                               \n",
      "                                                                 \n",
      " FlattenLayer (Flatten)      (None, 50176)             0         \n",
      "                                                                 \n",
      " DropoutLayer1 (Dropout)     (None, 50176)             0         \n",
      "                                                                 \n",
      " HiddenLayer (Dense)         (None, 256)               12845312  \n",
      "                                                                 \n",
      " BatchNorm-Final (BatchNorm  (None, 256)               1024      \n",
      " alization)                                                      \n",
      "                                                                 \n",
      " DropoutLayer2 (Dropout)     (None, 256)               0         \n",
      "                                                                 \n",
      " OutputLayer (Dense)         (None, 1)                 257       \n",
      "                                                                 \n",
      "=================================================================\n",
      "Total params: 13236929 (50.49 MB)\n",
      "Trainable params: 13235457 (50.49 MB)\n",
      "Non-trainable params: 1472 (5.75 KB)\n",
      "_________________________________________________________________\n"
     ]
    }
   ],
   "source": [
    "# Model Summary.\n",
    "cnn_model_advanced.summary()"
   ]
  },
  {
   "cell_type": "markdown",
   "id": "66de680f",
   "metadata": {
    "id": "66de680f"
   },
   "source": [
    "#### Observations\n",
    "\n",
    "1. **Input Layer**: The model starts with an input shape of $224 \\times 224 \\times 3$, aligning with standard dimensions for image-based tasks.\n",
    "\n",
    "\n",
    "2. **Convolution Layers**: The model has been enhanced with four convolutional layers, with 32, 64, 128, and 256 filters respectively. These layers serve as the foundation for feature extraction.\n",
    "\n",
    "\n",
    "3. **Batch Normalization**: We employ batch normalization after each convolutional layer and before the final hidden layer. This aids in faster and more stable training.\n",
    "\n",
    "\n",
    "4. **Max Pooling**: Four max-pooling layers are integrated at different stages to reduce the spatial dimensions, thereby improving computational efficiency.\n",
    "\n",
    "\n",
    "5. **Flatten Layer**: The flatten layer transforms the 3D feature maps into a 1D feature vector, making it compatible for fully connected layers.\n",
    "\n",
    "\n",
    "6. **Dropout**: Two dropout layers are incorporated to mitigate the risk of overfitting.\n",
    "\n",
    "\n",
    "7. **Hidden Layer**: The model includes a dense hidden layer with 256 units, providing a rich set of trainable parameters.\n",
    "\n",
    "\n",
    "8. **Total Parameters**: The model is more complex than previously mentioned, with a total of approximately **13.24 million** trainable parameters. This makes the model computationally intensive but potentially more capable.\n",
    "\n",
    "\n",
    "9. **Batch Normalization (Final)**: A final batch normalization layer is included before the second dropout layer to further stabilize the training.\n",
    "\n",
    "\n",
    "10. **Output Layer**: The model concludes with a single dense layer with one unit, suitable for binary classification tasks.\n",
    "\n",
    "Overall, these observations suggest that the model is designed for high computational capability and is aimed at tasks that require complex feature extraction and representation. Thus, its obvious that, the **advanced CNN model** architecture is more complex, featuring additional layers and parameters, thereby making it computationally more intensive but potentially better suited for our tasks. However, in that particular case the validation model evaluation results do not present consederable differences this means that the three additional convolution layers for feature extraction did not added more validate and accurate results this indicates the demand for complexity increase to the 2D convolutional layers as well to the dense hidden layers of the main neural network."
   ]
  },
  {
   "cell_type": "markdown",
   "id": "af9bc49f",
   "metadata": {
    "id": "af9bc49f"
   },
   "source": [
    "### Visualization through Plot Model<a class=\"anchor\" id=\"visualization-through-plot-model\"></a>\n",
    "---\n",
    "\n",
    "The `plot_model` function creates a graphical representation of the model architecture, which can be particularly useful for presentations or documentation. The function parameters include:\n",
    "\n",
    "- `to_file`: The filename where the plot will be saved.\n",
    "\n",
    "\n",
    "- `show_shapes`: Whether or not to display shape information.\n",
    "\n",
    "\n",
    "- `show_layer_names`: Whether or not to display layer names.\n",
    "\n",
    "This graphical visualization can provide an intuitive understanding of the model architecture, indicating how data flows through various layers and operations."
   ]
  },
  {
   "cell_type": "code",
   "execution_count": 29,
   "id": "fdc56adb",
   "metadata": {
    "colab": {
     "base_uri": "https://localhost:8080/",
     "height": 1000
    },
    "executionInfo": {
     "elapsed": 863,
     "status": "ok",
     "timestamp": 1694870053952,
     "user": {
      "displayName": "Dimitris Matsanganis",
      "userId": "11804405996879787534"
     },
     "user_tz": -180
    },
    "id": "fdc56adb",
    "outputId": "3fb38ded-670b-4e5f-ef14-786e4216a89b",
    "scrolled": false
   },
   "outputs": [
    {
     "data": {
      "image/png": "[encoded data removed]",
      "text/plain": [
       "<IPython.core.display.Image object>"
      ]
     },
     "execution_count": 29,
     "metadata": {},
     "output_type": "execute_result"
    }
   ],
   "source": [
    "# Define the function to customize the appearance of layers and arrows.\n",
    "def customize_layer(node):\n",
    "    node.set_fillcolor('grey')\n",
    "    node.set_color('grey')\n",
    "    node.set_fontname('Arial')     # Change the font name.\n",
    "    node.set_fontsize(10)          # Adjust the font size.\n",
    "    node.set_penwidth(0.7)         # Adjust the width of the layers.\n",
    "\n",
    "\n",
    "def customize_arrow(edge):\n",
    "    edge.set_color('#73A5C6')\n",
    "    edge.set_penwidth(1)           # Increase arrow line thickness.\n",
    "    edge.set_arrowsize(0.6)        # Adjust arrowhead size.\n",
    "\n",
    "\n",
    "# Create a Dot object with smaller size.\n",
    "dot = tf.keras.utils.model_to_dot(\n",
    "    cnn_model_advanced,\n",
    "    show_shapes=True,\n",
    "    show_layer_names=True,\n",
    "    rankdir='TB',                  # Vertical orientation.\n",
    "    expand_nested=True,            # Show nested models.\n",
    "    dpi=100,                       # Set the DPI for smaller size.\n",
    ")\n",
    "\n",
    "# Customize the appearance of layers.\n",
    "for node in dot.get_nodes():\n",
    "    customize_layer(node)\n",
    "\n",
    "# Customize the appearance of arrows.\n",
    "for edge in dot.get_edges():\n",
    "    customize_arrow(edge)\n",
    "\n",
    "# Save the plot as an image.\n",
    "dot.write_png('cnn_model_advanced.png')\n",
    "\n",
    "# Display the plot in Jupyter.\n",
    "Image('cnn_model_advanced.png')"
   ]
  },
  {
   "cell_type": "markdown",
   "id": "c64ebdf6",
   "metadata": {
    "id": "c64ebdf6"
   },
   "source": [
    "This will generate a PNG image that outlines the model architecture, complete with the shapes of the tensors between layers and the names of each layer. This diagram can be useful for debugging and for sharing your model architecture with others."
   ]
  },
  {
   "cell_type": "markdown",
   "id": "5f235ec6",
   "metadata": {
    "id": "5f235ec6"
   },
   "source": [
    "### Model Evaluation<a class=\"anchor\" id=\"model-evaluation\"></a>\n",
    "---\n",
    "\n",
    "In the **Model Evaluation** phase, our focus shifts from model training to model performance. We aim to assess how well our model generalizes to new, unseen data. Specifically, we analyze the model's behavior during training and its subsequent predictive performance.\n",
    "\n",
    "\n",
    "#### Learning Curves: A Diagnostic Tool\n",
    "---\n",
    "\n",
    "To diagnose the performance of our neural network model, we employ **learning curves** as an essential tool. Learning curves plot training and validation metrics (typically loss or accuracy) as a function of training epochs. This visualization helps us understand several crucial aspects:\n",
    "\n",
    "- **Underfitting or Overfitting**: If the model performs well on the training set but poorly on the validation set, it's likely overfitting. Conversely, if it performs poorly on both, it's probably underfitting.\n",
    "\n",
    "\n",
    "- **Model Complexity**: A steep curve might suggest that the model is complex and learns quickly, but it may also indicate overfitting.\n",
    "\n",
    "\n",
    "- **Convergence**: The point where the curves stabilize gives us an idea about how many epochs are adequate for training.\n",
    "\n",
    "\n",
    "#### Function for Plotting Learning Curves\n",
    "---\n",
    "\n",
    "To achieve this, we define a function `plot_history` that takes in the training history, number of epochs, and the metric we are interested in (either 'loss' or 'accuracy').\n",
    "\n",
    "Here's a breakdown of what the function does:\n",
    "\n",
    "- **Initialize Plot Settings**: Sets the background, figure size, and font size for the plot.\n",
    "\n",
    "\n",
    "- **Plot Training and Validation Metrics**: Plots both the training and validation curves for the specified metric.\n",
    "\n",
    "\n",
    "- **Customize Axes**: Sets the x and y-axis limits, labels, and ticks for better readability.\n",
    "\n",
    "\n",
    "- **Save Plot**: The plot is saved in SVG format for high-quality figures.\n",
    "\n",
    "\n",
    "This function will be particularly useful when it comes to visualizing the learning curves for different variations of the model, enabling us to choose the best-performing one."
   ]
  },
  {
   "cell_type": "markdown",
   "id": "09346cad",
   "metadata": {
    "id": "09346cad"
   },
   "source": [
    "### Model Evaluation and Learning Curves<a class=\"anchor\" id=\"model-evaluation-and-learning-curves\"></a>\n",
    "---\n",
    "\n",
    "In this section, we explore the performance metrics of our trained Convolutional Neural Network (CNN) model. The two primary metrics under consideration are Loss and Accuracy."
   ]
  },
  {
   "cell_type": "code",
   "execution_count": 30,
   "id": "a63c3984",
   "metadata": {
    "executionInfo": {
     "elapsed": 353,
     "status": "ok",
     "timestamp": 1694870236667,
     "user": {
      "displayName": "Dimitris Matsanganis",
      "userId": "11804405996879787534"
     },
     "user_tz": -180
    },
    "id": "a63c3984"
   },
   "outputs": [],
   "source": [
    "def plot_learning_curves(history, total_epochs, metric, title):\n",
    "\n",
    "    sns.set_style('whitegrid')\n",
    "    plt.rcParams['figure.figsize'] = [15, 8]\n",
    "    plt.rcParams['font.size'] = 16\n",
    "    plt.clf()\n",
    "\n",
    "    for label in history:\n",
    "        plt.plot(\n",
    "            history[label].history[metric],\n",
    "            label=f'{label} Train {metric.capitalize()}',\n",
    "            linewidth=2,\n",
    "            color='#cdf6ff'\n",
    "        )\n",
    "        plt.plot(\n",
    "            history[label].history[f'val_{metric}'],\n",
    "            label=f'{label} Validation {metric.capitalize()}',\n",
    "            linewidth=2,\n",
    "            color='#50e0ff'\n",
    "        )\n",
    "\n",
    "    x_ticks = np.arange(0, total_epochs, 1)\n",
    "    plt.xticks(x_ticks)\n",
    "\n",
    "\n",
    "    # Rename x-ticks to start from 1.\n",
    "    x_tick_labels = [str(x+1) for x in x_ticks]\n",
    "    plt.xticks(x_ticks, x_tick_labels)\n",
    "\n",
    "    plt.xlim((0, total_epochs))\n",
    "    plt.ylim((0, 1))\n",
    "    plt.xlabel('Epochs')\n",
    "    plt.ylabel('Loss' if metric == 'loss' else 'Accuracy')\n",
    "    plt.legend(loc='upper left')\n",
    "    plt.grid(color='#f2f3f5', linestyle='-', linewidth=0.5)\n",
    "    plt.title(title, fontsize=18)\n",
    "    plt.savefig(f'CNN_Learning_Curves_{metric.capitalize()}.svg')\n",
    "    plt.show()"
   ]
  },
  {
   "cell_type": "markdown",
   "id": "f099bba4",
   "metadata": {
    "id": "f099bba4"
   },
   "source": [
    "### CNN Model Training Summary<a class=\"anchor\" id=\"cnn-model-training-summary\"></a>\n",
    "---\n",
    "\n",
    "In this section, we examine the performance metrics of our trained Convolutional Neural Network (CNN) Model. More particularly, we focus on two critical aspects:\n",
    "\n",
    "#### Train Loss & Validation Loss\n",
    "\n",
    "- **Training Loss**: This metric helps us understand how well the model has learned from the training data. A lower value is indicative of better learning.\n",
    "\n",
    "\n",
    "- **Validation Loss**: This is the Loss metric but for the validation set, which the model hasn't seen before. A lower value is better.\n",
    "\n",
    "We visualize these aspects using the function `plot_learning_curves` to plot learning curves for both Training and Validation Loss."
   ]
  },
  {
   "cell_type": "code",
   "execution_count": 31,
   "id": "e8202f96",
   "metadata": {
    "colab": {
     "base_uri": "https://localhost:8080/",
     "height": 520
    },
    "executionInfo": {
     "elapsed": 912,
     "status": "ok",
     "timestamp": 1694870286228,
     "user": {
      "displayName": "Dimitris Matsanganis",
      "userId": "11804405996879787534"
     },
     "user_tz": -180
    },
    "id": "e8202f96",
    "outputId": "f3b13a2d-ac37-4b0f-ea4b-3d19a591328d"
   },
   "outputs": [
    {
     "name": "stdout",
     "output_type": "stream",
     "text": [
      "Advanced CNN Model Training Summary:\n",
      "\n",
      "Train Loss & Validation Loss:\n",
      "\n",
      "Training Loss          : 0.59315\n",
      "Validation Loss        : 0.63055\n"
     ]
    },
    {
     "data": {
      "image/png": "[encoded data removed]",
      "text/plain": [
       "<Figure size 1500x800 with 1 Axes>"
      ]
     },
     "metadata": {},
     "output_type": "display_data"
    }
   ],
   "source": [
    "print(\"Advanced CNN Model Training Summary:\\n\")\n",
    "\n",
    "# Loss.\n",
    "print(\"Train Loss & Validation Loss:\\n\")\n",
    "print(f\"Training Loss          : {cnn_history_advanced.history['loss'][-1]:.5f}\")\n",
    "print(f\"Validation Loss        : {cnn_history_advanced.history['val_loss'][-1]:.5f}\")\n",
    "\n",
    "# Plot learning curves for Loss metric\n",
    "plot_learning_curves(history={'CNN Model': cnn_history_advanced}, total_epochs=10, metric='loss', title='Loss Learning Curves for Advanced CNN Model')"
   ]
  },
  {
   "cell_type": "markdown",
   "id": "0036c75a",
   "metadata": {
    "id": "0036c75a"
   },
   "source": [
    "#### Train Accuracy & Validation Accuracy\n",
    "\n",
    "- **Training Accuracy**: This metric provides us with the fraction of the training set correctly classified by the model. A higher value is indicative of better classification.\n",
    "\n",
    "- **Validation Accuracy**: Similar to Training Accuracy, but specifically calculated for the validation set."
   ]
  },
  {
   "cell_type": "code",
   "execution_count": 32,
   "id": "7efc9eb4",
   "metadata": {
    "colab": {
     "base_uri": "https://localhost:8080/",
     "height": 485
    },
    "executionInfo": {
     "elapsed": 513,
     "status": "ok",
     "timestamp": 1694870318623,
     "user": {
      "displayName": "Dimitris Matsanganis",
      "userId": "11804405996879787534"
     },
     "user_tz": -180
    },
    "id": "7efc9eb4",
    "outputId": "0a79351f-3543-4511-a9ad-4da7f21ed7f4"
   },
   "outputs": [
    {
     "name": "stdout",
     "output_type": "stream",
     "text": [
      "Train Accuracy & Validation Accuracy: \n",
      "\n",
      "Training Accuracy      : 0.69554\n",
      "Validation Accuracy    : 0.68202\n"
     ]
    },
    {
     "data": {
      "image/png": "[encoded data removed]",
      "text/plain": [
       "<Figure size 1500x800 with 1 Axes>"
      ]
     },
     "metadata": {},
     "output_type": "display_data"
    }
   ],
   "source": [
    "# Accuracy.\n",
    "print(\"Train Accuracy & Validation Accuracy: \\n\")\n",
    "print(f\"Training Accuracy      : {cnn_history_advanced.history['bin_accuracy'][-1]:.5f}\")\n",
    "print(f\"Validation Accuracy    : {cnn_history_advanced.history['val_bin_accuracy'][-1]:.5f}\")\n",
    "\n",
    "# Plot learning curves for Accuracy metric\n",
    "plot_learning_curves(history={'CNN Model': cnn_history_advanced}, total_epochs=10, metric='bin_accuracy', title='Accuracy Learning Curves for Advanced CNN Model')"
   ]
  },
  {
   "cell_type": "markdown",
   "id": "8f84f6e0",
   "metadata": {
    "id": "8f84f6e0"
   },
   "source": [
    "#### Observations\n",
    "\n",
    "The Advanced Convolutional Neural Network (CNN) model was trained over a series of epochs, culminating in the following key performance indicators:\n",
    "\n",
    "#### Train Loss & Validation Loss\n",
    "\n",
    "- **Training Loss**: The final training loss value settled at **0.59**, indicating a positive learning curve as the model succeeded in minimizing this objective function.\n",
    "  \n",
    "  \n",
    "- **Validation Loss**: The model concluded with a validation loss of **0.63**. While this is relatively close to the training loss, there remains a slight gap, suggesting that the model may benefit from additional regularization or fine-tuning.\n",
    "\n",
    "\n",
    "#### Train Accuracy & Validation Accuracy\n",
    "\n",
    "- **Training Accuracy**: The model achieved a training accuracy of approximately **69%**, demonstrating its ability to effectively learn patterns from the training data.\n",
    "\n",
    "\n",
    "- **Validation Accuracy**: The final validation accuracy was approximately **68%**. Although this is slightly lower than the training accuracy, it's a reasonable performance that shows the model has generalized well to unseen data.\n",
    "\n",
    "- **Contradictory Signals**: The validation loss being lower than the training loss, coupled with almost identical training and validation accuracy, sends conflicting signals about the model's performance and generalization capabilities.\n",
    "\n",
    "\n",
    "- **Model Complexity**: Given the large number of parameters (~13.24 million), the low accuracy and loss values suggest that the model's complexity is not translating into better performance, raising questions about its architecture.\n",
    "\n",
    "Finally, after executing this function, the learning curves will be displayed, and we will have a clearer understanding of our model's performance. The generated SVG file can be used for reporting or further analysis."
   ]
  },
  {
   "cell_type": "markdown",
   "id": "842f1d0e",
   "metadata": {
    "id": "842f1d0e"
   },
   "source": [
    "### CNN Model Training Insights<a class=\"anchor\" id=\"cnn-model-training-insights\"></a>\n",
    "---\n",
    "\n",
    "In this section, we examine the performance metrics of our trained Convolutional Neural Network (CNN) Model. The summary provides insights into how well the model has learned from the training data and how it performs on unseen validation data.\n",
    "\n",
    "\n",
    "The **loss metrics** are critical indicators of model performance. In our case, both the training and validation loss are in a higher range. This suggests that the model has room for improvement and might be suffering from issues such as overfitting or underfitting. The validation loss being slightly lower than the training loss could be an unusual pattern and warrants further investigation.\n",
    "\n",
    "\n",
    "The **accuracy metrics** provide another angle to assess the model. Both the training and validation accuracies are in the lower range, indicating that the model is struggling to classify the data points accurately. This could be due to various reasons, such as the model architecture, insufficient or imbalanced training data, or the need for further hyperparameter tuning.\n",
    "\n",
    "The training and validation accuracies are almost identical, which usually means the model **is not overfitting**. However, the low accuracy suggests that the model is not learning effectively from the training data.\n",
    "\n",
    "\n",
    "To improve these metrics, various strategies could be considered, such as:\n",
    "\n",
    "- Modifying the model architecture\n",
    "- Tuning hyperparameters\n",
    "- Employing different data augmentation techniques\n",
    "- Balancing the dataset\n",
    "\n",
    "This thoughts will lead to the tunning and implementation of a pretrained model that consist of an advanced architecture with more feature extraction layers and more hidden layers that are characterized from different combinations and alterations of activation functions that will possibly lead to the restriction of loss.\n",
    "\n",
    "#### Actions that should be taken in order to ameliorate the performance of the CNN model\n",
    "---\n",
    "**Rise Complexity**: Consider using deeper architectures, such as ResNet, Inception, or VGG, which have been proven effective especially the VGG architecture is selected as the most prominent one.\n",
    "\n",
    "**Learning Rate Schedule**: Use learning rate schedules such as learning rate decay or adaptive learning rate algorithms like Back Propagation instead of Adam. These can help the model converge faster and reach a better minimum.\n",
    "\n",
    "**Batch Size**: Delegate with batch size for the sequential subtrainning of the model inside each epoch, this can lead to a more robust entry in each circle of the model's loss function calculation that depicts the error in a more accurate manner.\n",
    "\n",
    "**Ensemble Learning**: Change the hyppertunning of the drop's layer in order to fluctuate the number of neurons that participate to the classification decision in order to ameliorate the balnce point between dominant neurons and collective ensemble classification prediction result."
   ]
  },
  {
   "cell_type": "markdown",
   "id": "e70c2d4e",
   "metadata": {
    "id": "e70c2d4e"
   },
   "source": [
    "### Model Evaluation on Test Data<a class=\"anchor\" id=\"model-evaluation-on-test-data\"></a>\n",
    "---\n",
    "\n",
    "In the code snippet bellow, we evaluate our trained CNN model on a test dataset using the `evaluate` method. The method takes the preprocessed validation data generator as an argument and computes the loss and accuracy metrics. The `verbose=2` setting provides an output without a progress bar, thereby offering a more streamlined display of evaluation results.\n",
    "\n",
    "Upon evaluating the CNN model on the test dataset, we observe that both the test loss and test accuracy metrics are presented. These metrics will provide valuable insight into how well the model is likely to perform on unseen data. A lower test loss and a higher test accuracy would indicate a more robust model. It is crucial to compare these metrics with those from the training and validation phases to assess whether the model is underfitting, overfitting, or well-balanced."
   ]
  },
  {
   "cell_type": "code",
   "execution_count": 33,
   "id": "49f300a3",
   "metadata": {
    "colab": {
     "base_uri": "https://localhost:8080/"
    },
    "executionInfo": {
     "elapsed": 23628,
     "status": "ok",
     "timestamp": 1694870369672,
     "user": {
      "displayName": "Dimitris Matsanganis",
      "userId": "11804405996879787534"
     },
     "user_tz": -180
    },
    "id": "49f300a3",
    "outputId": "d43bb1e0-272f-4048-8c12-f5fb7a0e0914"
   },
   "outputs": [
    {
     "name": "stdout",
     "output_type": "stream",
     "text": [
      "50/50 - 23s - loss: 0.6862 - precision: 0.7074 - recall: 0.4392 - bin_accuracy: 0.6447 - auc_roc: 0.6947 - cohen_kappa: 0.2768 - 23s/epoch - 453ms/step\n",
      "\n",
      "Test Loss         : 0.68619\n",
      "Test Accuracy     : 0.70737\n"
     ]
    }
   ],
   "source": [
    "# Evaluate the model on the test data using the evaluate method.\n",
    "# The verbose parameter is set to 2, which means the output will display the evaluation results without a progress bar.\n",
    "model_evaluation_advanced = cnn_model_advanced.evaluate(preprocessedTestDataGen, verbose=2)\n",
    "\n",
    "# Print the test evaluation results.\n",
    "# The format method is used to round the loss and accuracy values to five decimal places.\n",
    "print()\n",
    "print(f\"Test Loss         : {model_evaluation_advanced[0]:.5f}\")  # Display the computed test loss, rounded to five decimal places.\n",
    "print(f\"Test Accuracy     : {model_evaluation_advanced[1]:.5f}\")  # Display the computed test accuracy, rounded to five decimal places."
   ]
  },
  {
   "cell_type": "markdown",
   "id": "5059c851",
   "metadata": {
    "id": "5059c851"
   },
   "source": [
    "#### Observations\n",
    "\n",
    "- **Test Loss**: The model reported a test loss of 0.68, which is identical to the validation loss.\n",
    "  \n",
    "  \n",
    "- **Test Accuracy**: The test accuracy is approximately 70.73%, also mirroring the validation accuracy.\n",
    "\n",
    "\n",
    "- **Time Metrics**: The test evaluation took 56 seconds, averaging around 23 seconds per epoch and 453 ms per step.\n",
    "\n",
    "\n",
    "#### Comparative Analysis:\n",
    "\n",
    "1. **Consistency Across Sets**: The model displayed a high level of consistency, as the validation and test metrics (both loss and accuracy) are nearly identical. This suggests that the model has generalized well and performs similarly on both validation and test datasets.\n",
    "\n",
    "\n",
    "2. **Loss Metrics**: The training, validation, and test losses are closely aligned, indicating that the model is neither overfitting nor underfitting.\n",
    "\n",
    "\n",
    "3. **Accuracy Metrics**: The training, validation, and test accuracies also demonstrate a small gap, further supporting the model's generalization capability.\n",
    "\n",
    "\n",
    "4. **Computational Efficiency**: The time metrics for the test set indicate that the model is relatively efficient in making predictions, with an average of 453 ms per step.\n",
    "\n",
    "In summary, the model's performance on the test data is in close alignment with its performance on the validation set. This consistency is a strong indicator of the model's robustness and its ability to generalize to new, unseen data.\n"
   ]
  },
  {
   "cell_type": "markdown",
   "id": "28fda19e",
   "metadata": {
    "id": "28fda19e"
   },
   "source": [
    "### Model Evaluation on Test Data Insights<a class=\"anchor\" id=\"model-evaluation-on-test-data-insights\"></a>\n",
    "---\n",
    "\n",
    "Both the test loss and test accuracy metrics reveal concerning signs. The **test loss is high and closely resembles the validation loss**, indicating that the model may not be capturing the underlying data patterns effectively. Similarly, the test accuracy is low and mirrors the validation accuracy, suggesting a consistent underperformance across different datasets. Additionally, the time metrics indicate the model is computationally efficient but lacks in predictive power. Overall, these insights suggest that the model requires significant tuning and re-evaluation before it can be considered for any real-world application."
   ]
  },
  {
   "cell_type": "code",
   "execution_count": 34,
   "id": "49cc8593",
   "metadata": {
    "colab": {
     "base_uri": "https://localhost:8080/"
    },
    "executionInfo": {
     "elapsed": 23380,
     "status": "ok",
     "timestamp": 1694870730424,
     "user": {
      "displayName": "Dimitris Matsanganis",
      "userId": "11804405996879787534"
     },
     "user_tz": -180
    },
    "id": "49cc8593",
    "outputId": "5bfbd8c5-cbfe-4011-b227-8399c62aabfa"
   },
   "outputs": [
    {
     "name": "stdout",
     "output_type": "stream",
     "text": [
      "50/50 [==============================] - 22s 425ms/step\n"
     ]
    }
   ],
   "source": [
    "# Make predictions\n",
    "predictions = cnn_model_advanced.predict(preprocessedTestDataGen)"
   ]
  },
  {
   "cell_type": "markdown",
   "id": "a3bd6d1c",
   "metadata": {
    "id": "a3bd6d1c"
   },
   "source": [
    "### Evaluating Model Performance Across Different Study Types<a class=\"anchor\" id=\"evaluating-model-performance-across-different-study-types\"></a>\n",
    "---\n",
    "\n",
    "In the medical imaging domain, it is critical to assess the model's performance across various types of studies. This is precisely what the function `evaluate_model_by_study_type` aims to do. The function takes in two parameters: the test set (`test_set`) and the model's predictions (`predictions`). It then adds these predictions as a new column in the test set DataFrame.\n",
    "\n",
    "Subsequently, the function iterates through each unique type of study present in the test set, such as 'elbow', 'shoulder', etc., and evaluates the model's performance on that particular study type. The function calculates six different evaluation metrics: **Precision**, **Recall**, **F1 Score**, **Accuracy**, **ROC AUC**, and **Cohen's Kappa**. These metrics are crucial for understanding how well the model performs in different scenarios and are standard in the field of medical diagnostics. Each metric is rounded to five decimal places for precision.\n",
    "\n",
    "By doing so, we get a granular view of the model's efficacy and can identify which types of studies the model excels in and where it might require further optimization. This level of detail is vital for clinical applications where the consequences of a false positive or a false negative can be significant."
   ]
  },
  {
   "cell_type": "code",
   "execution_count": 35,
   "id": "745b648d",
   "metadata": {
    "executionInfo": {
     "elapsed": 3,
     "status": "ok",
     "timestamp": 1694870880926,
     "user": {
      "displayName": "Dimitris Matsanganis",
      "userId": "11804405996879787534"
     },
     "user_tz": -180
    },
    "id": "745b648d"
   },
   "outputs": [],
   "source": [
    "def evaluate_model_by_study_type(test_set, predictions):\n",
    "\n",
    "    # Define variable for print clarity.\n",
    "    cohen_kappa_str = \"Cohen's Kappa:\"\n",
    "\n",
    "    # Add the model predictions to the test set DataFrame.\n",
    "    test_set['predictions'] = predictions.ravel()\n",
    "\n",
    "    # Convert continuous predictions to binary based on a threshold of 0.5.\n",
    "    test_set['predictions'] = np.where(test_set.predictions >= 0.5, 1, 0)\n",
    "\n",
    "    # Retrieve a sorted list of unique study types in the test set.\n",
    "    study_types = sorted(test_set['type'].unique().tolist())\n",
    "\n",
    "    # Loop through each unique study type to evaluate the model's performance.\n",
    "    for i, st in enumerate(study_types):\n",
    "\n",
    "        # Filter the test set to only include records of the current study type.\n",
    "        df_t = test_set[test_set['type'] == st]\n",
    "\n",
    "        # Calculate various evaluation metrics for the model on the current study type.\n",
    "        precision = precision_score(df_t.label.values, df_t.predictions.values)\n",
    "        recall = recall_score(df_t.label.values, df_t.predictions.values)\n",
    "        f1_score = 2 * (precision * recall) / (precision + recall)\n",
    "        accuracy = accuracy_score(df_t.label.values, df_t.predictions.values)\n",
    "        roc_auc = roc_auc_score(df_t.label.values, df_t.predictions.values)\n",
    "        cohen_kappa = cohen_kappa_score(df_t.label.values, df_t.predictions.values)\n",
    "\n",
    "        # Print the calculated metrics.\n",
    "        print(f\"{i + 1} - Study Type: {st}\")\n",
    "        print(\"=\" * 25)\n",
    "        print(f\"{'Precision:':<15} {round(precision, 5):>10}\")\n",
    "        print(f\"{'Recall:':<15} {round(recall, 5):>10}\")\n",
    "        print(f\"{'F1 Score:':<15} {round(f1_score, 5):>10}\")\n",
    "        print(f\"{'Accuracy:':<15} {round(accuracy, 5):>10}\")\n",
    "        print(f\"{'ROC AUC:':<15} {round(roc_auc, 5):>10}\")\n",
    "        print(f\"{cohen_kappa_str:<15} {round(cohen_kappa, 5):>10}\")\n",
    "        print(\"=\" * 25)\n",
    "        print()"
   ]
  },
  {
   "cell_type": "code",
   "execution_count": 36,
   "id": "0c04cdd9",
   "metadata": {
    "colab": {
     "base_uri": "https://localhost:8080/"
    },
    "executionInfo": {
     "elapsed": 3,
     "status": "ok",
     "timestamp": 1694870886616,
     "user": {
      "displayName": "Dimitris Matsanganis",
      "userId": "11804405996879787534"
     },
     "user_tz": -180
    },
    "id": "0c04cdd9",
    "outputId": "c9ad06ff-e7d1-4d8f-a01b-eafb40b7694d",
    "scrolled": false
   },
   "outputs": [
    {
     "name": "stdout",
     "output_type": "stream",
     "text": [
      "1 - Study Type: ELBOW\n",
      "=========================\n",
      "Precision:         0.67241\n",
      "Recall:             0.5087\n",
      "F1 Score:          0.57921\n",
      "Accuracy:          0.63441\n",
      "ROC AUC:           0.63307\n",
      "Cohen's Kappa:     0.26683\n",
      "=========================\n",
      "\n",
      "2 - Study Type: FINGER\n",
      "=========================\n",
      "Precision:         0.67347\n",
      "Recall:            0.26721\n",
      "F1 Score:          0.38261\n",
      "Accuracy:          0.53796\n",
      "ROC AUC:           0.55884\n",
      "Cohen's Kappa:     0.11244\n",
      "=========================\n",
      "\n",
      "3 - Study Type: FOREARM\n",
      "=========================\n",
      "Precision:            0.82\n",
      "Recall:            0.54305\n",
      "F1 Score:          0.65339\n",
      "Accuracy:          0.71096\n",
      "ROC AUC:           0.71152\n",
      "Cohen's Kappa:     0.42257\n",
      "=========================\n",
      "\n",
      "4 - Study Type: HAND\n",
      "=========================\n",
      "Precision:         0.52727\n",
      "Recall:            0.15344\n",
      "F1 Score:           0.2377\n",
      "Accuracy:          0.59565\n",
      "ROC AUC:           0.52875\n",
      "Cohen's Kappa:     0.06441\n",
      "=========================\n",
      "\n",
      "5 - Study Type: HUMERUS\n",
      "=========================\n",
      "Precision:         0.66667\n",
      "Recall:            0.62857\n",
      "F1 Score:          0.64706\n",
      "Accuracy:          0.66667\n",
      "ROC AUC:           0.66564\n",
      "Cohen's Kappa:     0.33179\n",
      "=========================\n",
      "\n",
      "6 - Study Type: SHOULDER\n",
      "=========================\n",
      "Precision:         0.73913\n",
      "Recall:            0.42806\n",
      "F1 Score:          0.54214\n",
      "Accuracy:          0.64298\n",
      "ROC AUC:           0.64034\n",
      "Cohen's Kappa:     0.28215\n",
      "=========================\n",
      "\n",
      "7 - Study Type: WRIST\n",
      "=========================\n",
      "Precision:         0.74348\n",
      "Recall:            0.57966\n",
      "F1 Score:          0.65143\n",
      "Accuracy:          0.72231\n",
      "ROC AUC:           0.70879\n",
      "Cohen's Kappa:     0.42648\n",
      "=========================\n",
      "\n"
     ]
    }
   ],
   "source": [
    "# Execute the above created function.\n",
    "evaluate_model_by_study_type(test_set, predictions)"
   ]
  },
  {
   "cell_type": "markdown",
   "id": "d210b73e",
   "metadata": {
    "id": "d210b73e"
   },
   "source": [
    "### Evaluating Model Performance Across Different Study Types Insights<a class=\"anchor\" id=\"evaluating-model-performance-across-different-study-types-insights\"></a>\n",
    "---\n",
    "\n",
    "The evaluation results for the model across different study types (Elbow, Finger, Forearm, Hand, Humerus, Shoulder, Wrist) show some common patterns that raise questions about the model's performance.\n",
    "\n",
    "**Recall & Precision**: All study types have a **Recall** value in the range of 0.15 (Hand) to the range of 0.62 (Humerus). However, the **Precision** values are significantly higher across all study types, ranging from around 0.52 (Hand) to 0.74 (Wrist). The model predicts a positive class, it is usually correct. In other words, the model is good at avoiding false positives that cause additional and unnessecary anxiety. Low recall indicates that the model is not good at identifying most of the positive instances in the dataset. It means that the model is not effective at minimizing false negatives. \n",
    "\n",
    "**F1 Score**: The **F1 Scores** across the study types are significant especially for the categories of Fore Arm and Wrist and in detail they are hovering between 0.23 (Hand) and 0.65 (Fore Arm & Wrist). The F1 score is a metric that combines both precision and recall into a single value, providing a measure of a model's overall performance, especially when there is an imbalance between the two classes.A higher F1 score indicates a better balance between precision and recall. In our case, an F1 score of 0.65 suggests that the model is reasonably good at both avoiding false positives (high precision) and capturing true positive instances (high recall) relative to the specific threshold used for classification.\n",
    "\n",
    "**Accuracy**: The **Accuracy** rates are in line with the precision rates, ranging from approximately 0.53 (Finger) to 0.72 (Wrist). Needs further imporvement for a high sensitive medical case.\n",
    "\n",
    "**ROC AUC & Cohen's Kappa**: Both the **ROC AUC** and **Cohen's Kappa** scores are concerning. An ROC AUC score of 0.52 (Hand) to 0.71 (Fore Arm) ROC AUC metric suggests that the model's discriminatory power is limited and may not be very effective for the classification task.Cohens's Kappa range is 0.06 (Hand) to 0.42 (Fore Arm & Wrist) showa that there is no body part category that the model results are equivalently induced by pure chance as the metric do not reach negative values. The values are far more 0.1 and this indicates that the model predictions are of value.\n",
    "\n",
    "**Summary**: The model demonstrates reasonably good performance across various metrics. With a precision rates, the model is adept at correctly identifying positive cases, minimizing false positives. The recall indicates that the model is effective at capturing a substantial portion of the actual positive instances. The F1 score strikes a balance between precision and recall, reflecting a moderate overall performance. Accuracy suggests that the model correctly classifies a significant portion of the dataset, although it's essential to consider the class distribution. The ROC AUC score showcases the model's ability to distinguish between the two classes, while Cohen's Kappa indicates moderate agreement beyond chance. Overall, these results indicate a promising performance, but further refinement may be considered to achieve even higher accuracy and agreement, especially because the applications' medical nature demands it."
   ]
  },
  {
   "cell_type": "markdown",
   "id": "c81168e0",
   "metadata": {
    "id": "c81168e0"
   },
   "source": [
    "## Model Evaluation with Best Epoch Weights<a class=\"anchor\" id=\"model-evaluation-with-best-epoch-weights\"></a>\n",
    "---\n",
    "\n",
    "In this section, we evaluate the performance of our **advanced custom model** using the weights saved from the **best-performing epoch** during training. This approach allows us to assess how well our model generalizes to new data and whether it retains the knowledge gained during training."
   ]
  },
  {
   "cell_type": "markdown",
   "id": "17d69b0c",
   "metadata": {
    "id": "17d69b0c"
   },
   "source": [
    "#### Loading the Pre-Trained Model and the Pre-Trained Weights<a class=\"anchor\" id=\"loading-the-pre-trained-model-and-the-pre-trained-weights\"></a>\n",
    "We begin by creating a new instance of a **advanced custom CNN model** using the `build_advanced_model` function. odel` function. We refer to this model as **best_model_advanced**.\n",
    "\n",
    "With the subsequent command (load_weights),  we load the **pre-trained** weights into the best_model_advanced. The weights are loaded from a file located at the specified path, which corresponds to the checkpoint with the **best epoch performance** on the validation set. Loading these weights effectively transfers the learning achieved during training to the model."
   ]
  },
  {
   "cell_type": "code",
   "execution_count": 37,
   "id": "10b1213b",
   "metadata": {
    "executionInfo": {
     "elapsed": 914,
     "status": "ok",
     "timestamp": 1694871121781,
     "user": {
      "displayName": "Dimitris Matsanganis",
      "userId": "11804405996879787534"
     },
     "user_tz": -180
    },
    "id": "10b1213b"
   },
   "outputs": [],
   "source": [
    "# Load the pre-trained model architecture.\n",
    "best_model_advanced = build_advanced_model()\n",
    "\n",
    "# Compile the model and update the evaluation metrics ste for further evaluation capabilities\n",
    "best_model_advanced.compile(optimizer=Adam(learning_rate=1e-4),\n",
    "                  loss='binary_crossentropy',\n",
    "                  metrics=custom_metrics)\n",
    "\n",
    "\n",
    "# Load the saved model weights with the best model (best epoch) from a file.\n",
    "best_model_advanced.load_weights(\"checkpoints/muramed_advanced_CNN_2023-09-16_15-46-22/weights.hdf5\")"
   ]
  },
  {
   "cell_type": "markdown",
   "id": "2a7005cc",
   "metadata": {
    "id": "2a7005cc"
   },
   "source": [
    "#### Making Predictions and Evaluating Model Performance<a class=\"anchor\" id=\"making-predictions-and-evaluating-model-performance\"></a>"
   ]
  },
  {
   "cell_type": "markdown",
   "id": "12c77afd",
   "metadata": {
    "id": "12c77afd"
   },
   "source": [
    "Once we have loaded the **pre-trained weights** into **best_model_advanced**, we can utilize it to make predictions on a dataset. In the first code block, we use the predict method of best_model_advanced to generate predictions based on the input data provided in **preprocessedTestDataGen**. These predictions serve as the model's output for this dataset, allowing us to assess how well the model performs when applied to new, unseen data.\n",
    "\n",
    "In the subsequent code block, we **evaluate the model's performance** based on the predictions produced by **best_model_advanced** and the ground truth labels from the test_set dataset. The function `evaluate_model_by_study_type` is commonly employed for this purpose. It computes various evaluation metrics, such as **accuracy, precision, recall, F1 score**, and others, to provide a comprehensive assessment of the model's accuracy and performance across different study types. This evaluation helps us gain insights into how effectively the model generalizes its learned knowledge to real-world data."
   ]
  },
  {
   "cell_type": "code",
   "execution_count": 38,
   "id": "15e114b7",
   "metadata": {
    "colab": {
     "base_uri": "https://localhost:8080/"
    },
    "executionInfo": {
     "elapsed": 18582,
     "status": "ok",
     "timestamp": 1694871141492,
     "user": {
      "displayName": "Dimitris Matsanganis",
      "userId": "11804405996879787534"
     },
     "user_tz": -180
    },
    "id": "15e114b7",
    "outputId": "7ed54d23-5a24-4f85-d44d-94e7138a0745",
    "scrolled": false
   },
   "outputs": [
    {
     "name": "stdout",
     "output_type": "stream",
     "text": [
      "50/50 [==============================] - 17s 341ms/step\n",
      "1 - Study Type: ELBOW\n",
      "=========================\n",
      "Precision:         0.71233\n",
      "Recall:            0.67826\n",
      "F1 Score:          0.69488\n",
      "Accuracy:          0.70538\n",
      "ROC AUC:           0.70509\n",
      "Cohen's Kappa:     0.41038\n",
      "=========================\n",
      "\n",
      "2 - Study Type: FINGER\n",
      "=========================\n",
      "Precision:         0.71348\n",
      "Recall:            0.51417\n",
      "F1 Score:          0.59765\n",
      "Accuracy:          0.62907\n",
      "ROC AUC:           0.63793\n",
      "Cohen's Kappa:     0.27004\n",
      "=========================\n",
      "\n",
      "3 - Study Type: FOREARM\n",
      "=========================\n",
      "Precision:         0.66187\n",
      "Recall:            0.60927\n",
      "F1 Score:          0.63448\n",
      "Accuracy:          0.64784\n",
      "ROC AUC:           0.64797\n",
      "Cohen's Kappa:     0.29586\n",
      "=========================\n",
      "\n",
      "4 - Study Type: HAND\n",
      "=========================\n",
      "Precision:         0.58434\n",
      "Recall:            0.51323\n",
      "F1 Score:          0.54648\n",
      "Accuracy:             0.65\n",
      "ROC AUC:           0.62931\n",
      "Cohen's Kappa:     0.26347\n",
      "=========================\n",
      "\n",
      "5 - Study Type: HUMERUS\n",
      "=========================\n",
      "Precision:            0.68\n",
      "Recall:            0.60714\n",
      "F1 Score:          0.64151\n",
      "Accuracy:          0.67014\n",
      "ROC AUC:           0.66844\n",
      "Cohen's Kappa:     0.33785\n",
      "=========================\n",
      "\n",
      "6 - Study Type: SHOULDER\n",
      "=========================\n",
      "Precision:         0.69231\n",
      "Recall:            0.55036\n",
      "F1 Score:          0.61323\n",
      "Accuracy:          0.65719\n",
      "ROC AUC:           0.65588\n",
      "Cohen's Kappa:     0.31255\n",
      "=========================\n",
      "\n",
      "7 - Study Type: WRIST\n",
      "=========================\n",
      "Precision:          0.6535\n",
      "Recall:            0.72881\n",
      "F1 Score:           0.6891\n",
      "Accuracy:          0.70561\n",
      "ROC AUC:           0.70781\n",
      "Cohen's Kappa:     0.41114\n",
      "=========================\n",
      "\n"
     ]
    }
   ],
   "source": [
    "# Make predictions using the loaded model.\n",
    "best_model_advanced_predictions = best_model_advanced.predict(preprocessedTestDataGen)\n",
    "\n",
    "# Evaluate the model's performance based on predictions and ground truth labels.\n",
    "evaluate_model_by_study_type(test_set, best_model_advanced_predictions)"
   ]
  },
  {
   "cell_type": "markdown",
   "id": "6bcfa593",
   "metadata": {
    "id": "6bcfa593"
   },
   "source": [
    "#### Evaluating Model Performance (with Best Epoch Weights) Across Different Study Types Insights <a class=\"anchor\" id=\"evaluating-model-performance-(with-best-epoch-weights)-across-different-study-types-insights\"></a>"
   ]
  },
  {
   "cell_type": "markdown",
   "id": "11323692",
   "metadata": {
    "id": "11323692"
   },
   "source": [
    "**Recall Variability:** The \"Recall\" scores for this model vary across different study types, with values ranging from approximately 0.51 (Finger) to 0.72 (Wrist). This indicates that the model's ability to correctly identify true positive instances varies depending on the anatomical study type but not in various way with extreme ranges.\n",
    "\n",
    "**Balanced Precision and Recall:** Unlike the model with the latest epoch, this model achieves a better balance between \"Precision\" and \"Recall.\" The convergion of the F1-score in comparison to the previous model depicting the last epoch's weigts shows the imporvement if the this balance.\n",
    "\n",
    "**Improved Accuracy for Some Types:** The \"Accuracy\" values present higher lower range limit in comparison to the model of the last epoch.\n",
    "\n",
    "**Limited Discriminatory Power:** Similar to the model with the latest epoch, this model exhibits an \"ROC AUC\" score 3.17% higher on average through all body parts than the last epoch model. There is an imporvement as expected but not significantly high as expected as well. Overall the discriminatory power of 0.65 on average is not accepted as well performance indicator. \n",
    "\n",
    "**Optimized Agreement:** The \"Cohen's Kappa\" values have generally small increase but a substantial increase in case of Hand category that previously wa 0.06 and in the best epoch model reaches 0.26. The values are highly positive for all the categoriesa and severely improved for Hand category and this indicated that the model has impact in its predictions in comparison with pure channce and as far as this category is concerned. \n",
    "\n",
    "***Overall Performance:*** The model's performance analysis reveals several key insights. While \"Recall\" scores vary across different study types, they do not exhibit extreme ranges, suggesting reasonably consistent performance. Notably, this model achieves a better balance between \"Precision\" and \"Recall\" compared to previous versions, as indicated by the F1-score convergence, indicating improved accuracy in making positive predictions while capturing true positive instances effectively. There is an overall enhancement in \"Accuracy,\" particularly for specific study types. However, the model's \"ROC AUC\" score, while improved, still indicates modest discriminatory power. On a positive note, \"Cohen's Kappa\" values significantly increase, notably in the Hand category, signifying the model's substantial impact in predictions beyond random chance. Overall, this model demonstrates improved performance, with balanced precision and recall, increased accuracy for some types, but the potential for further enhancement in discriminatory power.\n"
   ]
  },
  {
   "cell_type": "markdown",
   "id": "fe666614",
   "metadata": {
    "id": "fe666614"
   },
   "source": [
    "#### Model (with Best Epoch Weights) Evaluation Results<a class=\"anchor\" id=\"model-(with-best-epoch-weights)-evaluation-results\"></a>"
   ]
  },
  {
   "cell_type": "markdown",
   "id": "e4a3ae2b",
   "metadata": {
    "id": "e4a3ae2b"
   },
   "source": [
    "Finally, we use the evaluate method of the best_model to assess its performance on the validation data (preprocessedTestDataGen). The results of the evaluation, including metrics like loss and accuracy, are stored in the evaluation_results variable and can be used to gauge how well the model is performing on this specific dataset."
   ]
  },
  {
   "cell_type": "code",
   "execution_count": 39,
   "id": "ce1a6fed",
   "metadata": {
    "colab": {
     "base_uri": "https://localhost:8080/"
    },
    "executionInfo": {
     "elapsed": 21135,
     "status": "ok",
     "timestamp": 1694871162624,
     "user": {
      "displayName": "Dimitris Matsanganis",
      "userId": "11804405996879787534"
     },
     "user_tz": -180
    },
    "id": "ce1a6fed",
    "outputId": "3997df8b-57b1-4a82-b87e-38877acbf998",
    "scrolled": true
   },
   "outputs": [
    {
     "name": "stdout",
     "output_type": "stream",
     "text": [
      "50/50 - 17s - loss: 0.5976 - precision: 0.6718 - recall: 0.6046 - bin_accuracy: 0.6694 - auc_roc: 0.7366 - cohen_kappa: 0.3348 - 17s/epoch - 341ms/step\n",
      "\n",
      "Test Loss               : 0.59758\n",
      "Test Precision          : 0.67175\n",
      "Test Recall             : 0.60458\n",
      "Test Accuracy           : 0.66938\n",
      "Test Cohen's Kappa      : 0.73658\n"
     ]
    }
   ],
   "source": [
    "# Execute the evaluation on the validation data and store the results in 'evaluation_results'.\n",
    "evaluation_results = best_model_advanced.evaluate(preprocessedTestDataGen, verbose=2)\n",
    "\n",
    "# Print the evaluation results. Each metric is rounded to five decimal places for precision.\n",
    "print()\n",
    "print(f\"Test Loss               : {evaluation_results[0]:.5f}\")\n",
    "print(f\"Test Precision          : {evaluation_results[1]:.5f}\")\n",
    "print(f\"Test Recall             : {evaluation_results[2]:.5f}\")\n",
    "print(f\"Test Accuracy           : {evaluation_results[3]:.5f}\")\n",
    "print(f\"Test Cohen's Kappa      : {evaluation_results[4]:.5f}\")"
   ]
  },
  {
   "cell_type": "markdown",
   "id": "ba7a9adb",
   "metadata": {
    "id": "ba7a9adb"
   },
   "source": [
    "Below we explore the evaluation results obtained from the model's performance assessment on the validation dataset.\n",
    "\n",
    "**Test Loss:** The computed test loss for this model on the validation data is approximately 0.59. Test loss represents the measure of how well the model's predictions align with the actual labels. In this case, the loss value suggests that there is room for improvement, as a lower loss would indicate better alignment with the ground truth.\n",
    "\n",
    "\n",
    "**Test Accuracy:** The test accuracy for the model on the validation data is approximately 0.64113, which translates to roughly **66.93%**. This accuracy score indicates the proportion of correctly classified cases in the validation dataset. While it's **above chance-level accuracy (50%)**, it may not be sufficient for many practical applications, particularly in medical diagnoses where high accuracy is crucial.\n",
    "\n",
    "These results highlight that the model is making correct predictions for about **66.93%** of the cases in the validation dataset. However, there's still room for improvement, especially when considering the critical nature of medical applications. Enhancing both accuracy and other performance metrics like precision and recall is essential to make the model more reliable."
   ]
  },
  {
   "cell_type": "markdown",
   "id": "06c4d155",
   "metadata": {
    "id": "06c4d155"
   },
   "source": [
    "## Conclusion<a class=\"anchor\" id=\"conclusion\"></a>\n",
    "---\n",
    "\n",
    "The capabilities of the model are depicted to its performance metrics:\n",
    "\n",
    "**Loss:** The training and test loss values are both approximately 0.5976, indicating that the model is effectively minimizing its prediction errors during training and maintaining similar performance on the test dataset. Lower loss values are generally desirable.\n",
    "\n",
    "**Precision:** With a precision of 0.6718 on the training data and 0.67175 on the test data, the model is proficient at correctly identifying true positive cases, which implies that when it predicts abnormality, it is typically accurate. This indicates good precision.\n",
    "\n",
    "**Recall:** A recall of 0.6046 on the training data and 0.60458 on the test data demonstrates the model's ability to capture a significant proportion of the actual positive instances, which is crucial in medical diagnosis. While not extremely high, this recall value suggests that the model is effective at identifying true positive cases.\n",
    "\n",
    "**Accuracy:** The model achieves an accuracy of 0.66938 on the test data. This accuracy level suggests that the model correctly classifies a substantial portion of the dataset. However, as with any classification model, it's essential to consider class distribution to understand the full implications of this accuracy.\n",
    "\n",
    "**ROC AUC:** The ROC AUC score of 0.73658 on the test data indicates that the model has reasonably good discriminatory power in distinguishing between normal and abnormal cases. A value above 0.7 is generally considered promising.\n",
    "\n",
    "**Cohen's Kappa:** The Cohen's Kappa value of 0.73658 on the test data demonstrates that the model has a substantial impact on predictions beyond random chance. The significant increase in Kappa on the test data suggests improved agreement compared to chance.\n",
    "\n",
    "The model appears to have reasonable performance for binary classification in musculoskeletal datasets, with good precision and recall, a promising ROC AUC score, and a substantial increase in Cohen's Kappa on the test data.\n",
    "\n",
    "### Advanced CNN compared to Simple CNN\n",
    "---\n",
    "\n",
    "**Advanced CNN** outperforms **Simple CNN** in terms of predictive accuracy and overall performance. While both models exhibit similar training accuracy levels, **Advanced CNN**, with its test metrics, provides a more comprehensive evaluation. It demonstrates a better balance between precision and recall, crucial for binary classification tasks, with a precision of **0.67175** and a recall of **0.60458**. Moreover, **Advanced CNN** achieves a substantially higher Cohen's Kappa value of **0.73658**, indicating a more significant impact in its predictions compared to **Simple CNN**. These results suggest that **Advancred CNN** is more effective in accurately classifying and capturing positive instances, making it the preferred choice for this classification  for a computer vision medical task.\n",
    "\n",
    "\n",
    "\n",
    "### Next Steps in Model Exploration\n",
    "---\n",
    "Given the overall improved but not yet acceptable for real life medical applications performance of the advanced CNN model, we will explore more **complex architectures** that might be better suited for this particular problem domain. Specifically, we will be evaluating a pretrained **VGG model** known for its effectiveness in image classification tasks. Both of these models will undergo rigorous testing and tuning to optimize their performance.\n",
    "\n",
    "This pretrained model will include more layers and offer a greater range of tuning parameters, potentially providing a better fit for the complex nature of medical imaging data. The goal is to improve the model's ability to capture intricate patterns in the data that the advanced CNN model may have missed and improve the Accuracy and the Auc scores more.\n",
    "\n",
    "\n",
    "### Final Thoughts\n",
    "---\n",
    "\n",
    "In summary, we consider that the current CNN model is far from being ready for any form of clinical or real-world application. The added feature extraction layers did not improve its performance this implies that we need to incorporate more dense layers inside the actual NN architecture for this reason we will apply pretrained models that offer a far fetched more complex and vigourous layers architectures in both feature extraction and internal hidden layers.\n",
    "\n",
    "Given the critical nature of medical diagnostics, settling for a model with such performance metrics is not an option. Rigorous **model evaluation**, **refinement**, and **validation** are essential steps that must be taken before any model can be considered for healthcare applications."
   ]
  }
 ],
 "metadata": {
  "accelerator": "GPU",
  "colab": {
   "gpuType": "V100",
   "provenance": []
  },
  "kernelspec": {
   "display_name": "Python 3 (ipykernel)",
   "language": "python",
   "name": "python3"
  },
  "language_info": {
   "codemirror_mode": {
    "name": "ipython",
    "version": 3
   },
   "file_extension": ".py",
   "mimetype": "text/x-python",
   "name": "python",
   "nbconvert_exporter": "python",
   "pygments_lexer": "ipython3",
   "version": "3.10.7"
  }
 },
 "nbformat": 4,
 "nbformat_minor": 5
}
