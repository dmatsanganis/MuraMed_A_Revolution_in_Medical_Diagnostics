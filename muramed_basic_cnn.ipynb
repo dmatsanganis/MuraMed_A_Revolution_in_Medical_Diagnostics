{
 "cells": [
  {
   "cell_type": "markdown",
   "id": "690f5f82",
   "metadata": {},
   "source": [
    "## MuraMed: A Revolution in Medical Diagnostics\n",
    "---\n",
    "\n",
    "**MuraMed** is a trailblazing healthcare technology company that aims to revolutionize medical diagnostics with a focus on radiographs (X-Ray images). In the intricate landscape of today's healthcare, the company addresses the vital need for accurate, efficient, and swift diagnosis. MuraMed's specialization lies in detecting bone abnormalities, and it offers an AI-powered diagnostic system tailored for healthcare professionals. This initiative is particularly significant for radiology, a field often challenged by the timeliness and precision of X-ray image interpretation. A brief description of our **MuraMed's Business Case** follows below.\n",
    "\n",
    "In the realm of medical diagnostics, one cannot overlook the monumental strides taken by **MuraMed**, especially in the field of **bone abnormality detection**. The company has carved a unique niche for itself by leveraging cutting-edge AI technologies to build a diagnostic system of unparalleled efficacy. This system does not merely represent a technological advancement; it symbolizes a paradigm shift aimed at enhancing the accuracy, efficiency, and speed with which musculoskeletal conditions are diagnosed. Consequently, this initiative holds the promise of substantially improving patient outcomes and elevating the overall well-being of individuals suffering from musculoskeletal disorders. \n",
    "\n",
    "However, **MuraMed**'s ingenuity does not stop at bone abnormality detection; it extends to revolutionizing the broader field of **radiology**. The company is at the forefront of integrating Artificial Intelligence into this critical medical domain, offering transformative solutions that address the myriad challenges faced by healthcare providers. Specifically, the AI-driven approach adopted by MuraMed serves as an antidote to the inefficiencies and susceptibilities to human error that characterize traditional diagnostic methods. By empowering radiologists and orthopedic doctors with cutting-edge AI tools, **MuraMed** ensures that healthcare providers can make rapid, well-informed decisions, thereby optimizing patient care.\n",
    "\n",
    "Beyond the confines of traditional healthcare settings, **MuraMed**'s technological platform stands out for its remarkable **versatility**. The application is designed not just to serve the needs of seasoned medical professionals but also to extend its benefits to a wider audience. For instance, athletes, teachers, and physiotherapists can also utilize this platform for early detection and intervention of musculoskeletal issues. This inclusive approach effectively democratizes diagnostic capabilities, opening up avenues for broader community engagement in proactive healthcare. Through this multifaceted approach, **MuraMed** is set to make a lasting impact across various sectors, from specialized medicine to community healthcare and beyond.\n",
    "\n",
    "\n",
    "<figure>\n",
    "  <img src=\"./Figures/muramed_logo.png\" alt=\"MuraMed Logo\" style=\"width:35%\">\n",
    "  <figcaption style=\"text-align:center;\">MuraMed: A Revolution in Medical Diagnostics</figcaption>\n",
    "</figure>\n",
    "\n",
    "\n",
    "When it comes to **MuraMed**'s long-term aspirations, the company's **Mission and Vision** serve as guiding lights. The company is not merely focused on providing AI-powered diagnostic solutions; it has a grander vision of impacting global healthcare. Specifically, MuraMed aspires to make healthcare access equitable, concentrating its efforts on areas facing a dire shortage of skilled radiologists. This vision is not restricted to large healthcare facilities but extends to smaller clinics and even transcends the boundaries of the traditional healthcare industry. By integrating advanced AI algorithms with a specialized focus on bone abnormalities and a versatile application range, MuraMed aims to revolutionize medical diagnostics in an unparalleled manner. Through these initiatives, the company is set to bring about monumental changes that will redefine the landscape of healthcare, making quality diagnostic services accessible and affordable to all.\n",
    "\n",
    "Similarly, the intrinsic **Value of MuraMed's Research** cannot be overstated. The company's research initiatives are designed to make substantial contributions across multiple domains, including healthcare, technology, business, and innovation. This multi-disciplinary approach not only highlights the company's commitment to improving patient care but also signals its intent to push the boundaries of existing technology. **MuraMed** is invested in creating a harmonious blend of technology and healthcare, using AI as a tool to bridge gaps and address inefficiencies in the current medical systems. Consequently, the company's research serves as a catalyst for business growth, as it opens up new avenues for expansion and partnerships. \n",
    "\n",
    "In summary, both the mission and the research values of **MuraMed** underscore its commitment to being more than just a healthcare technology company. It strives to be a change-maker in the industry, leveraging technology to address crucial gaps in healthcare accessibility and quality. By doing so, MuraMed aims to foster not just business growth but also societal advancement, setting new benchmarks in healthcare, technology, and innovation.\n",
    "\n",
    "---\n",
    "\n",
    "For further insights into **MuraMed**'s groundbreaking work, one can refer to the comprehensive document: *[MuraMed_Documentation.pdf](./MuraMed_Documentation.pdf)*.\n",
    "\n",
    "While the current analysis will be done on [Jupyter Notebook](http://jupyter.org/) and in [Python 3.10.0](https://www.python.org/downloads/release/python-3100/).\n",
    "\n",
    "---\n",
    "\n",
    "####  Team members:\n",
    "\n",
    "---\n",
    "> Dimitra Diamanti <br />\n",
    "> Academic ID: f2822209 <br />\n",
    "> MSc Business Analytics 2022-2023 FT <br />\n",
    "> Athens University of Economics and Business <br />\n",
    "> dtdiamanti@gmail.com, dim.diamanti@aueb.gr\n",
    "\n",
    "---\n",
    "\n",
    "> Dimitrios Matsanganis <br />\n",
    "> Academic ID: f2822212 <br />\n",
    "> MSc Business Analytics 2022-2023 FT <br />\n",
    "> Athens University of Economics and Business <br />\n",
    "> dmatsanganis@gmail.com, dim.matsanganis@aueb.gr\n",
    "\n",
    "---\n",
    "\n",
    "> Foteini Nefeli Nouskali <br />\n",
    "> Academic ID: f2822213 <br />\n",
    "> MSc Business Analytics 2022-2023 FT <br />\n",
    "> Athens University of Economics and Business <br />\n",
    "> fn.nouskali@gmail.com, fot.nouskali@aueb.gr\n",
    "\n",
    "---\n",
    "\n",
    "> Hegla Eva Ruci <br />\n",
    "> Academic ID: f2822219 <br />\n",
    "> MSc Business Analytics 2022-2023 FT <br />\n",
    "> Athens University of Economics and Business <br />\n",
    "> eva.14rou@gmail.com, heg.ruci@aueb.gr\n",
    "---"
   ]
  },
  {
   "cell_type": "markdown",
   "id": "ed69565c",
   "metadata": {},
   "source": [
    "### Detailed Overview of MuraMed's Business Case\n",
    "\n",
    "---\n",
    "\n",
    "As mentioned briefly above, **MuraMed's Business Case** is a comprehensive blueprint that outlines the company's strategic approach to revolutionize medical diagnostics, specifically focusing on musculoskeletal radiographs. By leveraging advanced AI and deep learning technologies, MuraMed aims to address critical gaps in the healthcare, sports, and workplace sectors. The business case is built around three core pillars, each designed to cater to the unique needs of different demographic groups and industries.\n",
    "\n",
    "\n",
    "#### The Three Core Pillars of MuraMed's Business Case\n",
    "\n",
    "1. **MuraMed: Healthcare Edition**\n",
    "    - This pillar serves as the cornerstone of MuraMed's business model, targeting traditional healthcare facilities like hospitals and clinics. By focusing on specific areas like the hand, elbow, and shoulder, it aims to bring unparalleled precision to musculoskeletal radiograph analysis. The platform's AI-backed second opinion feature is particularly beneficial for radiologists and orthopedic doctors, enhancing diagnostic accuracy and efficiency. Furthermore, its seamless integration capabilities with existing hospital systems make it an invaluable asset in accelerating diagnostic services.\n",
    "\n",
    "\n",
    "2. **MuraMed: School & Sports Organization Edition**\n",
    "    - Tailored for the unique needs of young athletes and students, this pillar extends MuraMed's reach beyond conventional healthcare settings. By offering real-time detection of musculoskeletal abnormalities, it plays a transformative role in sports medicine. The platform is designed to be versatile, applicable in sports activities where hand injuries are common, such as basketball, volleyball, and handball. With its potential to positively impact the health and performance of young athletes, this pillar significantly broadens MuraMed's market reach.\n",
    "\n",
    "\n",
    "3. **MuraMed: Workplace Edition**\n",
    "    - Addressing the growing concern of work-related musculoskeletal disorders (MSDs), this pillar is designed for a broad range of industries. From manual labor-intensive sectors to office-based jobs, it aims to tackle the unique challenges each profession faces concerning MSDs. The platform offers regular employee check-ups and ergonomic evaluations as preventive measures. Supported by alarming statistics from the U.S. Department of Labor, this pillar emphasizes the need for early detection and management of hand and upper limb conditions, thereby promoting healthier workplaces.\n",
    "\n",
    "---\n",
    "\n",
    "#### Strategic Importance\n",
    "\n",
    "The strategic alignment of these three pillars enables MuraMed to offer specialized solutions that address the nuanced needs of various sectors. From healthcare professionals requiring precise and rapid diagnostics to sports organizations and workplaces seeking to enhance well-being and performance, MuraMed's comprehensive business case sets a new benchmark in the realm of musculoskeletal health diagnostics.\n",
    "\n",
    "By integrating cutting-edge AI technologies with sector-specific requirements, MuraMed's business case presents a multifaceted approach to improve diagnostic accuracy, efficiency, and accessibility across different verticals. It not only targets the immediate needs of these sectors but also positions the company for future growth and innovation in the rapidly evolving landscape of medical diagnostics."
   ]
  },
  {
   "cell_type": "markdown",
   "id": "cbb6418b",
   "metadata": {},
   "source": [
    "--- \n",
    "\n",
    "### Mura Dataset\n",
    "\n",
    "At the core of **MuraMed**'s capabilities is its reliance on extensive datasets provided by Stanford University, known as the MURA datasets (combine for different parts of the human body). These datasets are a rich library of manually reviewed and labeled musculoskeletal radiographs, focusing on multiple body parts such as the wrist, shoulder, elbow, and more. The datasets form the backbone of MuraMed's AI algorithms, enabling them to accurately identify normal or abnormal characteristics in X-ray studies. More information about the MURA dataset can be found at [Stanford's ML site](https://stanfordmlgroup.github.io/competitions/mura/) or at [Kaggle](https://www.kaggle.com/datasets/cjinny/mura-v11/download?datasetVersionNumber=1). \n",
    "\n",
    "<br>\n",
    "<br>\n",
    "<figure>\n",
    "  <img src=\"./Figures/muramed1.png\" alt=\"Official Stanford ML Logo\" style=\"width:30%\">\n",
    "  <figcaption style=\"text-align:center;\">Figure 1. Official Stanford ML Logo</figcaption>\n",
    "</figure>\n",
    "<br>\n",
    "\n",
    "Currently, our algorithms are designed to *focus on the aforementioned body parts*. Their primary task is to determine whether an X-ray study of these areas exhibits normal or abnormal characteristics. In the near future, we plan to expand our AI capabilities to involve a broader spectrum of anatomical regions , further enhancing our diagnostic capabilities.\n",
    "\n",
    "<br><br>\n",
    "<figure>\n",
    "  <img src=\"./Figures/muramed2.jpg\" alt=\"A detailed image showcasing the anatomical parts included in the Mura Dataset\" style=\"width:15%\">\n",
    "  <figcaption style=\"text-align:center;\">Figure 2. A detailed image showcasing the anatomical parts included in the Mura Dataset</figcaption>\n",
    "</figure>\n",
    "---\n"
   ]
  },
  {
   "cell_type": "code",
   "execution_count": null,
   "id": "b32ce9ac",
   "metadata": {},
   "outputs": [],
   "source": []
  },
  {
   "cell_type": "code",
   "execution_count": null,
   "id": "59ac955c",
   "metadata": {},
   "outputs": [],
   "source": []
  },
  {
   "cell_type": "code",
   "execution_count": 1,
   "id": "254e89ef",
   "metadata": {},
   "outputs": [
    {
     "name": "stdout",
     "output_type": "stream",
     "text": [
      "Tensorflow version: 2.13.0\n"
     ]
    },
    {
     "name": "stderr",
     "output_type": "stream",
     "text": [
      "C:\\Python\\Lib\\site-packages\\tensorflow_addons\\utils\\tfa_eol_msg.py:23: UserWarning: \n",
      "\n",
      "TensorFlow Addons (TFA) has ended development and introduction of new features.\n",
      "TFA has entered a minimal maintenance and release mode until a planned end of life in May 2024.\n",
      "Please modify downstream libraries to take dependencies from other repositories in our TensorFlow community (e.g. Keras, Keras-CV, and Keras-NLP). \n",
      "\n",
      "For more information see: https://github.com/tensorflow/addons/issues/2807 \n",
      "\n",
      "  warnings.warn(\n"
     ]
    }
   ],
   "source": [
    "import pandas as pd\n",
    "import numpy as np\n",
    "import matplotlib.pyplot as plt\n",
    "import seaborn as sns\n",
    "%matplotlib inline\n",
    "\n",
    "import gc\n",
    "import zipfile\n",
    "from sklearn.model_selection import train_test_split\n",
    "import time\n",
    "import random\n",
    "\n",
    "import os\n",
    "os.environ['TF_CPP_MIN_LOG_LEVEL'] = '3'\n",
    "\n",
    "import tensorflow as tf\n",
    "from tensorflow.random import set_seed\n",
    "from tensorflow.keras import backend as K # importing Keras backend (by default it is Tensorflow)\n",
    "\n",
    "from tensorflow.keras.preprocessing.image import ImageDataGenerator\n",
    "from tensorflow.keras.optimizers import Adam\n",
    "from tensorflow.keras.applications import VGG19\n",
    "from tensorflow.keras.layers import Input, Conv2D, BatchNormalization, MaxPool2D, Dropout, Flatten, Dense\n",
    "from tensorflow.keras.models import Model\n",
    "from tensorflow.keras.callbacks import EarlyStopping, ReduceLROnPlateau, ModelCheckpoint\n",
    "from tensorflow.keras.applications.vgg19 import preprocess_input\n",
    "from tensorflow.keras.regularizers import l2\n",
    "from tensorflow.keras.utils import plot_model\n",
    "\n",
    "from tensorflow.keras.metrics import BinaryAccuracy, Precision, Recall, AUC\n",
    "from tensorflow_addons.metrics import CohenKappa\n",
    "\n",
    "from sklearn.metrics import precision_score, recall_score, f1_score, accuracy_score, roc_auc_score, cohen_kappa_score\n",
    "\n",
    "print(f'Tensorflow version: {tf.__version__}')"
   ]
  },
  {
   "cell_type": "code",
   "execution_count": 2,
   "id": "aa431aa0",
   "metadata": {},
   "outputs": [],
   "source": [
    "# In case you do not have the data downloaded\n",
    "#!wget 'https://cs.stanford.edu/group/mlgroup/MURA-v1.1.zip'\n",
    "#!unzip MURA-v1.1.zip"
   ]
  },
  {
   "cell_type": "code",
   "execution_count": 3,
   "id": "b45c08c4",
   "metadata": {},
   "outputs": [],
   "source": [
    "SEED = 2023\n",
    "np.random.seed(SEED) # seed for numpy to have reproducible experiments\n",
    "set_seed(SEED) # seed for Tensorflow to have reproducible experiments"
   ]
  },
  {
   "cell_type": "code",
   "execution_count": 4,
   "id": "c1bd0db7",
   "metadata": {},
   "outputs": [],
   "source": [
    "# def clean_up(model):\n",
    "#     K.clear_session()\n",
    "#     del model\n",
    "#     gc.collect()"
   ]
  },
  {
   "cell_type": "code",
   "execution_count": 5,
   "id": "4de57e35",
   "metadata": {},
   "outputs": [],
   "source": [
    "import os\n",
    "\n",
    "# Filepath for the MURA-v1.1 dataset\n",
    "filepath = 'MURA-v1.1'\n",
    "\n",
    "# Check if filepath exists\n",
    "if os.path.exists(filepath):\n",
    "    # Get train and test set filepaths\n",
    "    train_set_filepath = os.path.join(filepath, 'train_image_paths.csv')\n",
    "    test_set_filepath = os.path.join(filepath, 'valid_image_paths.csv')\n",
    "    \n",
    "    # Check if files exist\n",
    "    if not os.path.exists(train_set_filepath):\n",
    "        print(f\"Error: {train_set_filepath} does not exist.\")\n",
    "    if not os.path.exists(test_set_filepath):\n",
    "        print(f\"Error: {test_set_filepath} does not exist.\")\n",
    "else:\n",
    "    print(f\"Error: Directory {filepath} does not exist.\")\n"
   ]
  },
  {
   "cell_type": "code",
   "execution_count": 6,
   "id": "77160ccb",
   "metadata": {},
   "outputs": [],
   "source": [
    "def load_data(filepath:str):\n",
    "\n",
    "    # load data into a dataframe\n",
    "    df = pd.read_csv(filepath, header=None, names=['image_path'])\n",
    "\n",
    "    # create a description of the study of each image\n",
    "    df['description'] = df.image_path.apply(lambda x: '_'.join(x.split('/')[2:5])[3:])\n",
    "\n",
    "    # get the type of each study (e.g., elbow, shoulder, etc.)\n",
    "    df['type'] = df.description.apply(lambda x: x.split('_')[0])\n",
    "\n",
    "    # get the patient code of each study\n",
    "    df['patient'] = df.description.apply(lambda x: x.split('_')[1])\n",
    "\n",
    "    # get the code of each study\n",
    "    df['study'] = df.description.apply(lambda x: x.split('_')[2])\n",
    "\n",
    "    # get the opinion of each study\n",
    "    df['opinion'] = df.description.apply(lambda x: x.split('_')[3])\n",
    "\n",
    "    # create the label\n",
    "    df['label'] = np.where(df.opinion == 'positive',1,0)\n",
    "\n",
    "    return df"
   ]
  },
  {
   "cell_type": "code",
   "execution_count": 7,
   "id": "93d6c52d",
   "metadata": {},
   "outputs": [
    {
     "name": "stdout",
     "output_type": "stream",
     "text": [
      "train_set.shape: (36808, 7)\n"
     ]
    },
    {
     "data": {
      "text/html": [
       "<div>\n",
       "<style scoped>\n",
       "    .dataframe tbody tr th:only-of-type {\n",
       "        vertical-align: middle;\n",
       "    }\n",
       "\n",
       "    .dataframe tbody tr th {\n",
       "        vertical-align: top;\n",
       "    }\n",
       "\n",
       "    .dataframe thead th {\n",
       "        text-align: right;\n",
       "    }\n",
       "</style>\n",
       "<table border=\"1\" class=\"dataframe\">\n",
       "  <thead>\n",
       "    <tr style=\"text-align: right;\">\n",
       "      <th></th>\n",
       "      <th>image_path</th>\n",
       "      <th>description</th>\n",
       "      <th>type</th>\n",
       "      <th>patient</th>\n",
       "      <th>study</th>\n",
       "      <th>opinion</th>\n",
       "      <th>label</th>\n",
       "    </tr>\n",
       "  </thead>\n",
       "  <tbody>\n",
       "    <tr>\n",
       "      <th>0</th>\n",
       "      <td>MURA-v1.1/train/XR_SHOULDER/patient00001/study...</td>\n",
       "      <td>SHOULDER_patient00001_study1_positive</td>\n",
       "      <td>SHOULDER</td>\n",
       "      <td>patient00001</td>\n",
       "      <td>study1</td>\n",
       "      <td>positive</td>\n",
       "      <td>1</td>\n",
       "    </tr>\n",
       "    <tr>\n",
       "      <th>1</th>\n",
       "      <td>MURA-v1.1/train/XR_SHOULDER/patient00001/study...</td>\n",
       "      <td>SHOULDER_patient00001_study1_positive</td>\n",
       "      <td>SHOULDER</td>\n",
       "      <td>patient00001</td>\n",
       "      <td>study1</td>\n",
       "      <td>positive</td>\n",
       "      <td>1</td>\n",
       "    </tr>\n",
       "    <tr>\n",
       "      <th>2</th>\n",
       "      <td>MURA-v1.1/train/XR_SHOULDER/patient00001/study...</td>\n",
       "      <td>SHOULDER_patient00001_study1_positive</td>\n",
       "      <td>SHOULDER</td>\n",
       "      <td>patient00001</td>\n",
       "      <td>study1</td>\n",
       "      <td>positive</td>\n",
       "      <td>1</td>\n",
       "    </tr>\n",
       "    <tr>\n",
       "      <th>3</th>\n",
       "      <td>MURA-v1.1/train/XR_SHOULDER/patient00002/study...</td>\n",
       "      <td>SHOULDER_patient00002_study1_positive</td>\n",
       "      <td>SHOULDER</td>\n",
       "      <td>patient00002</td>\n",
       "      <td>study1</td>\n",
       "      <td>positive</td>\n",
       "      <td>1</td>\n",
       "    </tr>\n",
       "    <tr>\n",
       "      <th>4</th>\n",
       "      <td>MURA-v1.1/train/XR_SHOULDER/patient00002/study...</td>\n",
       "      <td>SHOULDER_patient00002_study1_positive</td>\n",
       "      <td>SHOULDER</td>\n",
       "      <td>patient00002</td>\n",
       "      <td>study1</td>\n",
       "      <td>positive</td>\n",
       "      <td>1</td>\n",
       "    </tr>\n",
       "  </tbody>\n",
       "</table>\n",
       "</div>"
      ],
      "text/plain": [
       "                                          image_path  \\\n",
       "0  MURA-v1.1/train/XR_SHOULDER/patient00001/study...   \n",
       "1  MURA-v1.1/train/XR_SHOULDER/patient00001/study...   \n",
       "2  MURA-v1.1/train/XR_SHOULDER/patient00001/study...   \n",
       "3  MURA-v1.1/train/XR_SHOULDER/patient00002/study...   \n",
       "4  MURA-v1.1/train/XR_SHOULDER/patient00002/study...   \n",
       "\n",
       "                             description      type       patient   study  \\\n",
       "0  SHOULDER_patient00001_study1_positive  SHOULDER  patient00001  study1   \n",
       "1  SHOULDER_patient00001_study1_positive  SHOULDER  patient00001  study1   \n",
       "2  SHOULDER_patient00001_study1_positive  SHOULDER  patient00001  study1   \n",
       "3  SHOULDER_patient00002_study1_positive  SHOULDER  patient00002  study1   \n",
       "4  SHOULDER_patient00002_study1_positive  SHOULDER  patient00002  study1   \n",
       "\n",
       "    opinion  label  \n",
       "0  positive      1  \n",
       "1  positive      1  \n",
       "2  positive      1  \n",
       "3  positive      1  \n",
       "4  positive      1  "
      ]
     },
     "execution_count": 7,
     "metadata": {},
     "output_type": "execute_result"
    }
   ],
   "source": [
    "# load training data\n",
    "train_set = load_data(train_set_filepath)\n",
    "\n",
    "# shape\n",
    "print(f'train_set.shape: {train_set.shape}')\n",
    "\n",
    "# preview\n",
    "train_set.head()\n"
   ]
  },
  {
   "cell_type": "code",
   "execution_count": 8,
   "id": "bd2b76d2",
   "metadata": {},
   "outputs": [
    {
     "data": {
      "image/png": "[encoded data removed]",
      "text/plain": [
       "<Figure size 1200x600 with 1 Axes>"
      ]
     },
     "metadata": {},
     "output_type": "display_data"
    }
   ],
   "source": [
    "plt.figure(figsize=(12,6),dpi=100)\n",
    "ax = sns.countplot(data=train_set, x=train_set['type'].sort_values(), hue=train_set['label'])\n",
    "ax.bar_label(ax.containers[0], padding=1)\n",
    "ax.bar_label(ax.containers[1], padding=1)\n",
    "plt.xlabel(None)\n",
    "plt.ylabel(None)\n",
    "plt.yticks([])\n",
    "plt.title('Number of normal and abnormal case studies per body part')\n",
    "plt.legend(loc=0, labels=['Normal','Abnormal'])\n",
    "plt.savefig('distribution_of_case_studies_per_body_part_train.svg')\n",
    "plt.show()"
   ]
  },
  {
   "cell_type": "code",
   "execution_count": 9,
   "id": "b81b8953",
   "metadata": {},
   "outputs": [
    {
     "name": "stdout",
     "output_type": "stream",
     "text": [
      "test_set.shape: (3197, 7)\n"
     ]
    },
    {
     "data": {
      "text/html": [
       "<div>\n",
       "<style scoped>\n",
       "    .dataframe tbody tr th:only-of-type {\n",
       "        vertical-align: middle;\n",
       "    }\n",
       "\n",
       "    .dataframe tbody tr th {\n",
       "        vertical-align: top;\n",
       "    }\n",
       "\n",
       "    .dataframe thead th {\n",
       "        text-align: right;\n",
       "    }\n",
       "</style>\n",
       "<table border=\"1\" class=\"dataframe\">\n",
       "  <thead>\n",
       "    <tr style=\"text-align: right;\">\n",
       "      <th></th>\n",
       "      <th>image_path</th>\n",
       "      <th>description</th>\n",
       "      <th>type</th>\n",
       "      <th>patient</th>\n",
       "      <th>study</th>\n",
       "      <th>opinion</th>\n",
       "      <th>label</th>\n",
       "    </tr>\n",
       "  </thead>\n",
       "  <tbody>\n",
       "    <tr>\n",
       "      <th>0</th>\n",
       "      <td>MURA-v1.1/valid/XR_WRIST/patient11185/study1_p...</td>\n",
       "      <td>WRIST_patient11185_study1_positive</td>\n",
       "      <td>WRIST</td>\n",
       "      <td>patient11185</td>\n",
       "      <td>study1</td>\n",
       "      <td>positive</td>\n",
       "      <td>1</td>\n",
       "    </tr>\n",
       "    <tr>\n",
       "      <th>1</th>\n",
       "      <td>MURA-v1.1/valid/XR_WRIST/patient11185/study1_p...</td>\n",
       "      <td>WRIST_patient11185_study1_positive</td>\n",
       "      <td>WRIST</td>\n",
       "      <td>patient11185</td>\n",
       "      <td>study1</td>\n",
       "      <td>positive</td>\n",
       "      <td>1</td>\n",
       "    </tr>\n",
       "    <tr>\n",
       "      <th>2</th>\n",
       "      <td>MURA-v1.1/valid/XR_WRIST/patient11185/study1_p...</td>\n",
       "      <td>WRIST_patient11185_study1_positive</td>\n",
       "      <td>WRIST</td>\n",
       "      <td>patient11185</td>\n",
       "      <td>study1</td>\n",
       "      <td>positive</td>\n",
       "      <td>1</td>\n",
       "    </tr>\n",
       "    <tr>\n",
       "      <th>3</th>\n",
       "      <td>MURA-v1.1/valid/XR_WRIST/patient11185/study1_p...</td>\n",
       "      <td>WRIST_patient11185_study1_positive</td>\n",
       "      <td>WRIST</td>\n",
       "      <td>patient11185</td>\n",
       "      <td>study1</td>\n",
       "      <td>positive</td>\n",
       "      <td>1</td>\n",
       "    </tr>\n",
       "    <tr>\n",
       "      <th>4</th>\n",
       "      <td>MURA-v1.1/valid/XR_WRIST/patient11186/study1_p...</td>\n",
       "      <td>WRIST_patient11186_study1_positive</td>\n",
       "      <td>WRIST</td>\n",
       "      <td>patient11186</td>\n",
       "      <td>study1</td>\n",
       "      <td>positive</td>\n",
       "      <td>1</td>\n",
       "    </tr>\n",
       "  </tbody>\n",
       "</table>\n",
       "</div>"
      ],
      "text/plain": [
       "                                          image_path  \\\n",
       "0  MURA-v1.1/valid/XR_WRIST/patient11185/study1_p...   \n",
       "1  MURA-v1.1/valid/XR_WRIST/patient11185/study1_p...   \n",
       "2  MURA-v1.1/valid/XR_WRIST/patient11185/study1_p...   \n",
       "3  MURA-v1.1/valid/XR_WRIST/patient11185/study1_p...   \n",
       "4  MURA-v1.1/valid/XR_WRIST/patient11186/study1_p...   \n",
       "\n",
       "                          description   type       patient   study   opinion  \\\n",
       "0  WRIST_patient11185_study1_positive  WRIST  patient11185  study1  positive   \n",
       "1  WRIST_patient11185_study1_positive  WRIST  patient11185  study1  positive   \n",
       "2  WRIST_patient11185_study1_positive  WRIST  patient11185  study1  positive   \n",
       "3  WRIST_patient11185_study1_positive  WRIST  patient11185  study1  positive   \n",
       "4  WRIST_patient11186_study1_positive  WRIST  patient11186  study1  positive   \n",
       "\n",
       "   label  \n",
       "0      1  \n",
       "1      1  \n",
       "2      1  \n",
       "3      1  \n",
       "4      1  "
      ]
     },
     "execution_count": 9,
     "metadata": {},
     "output_type": "execute_result"
    }
   ],
   "source": [
    "# load test data\n",
    "test_set = load_data(test_set_filepath)\n",
    "\n",
    "# shape\n",
    "print(f'test_set.shape: {test_set.shape}')\n",
    "\n",
    "# preview\n",
    "test_set.head()"
   ]
  },
  {
   "cell_type": "code",
   "execution_count": 10,
   "id": "d0cb315f",
   "metadata": {},
   "outputs": [],
   "source": [
    "def train_validation_split(dataset:pd.DataFrame):\n",
    "\n",
    "    # define x and y\n",
    "    x = dataset.drop(columns='label')\n",
    "    y = dataset.label\n",
    "\n",
    "    # split into training and validation sets\n",
    "    x_train, x_valid, y_train, y_valid = train_test_split(x,\n",
    "                                                          y,\n",
    "                                                          test_size=0.2,\n",
    "                                                          shuffle=True,\n",
    "                                                          stratify=dataset[['label','type']],\n",
    "                                                          random_state=1)\n",
    "    \n",
    "    # concat x and y sets\n",
    "    train_set = pd.concat([x_train, y_train], axis=1)\n",
    "    valid_set = pd.concat([x_valid, y_valid], axis=1)\n",
    "\n",
    "    # preview the sizes\n",
    "    print(f'train_set.shape: {train_set.shape}')\n",
    "    print(f'valid_set.shape: {valid_set.shape}')\n",
    "\n",
    "    return train_set, valid_set"
   ]
  },
  {
   "cell_type": "code",
   "execution_count": 11,
   "id": "0f816d98",
   "metadata": {},
   "outputs": [
    {
     "name": "stdout",
     "output_type": "stream",
     "text": [
      "train_set.shape: (29446, 7)\n",
      "valid_set.shape: (7362, 7)\n"
     ]
    }
   ],
   "source": [
    "# execute function\n",
    "train_set, valid_set = train_validation_split(train_set)"
   ]
  },
  {
   "cell_type": "code",
   "execution_count": 12,
   "id": "9fb82bd6",
   "metadata": {},
   "outputs": [
    {
     "data": {
      "image/png": "[encoded data removed]",
      "text/plain": [
       "<Figure size 1200x600 with 1 Axes>"
      ]
     },
     "metadata": {},
     "output_type": "display_data"
    }
   ],
   "source": [
    "plt.figure(figsize=(12,6),dpi=100)\n",
    "ax = sns.countplot(data=train_set, x=train_set['type'].sort_values(), color='lightblue', label='Train set')\n",
    "ax.bar_label(ax.containers[0], padding=1)\n",
    "ax = sns.countplot(data=valid_set, x=valid_set['type'].sort_values(), color='orange', label='Validation set')\n",
    "ax.bar_label(ax.containers[1], padding=1)\n",
    "plt.xlabel(None)\n",
    "plt.ylabel(None)\n",
    "plt.yticks([])\n",
    "plt.title('Number of case studies per body part')\n",
    "plt.legend()\n",
    "plt.savefig('number_of_case_studies_per_body_part_train.svg')\n",
    "plt.show()"
   ]
  },
  {
   "cell_type": "code",
   "execution_count": 13,
   "id": "18f7d7bd",
   "metadata": {},
   "outputs": [
    {
     "name": "stdout",
     "output_type": "stream",
     "text": [
      "Found 29446 validated image filenames.\n"
     ]
    }
   ],
   "source": [
    "# create ImageDataGenerator object\n",
    "train_image_data_gen = ImageDataGenerator(\n",
    "    rotation_range=30,\n",
    "    brightness_range=(0.8,1.2),\n",
    "    horizontal_flip=True,\n",
    "    rescale=random.uniform(0.95,1.3), # select random number between 0.95 and 1.3\n",
    "    preprocessing_function=preprocess_input\n",
    ")\n",
    "\n",
    "# generate images\n",
    "train_data_gen = train_image_data_gen.flow_from_dataframe(\n",
    "    train_set,\n",
    "    x_col='image_path',\n",
    "    y_col='label',\n",
    "    target_size=(224,224), # the dimensions to which all images found will be resized\n",
    "    class_mode='raw', # numpy array of values in y_col column, need to use this if values in y_col are of type int\n",
    "    batch_size=64, # size of the batches of data\n",
    "    shuffle=True,\n",
    "    seed=SEED\n",
    ")"
   ]
  },
  {
   "cell_type": "code",
   "execution_count": 14,
   "id": "7485cb3e",
   "metadata": {},
   "outputs": [
    {
     "name": "stdout",
     "output_type": "stream",
     "text": [
      "Found 7362 validated image filenames.\n"
     ]
    }
   ],
   "source": [
    "# create ImageDataGenerator object\n",
    "valid_image_data_gen = ImageDataGenerator(\n",
    "    preprocessing_function=preprocess_input\n",
    ")\n",
    "\n",
    "# generate images\n",
    "valid_data_gen = valid_image_data_gen.flow_from_dataframe(\n",
    "    valid_set,\n",
    "    x_col='image_path',\n",
    "    y_col='label',\n",
    "    target_size=(224,224), # the dimensions to which all images found will be resized\n",
    "    class_mode='raw', # numpy array of values in y_col column, need to use this if values in y_col are of type int\n",
    "    batch_size=64, # size of the batches of data\n",
    "    shuffle=True,\n",
    "    seed=SEED\n",
    ")"
   ]
  },
  {
   "cell_type": "code",
   "execution_count": 15,
   "id": "1884dd61",
   "metadata": {},
   "outputs": [
    {
     "name": "stdout",
     "output_type": "stream",
     "text": [
      "Found 3197 validated image filenames.\n"
     ]
    }
   ],
   "source": [
    "# create ImageDataGenerator object\n",
    "test_image_data_gen = ImageDataGenerator(\n",
    "    preprocessing_function=preprocess_input\n",
    ")\n",
    "\n",
    "# generate images\n",
    "test_data_gen = test_image_data_gen.flow_from_dataframe(\n",
    "    test_set,\n",
    "    x_col='image_path',\n",
    "    y_col='label',\n",
    "    target_size=(224,224), # the dimensions to which all images found will be resized\n",
    "    class_mode='raw', # numpy array of values in y_col column, need to use this if values in y_col are of type int\n",
    "    batch_size=64, # size of the batches of data\n",
    "    shuffle=False,\n",
    "    seed=SEED\n",
    ")"
   ]
  },
  {
   "cell_type": "markdown",
   "id": "20c40418",
   "metadata": {},
   "source": [
    "cccccccccccccccccc"
   ]
  },
  {
   "cell_type": "code",
   "execution_count": 16,
   "id": "3a77f70a",
   "metadata": {},
   "outputs": [],
   "source": [
    "def build_model(input_shape:tuple=(224,224,3),\n",
    "                learning_rate:float=1e-4,\n",
    "                conv_layers:int=1, # number of convolutional layers\n",
    "                conv_units:int=32, # number of neurons per convolutional layer\n",
    "                conv_activation:str='relu', # activation function for convolutional layers\n",
    "                hidden_dropout_prob:float=0.5, # dropout probability for neurons in hidden layers\n",
    "                hidden_units:int=256, # number of neurons per hidden layer\n",
    "                hidden_activation:str='relu', # activation function for hidden layers\n",
    "                output_activation:str='sigmoid', # activation function for output layer\n",
    "                metrics:list=['accuracy']\n",
    "               ):\n",
    "\n",
    "    # define the input layer\n",
    "    input = Input(\n",
    "            shape=input_shape, # input shape (number of features)\n",
    "            name='Input'\n",
    "    )\n",
    "    x = input\n",
    "    \n",
    "    # define the convolutional layers\n",
    "    for i in range(conv_layers):\n",
    "        \n",
    "        cnt = i # keep track of i\n",
    "        \n",
    "        # add conv2d layer\n",
    "        x = Conv2D(\n",
    "            filters=conv_units*(2**i),\n",
    "            kernel_size=(3,3),\n",
    "            strides=(1,1),\n",
    "            padding='same',\n",
    "            dilation_rate=(1,1),\n",
    "            activation=conv_activation,\n",
    "            name=f'Conv2D-{i+1}'\n",
    "        )(x)\n",
    "        \n",
    "        # add a batch normalization layer\n",
    "        x = BatchNormalization(\n",
    "            name=f'BatchNormalization-{i+1}'\n",
    "        )(x)\n",
    "        \n",
    "        # add max pooling layer\n",
    "        x = MaxPool2D(\n",
    "            pool_size=(2,2),\n",
    "            strides=(2,2),\n",
    "            padding='same',\n",
    "            name=f'MaxPool2D-{i+1}'\n",
    "        )(x)\n",
    "    \n",
    "    # flatten the convoled images\n",
    "    # so as to input them to a Dense Layer\n",
    "    x = Flatten(\n",
    "        name='Flatten'\n",
    "    )(x)\n",
    "    \n",
    "    # add dropout layer\n",
    "    x = Dropout(\n",
    "        rate=hidden_dropout_prob,\n",
    "        name=f'Dropout-1'\n",
    "    )(x)\n",
    "    \n",
    "    # add another dense layer\n",
    "    # before the output layer\n",
    "    x = Dense(\n",
    "        units=hidden_units,\n",
    "        kernel_initializer='glorot_uniform',\n",
    "        activation=hidden_activation,\n",
    "        name=f'Dense-1'\n",
    "    )(x)\n",
    "    \n",
    "    # add a batch normalization layer\n",
    "    x = BatchNormalization(\n",
    "        name=f'BatchNormalization-{cnt+2}'\n",
    "    )(x)\n",
    "    \n",
    "    # add dropout layer\n",
    "    x = Dropout(\n",
    "        rate=hidden_dropout_prob,\n",
    "        name=f'Dropout-2'\n",
    "    )(x)\n",
    "        \n",
    "    # define the output layer\n",
    "    output = Dense(\n",
    "             units=1, # predicted outcome\n",
    "             kernel_initializer='glorot_uniform',\n",
    "             activation=output_activation,\n",
    "             name='Output'\n",
    "    )(x)\n",
    "\n",
    "    # define the model\n",
    "    model = Model(inputs=input, outputs=output)\n",
    "    \n",
    "    # add L2 regularization to the convolutional and fully connected layers\n",
    "    l2_reg = l2(0.01)\n",
    "    for layer in model.layers:\n",
    "        if isinstance(layer, Conv2D) or isinstance(layer, Dense):\n",
    "            layer.kernel_regularizer = l2_reg\n",
    "            \n",
    "    # compile the model\n",
    "    model.compile(optimizer=Adam(learning_rate=learning_rate), loss='binary_crossentropy', metrics=metrics)\n",
    "    \n",
    "    return model"
   ]
  },
  {
   "cell_type": "markdown",
   "id": "43594574",
   "metadata": {},
   "source": [
    "callbacks"
   ]
  },
  {
   "cell_type": "code",
   "execution_count": 17,
   "id": "91806fb3",
   "metadata": {},
   "outputs": [],
   "source": [
    "# define EarlyStopping callback\n",
    "early_stopping = EarlyStopping(\n",
    "    monitor='val_loss',\n",
    "    patience=10,\n",
    "    mode='min',\n",
    "    restore_best_weights=True,\n",
    "    verbose=1)\n",
    "\n",
    "# define ReduceLROnPlateau callback\n",
    "reduce_lr = ReduceLROnPlateau(\n",
    "    monitor='val_loss',\n",
    "    patience=5,\n",
    "    mode='min',\n",
    "    factor=0.1,\n",
    "    min_lr=1e-10,\n",
    "    verbose=1)\n",
    "\n",
    "# define callbacks\n",
    "CALLBACKS = [early_stopping, reduce_lr]"
   ]
  },
  {
   "cell_type": "code",
   "execution_count": 18,
   "id": "9e927056",
   "metadata": {},
   "outputs": [],
   "source": [
    "def train_model(train_data,\n",
    "                valid_data,\n",
    "                input_shape:tuple=(224,224,3),\n",
    "                learning_rate:float=1e-4,\n",
    "                conv_layers:int=1, # number of convolutional layers\n",
    "                conv_units:int=32, # number of neurons per convolutional layer\n",
    "                conv_activation:str='relu', # activation function for convolutional layers\n",
    "                hidden_dropout_prob:float=0.5, # dropout probability for neurons in hidden layers\n",
    "                hidden_units:int=256, # number of neurons per hidden layer\n",
    "                hidden_activation:str='relu', # activation function for hidden layers\n",
    "                output_activation:str='softmax', # activation function for output layer\n",
    "                metrics:list=['accuracy'],\n",
    "                batch_size=128,\n",
    "                epochs=20,\n",
    "                verbose=1,\n",
    "                callbacks:list=None\n",
    "               ):\n",
    "    \n",
    "    # build the model\n",
    "    model = build_model(input_shape,\n",
    "                        learning_rate,\n",
    "                        conv_layers, # number of convolutional layers, if 0 then equal to LogReg\n",
    "                        conv_units, # number of neurons per convolutional layer\n",
    "                        conv_activation, # activation function for convolutional layers\n",
    "                        hidden_dropout_prob, # boolean to define whether to add dropout\n",
    "                        hidden_units, # number of neurons per hidden layer\n",
    "                        hidden_activation, # activation function for hidden layers\n",
    "                        output_activation, # activation function for output layer\n",
    "                        metrics\n",
    "                       )\n",
    "    \n",
    "    print('Started training.')\n",
    "    print('-----------------')\n",
    "    print()\n",
    "    \n",
    "    # train the model\n",
    "    hs = model.fit(x=train_data,\n",
    "                   batch_size=batch_size,\n",
    "                   epochs=epochs,\n",
    "                   verbose=verbose,\n",
    "                   callbacks=callbacks,\n",
    "                   validation_data=valid_data\n",
    "                  )\n",
    "    \n",
    "    print()\n",
    "    print('Finished training.')\n",
    "    print('------------------')\n",
    "    print()\n",
    "    \n",
    "    return model, hs"
   ]
  },
  {
   "cell_type": "code",
   "execution_count": null,
   "id": "e0923e11",
   "metadata": {},
   "outputs": [],
   "source": []
  },
  {
   "cell_type": "code",
   "execution_count": 19,
   "id": "60801950",
   "metadata": {},
   "outputs": [
    {
     "name": "stdout",
     "output_type": "stream",
     "text": [
      "Started training.\n",
      "-----------------\n",
      "\n",
      "461/461 [==============================] - 1574s 3s/step - loss: 0.8331 - accuracy: 0.4041 - val_loss: 0.6719 - val_accuracy: 0.4041 - lr: 1.0000e-04\n",
      "\n",
      "Finished training.\n",
      "------------------\n",
      "\n",
      "Elapsed time: 1575 secs.\n"
     ]
    }
   ],
   "source": [
    "# start time\n",
    "st = time.time()\n",
    "\n",
    "# execute function to train the model\n",
    "cnn_model, cnn_hs = train_model(train_data=train_data_gen,\n",
    "                                valid_data=valid_data_gen,\n",
    "                                epochs=1,\n",
    "                                callbacks=CALLBACKS\n",
    "                               )\n",
    "\n",
    "# end time\n",
    "et = time.time()\n",
    "\n",
    "print(f'Elapsed time: {int(et-st)} secs.')"
   ]
  },
  {
   "cell_type": "code",
   "execution_count": 20,
   "id": "583e5f37",
   "metadata": {},
   "outputs": [
    {
     "name": "stdout",
     "output_type": "stream",
     "text": [
      "Model: \"model\"\n",
      "_________________________________________________________________\n",
      " Layer (type)                Output Shape              Param #   \n",
      "=================================================================\n",
      " Input (InputLayer)          [(None, 224, 224, 3)]     0         \n",
      "                                                                 \n",
      " Conv2D-1 (Conv2D)           (None, 224, 224, 32)      896       \n",
      "                                                                 \n",
      " BatchNormalization-1 (Batc  (None, 224, 224, 32)      128       \n",
      " hNormalization)                                                 \n",
      "                                                                 \n",
      " MaxPool2D-1 (MaxPooling2D)  (None, 112, 112, 32)      0         \n",
      "                                                                 \n",
      " Flatten (Flatten)           (None, 401408)            0         \n",
      "                                                                 \n",
      " Dropout-1 (Dropout)         (None, 401408)            0         \n",
      "                                                                 \n",
      " Dense-1 (Dense)             (None, 256)               102760704 \n",
      "                                                                 \n",
      " BatchNormalization-2 (Batc  (None, 256)               1024      \n",
      " hNormalization)                                                 \n",
      "                                                                 \n",
      " Dropout-2 (Dropout)         (None, 256)               0         \n",
      "                                                                 \n",
      " Output (Dense)              (None, 1)                 257       \n",
      "                                                                 \n",
      "=================================================================\n",
      "Total params: 102763009 (392.01 MB)\n",
      "Trainable params: 102762433 (392.01 MB)\n",
      "Non-trainable params: 576 (2.25 KB)\n",
      "_________________________________________________________________\n"
     ]
    }
   ],
   "source": [
    "cnn_model.summary()"
   ]
  },
  {
   "cell_type": "code",
   "execution_count": 21,
   "id": "fdc56adb",
   "metadata": {},
   "outputs": [
    {
     "name": "stdout",
     "output_type": "stream",
     "text": [
      "You must install pydot (`pip install pydot`) and install graphviz (see instructions at https://graphviz.gitlab.io/download/) for plot_model to work.\n"
     ]
    }
   ],
   "source": [
    "plot_model(cnn_model, to_file='cnn_model.png', show_shapes=True, show_layer_names=True)"
   ]
  },
  {
   "cell_type": "markdown",
   "id": "5f235ec6",
   "metadata": {},
   "source": [
    "## *Model Evaluation*\n",
    "\n",
    "- *In this step, we will evaluate the performance of our model*\n",
    "- *In particular, we will evaluate its performance both during the training phase and making predictions*\n",
    "- *For this reason, we will create a function which will help us to plot the learning curves*\n",
    "\n",
    "##### *Define a function to plot learning curves*"
   ]
  },
  {
   "cell_type": "code",
   "execution_count": 22,
   "id": "d1b390df",
   "metadata": {},
   "outputs": [],
   "source": [
    "def plot_history(hs, epochs, metric):\n",
    "    print()\n",
    "    plt.style.use('dark_background')\n",
    "    plt.rcParams['figure.figsize'] = [15, 8]\n",
    "    plt.rcParams['font.size'] = 16\n",
    "    plt.clf()\n",
    "    for label in hs:\n",
    "        plt.plot(hs[label].history[metric], label='{0:s} train {1:s}'.format(label, metric), linewidth=2)\n",
    "        plt.plot(hs[label].history['val_{0:s}'.format(metric)], label='{0:s} validation {1:s}'.format(label, metric), linewidth=2)\n",
    "    x_ticks = np.arange(0, epochs + 1, epochs / 10)\n",
    "    x_ticks [0] += 1\n",
    "    plt.xticks(x_ticks)\n",
    "    plt.ylim((0, 1))\n",
    "    plt.xlabel('Epochs')\n",
    "    plt.ylabel('Loss' if metric=='loss' else 'Accuracy')\n",
    "    plt.legend()\n",
    "    plt.savefig(f'cnn_learning_curves_{metric}.svg')\n",
    "    plt.show()"
   ]
  },
  {
   "cell_type": "code",
   "execution_count": 29,
   "id": "8f046e30",
   "metadata": {},
   "outputs": [],
   "source": [
    "epochs=1"
   ]
  },
  {
   "cell_type": "code",
   "execution_count": 30,
   "id": "763380d8",
   "metadata": {},
   "outputs": [
    {
     "name": "stdout",
     "output_type": "stream",
     "text": [
      "CNN History Results:\n",
      "---\n",
      "Train Loss     : 0.83312\n",
      "Validation Loss: 0.67193\n",
      "---\n",
      "Train Accuracy     : 0.40406\n",
      "Validation Accuracy: 0.40410\n",
      "\n"
     ]
    },
    {
     "data": {
      "image/png": "[encoded data removed]",
      "text/plain": [
       "<Figure size 1500x800 with 1 Axes>"
      ]
     },
     "metadata": {},
     "output_type": "display_data"
    },
    {
     "name": "stdout",
     "output_type": "stream",
     "text": [
      "\n"
     ]
    },
    {
     "data": {
      "image/png": "[encoded data removed]",
      "text/plain": [
       "<Figure size 1500x800 with 1 Axes>"
      ]
     },
     "metadata": {},
     "output_type": "display_data"
    }
   ],
   "source": [
    "print(\"CNN History Results:\")\n",
    "print(\"---\")\n",
    "print(\"Train Loss     : {0:.5f}\".format(cnn_hs.history['loss'][-1]))\n",
    "print(\"Validation Loss: {0:.5f}\".format(cnn_hs.history['val_loss'][-1]))\n",
    "print(\"---\")\n",
    "print(\"Train Accuracy     : {0:.5f}\".format(cnn_hs.history['accuracy'][-1]))\n",
    "print(\"Validation Accuracy: {0:.5f}\".format(cnn_hs.history['val_accuracy'][-1]))\n",
    "\n",
    "# plot train and validation error per epoch\n",
    "plot_history(hs={'CNN': cnn_hs}, epochs=epochs, metric='loss')\n",
    "plot_history(hs={'CNN': cnn_hs}, epochs=epochs, metric='accuracy')"
   ]
  },
  {
   "cell_type": "code",
   "execution_count": 25,
   "id": "49f300a3",
   "metadata": {},
   "outputs": [
    {
     "name": "stdout",
     "output_type": "stream",
     "text": [
      "50/50 - 32s - loss: 0.6901 - accuracy: 0.4786 - 32s/epoch - 645ms/step\n",
      "\n",
      "Test Loss         : 0.69006\n",
      "Test Accuracy     : 0.47857\n"
     ]
    }
   ],
   "source": [
    "# evaluate on test data\n",
    "model_eval = cnn_model.evaluate(test_data_gen, verbose=2)\n",
    "\n",
    "# print results\n",
    "print()\n",
    "print(\"Test Loss         : {0:.5f}\".format(model_eval[0]))\n",
    "print(\"Test Accuracy     : {0:.5f}\".format(model_eval[1]))"
   ]
  },
  {
   "cell_type": "code",
   "execution_count": 26,
   "id": "49cc8593",
   "metadata": {},
   "outputs": [
    {
     "name": "stdout",
     "output_type": "stream",
     "text": [
      "50/50 [==============================] - 30s 582ms/step\n"
     ]
    }
   ],
   "source": [
    "# make predictions\n",
    "predictions = cnn_model.predict(test_data_gen)"
   ]
  },
  {
   "cell_type": "code",
   "execution_count": 27,
   "id": "745b648d",
   "metadata": {},
   "outputs": [],
   "source": [
    "def evaluate_each_study_type(test_set, predictions):\n",
    "\n",
    "    # append predictions to the test set\n",
    "    test_set['predictions'] = predictions.ravel()\n",
    "    test_set['predictions'] = np.where(test_set.predictions >= 0.5,1,0)\n",
    "\n",
    "    # list of distinct study types\n",
    "    study_types = sorted(test_set['type'].unique().tolist())\n",
    "\n",
    "    # loop through study types\n",
    "    for i, st in enumerate(study_types):\n",
    "\n",
    "        # keep records of the current study type\n",
    "        df_t = test_set[test_set['type']==st]\n",
    "\n",
    "        # evaluate model performance on the current study type\n",
    "        precision = precision_score(df_t.label.values, df_t.predictions.values)\n",
    "        recall = recall_score(df_t.label.values, df_t.predictions.values)\n",
    "        f1_score = 2 * (precision * recall) / (precision + recall)\n",
    "        accuracy = accuracy_score(df_t.label.values, df_t.predictions.values)\n",
    "        roc_auc = roc_auc_score(df_t.label.values, df_t.predictions.values)\n",
    "        cohen_kappa = cohen_kappa_score(df_t.label.values, df_t.predictions.values)\n",
    "\n",
    "        # print results\n",
    "        print(f\"{i+1} - Study Type: {st}\")\n",
    "        print(\"------------------------\")\n",
    "        print(f\"    Precision: {round(precision,5)}\")\n",
    "        print(f\"       Recall: {round(recall,5)}\")\n",
    "        print(f\"     F1 Score: {round(f1_score,5)}\")\n",
    "        print(f\"     Accuracy: {round(accuracy,5)}\")\n",
    "        print(f\"      ROC AUC: {round(roc_auc,5)}\")\n",
    "        print(f\"Cohen's Kappa: {round(cohen_kappa,5)}\")\n",
    "        print(\"========================\")\n",
    "        print()"
   ]
  },
  {
   "cell_type": "code",
   "execution_count": 28,
   "id": "0c04cdd9",
   "metadata": {},
   "outputs": [
    {
     "name": "stdout",
     "output_type": "stream",
     "text": [
      "1 - Study Type: ELBOW\n",
      "------------------------\n",
      "    Precision: 0.49462\n",
      "       Recall: 1.0\n",
      "     F1 Score: 0.66187\n",
      "     Accuracy: 0.49462\n",
      "      ROC AUC: 0.5\n",
      "Cohen's Kappa: 0.0\n",
      "========================\n",
      "\n",
      "2 - Study Type: FINGER\n",
      "------------------------\n",
      "    Precision: 0.53579\n",
      "       Recall: 1.0\n",
      "     F1 Score: 0.69774\n",
      "     Accuracy: 0.53579\n",
      "      ROC AUC: 0.5\n",
      "Cohen's Kappa: 0.0\n",
      "========================\n",
      "\n",
      "3 - Study Type: FOREARM\n",
      "------------------------\n",
      "    Precision: 0.50166\n",
      "       Recall: 1.0\n",
      "     F1 Score: 0.66814\n",
      "     Accuracy: 0.50166\n",
      "      ROC AUC: 0.5\n",
      "Cohen's Kappa: 0.0\n",
      "========================\n",
      "\n",
      "4 - Study Type: HAND\n",
      "------------------------\n",
      "    Precision: 0.41087\n",
      "       Recall: 1.0\n",
      "     F1 Score: 0.58243\n",
      "     Accuracy: 0.41087\n",
      "      ROC AUC: 0.5\n",
      "Cohen's Kappa: 0.0\n",
      "========================\n",
      "\n",
      "5 - Study Type: HUMERUS\n",
      "------------------------\n",
      "    Precision: 0.48611\n",
      "       Recall: 1.0\n",
      "     F1 Score: 0.65421\n",
      "     Accuracy: 0.48611\n",
      "      ROC AUC: 0.5\n",
      "Cohen's Kappa: 0.0\n",
      "========================\n",
      "\n",
      "6 - Study Type: SHOULDER\n",
      "------------------------\n",
      "    Precision: 0.49378\n",
      "       Recall: 1.0\n",
      "     F1 Score: 0.66112\n",
      "     Accuracy: 0.49378\n",
      "      ROC AUC: 0.5\n",
      "Cohen's Kappa: 0.0\n",
      "========================\n",
      "\n",
      "7 - Study Type: WRIST\n",
      "------------------------\n",
      "    Precision: 0.44765\n",
      "       Recall: 1.0\n",
      "     F1 Score: 0.61845\n",
      "     Accuracy: 0.44765\n",
      "      ROC AUC: 0.5\n",
      "Cohen's Kappa: 0.0\n",
      "========================\n",
      "\n"
     ]
    }
   ],
   "source": [
    "evaluate_each_study_type(test_set, predictions)"
   ]
  },
  {
   "cell_type": "code",
   "execution_count": null,
   "id": "338e6b6e",
   "metadata": {},
   "outputs": [],
   "source": []
  },
  {
   "cell_type": "code",
   "execution_count": null,
   "id": "2f0e838c",
   "metadata": {},
   "outputs": [],
   "source": []
  },
  {
   "cell_type": "code",
   "execution_count": null,
   "id": "db19d276",
   "metadata": {},
   "outputs": [],
   "source": []
  },
  {
   "cell_type": "code",
   "execution_count": null,
   "id": "8c1b2377",
   "metadata": {},
   "outputs": [],
   "source": []
  },
  {
   "cell_type": "code",
   "execution_count": null,
   "id": "b23d6cc5",
   "metadata": {},
   "outputs": [],
   "source": []
  },
  {
   "cell_type": "code",
   "execution_count": null,
   "id": "8c8424bb",
   "metadata": {},
   "outputs": [],
   "source": []
  },
  {
   "cell_type": "code",
   "execution_count": null,
   "id": "4adc9a2c",
   "metadata": {},
   "outputs": [],
   "source": []
  },
  {
   "cell_type": "code",
   "execution_count": null,
   "id": "3211b266",
   "metadata": {},
   "outputs": [],
   "source": []
  }
 ],
 "metadata": {
  "kernelspec": {
   "display_name": "Python 3 (ipykernel)",
   "language": "python",
   "name": "python3"
  },
  "language_info": {
   "codemirror_mode": {
    "name": "ipython",
    "version": 3
   },
   "file_extension": ".py",
   "mimetype": "text/x-python",
   "name": "python",
   "nbconvert_exporter": "python",
   "pygments_lexer": "ipython3",
   "version": "3.11.1"
  }
 },
 "nbformat": 4,
 "nbformat_minor": 5
}
